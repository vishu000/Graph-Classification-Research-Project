{
 "cells": [
  {
   "cell_type": "code",
   "execution_count": 1,
   "metadata": {
    "id": "w8duUrpagly0"
   },
   "outputs": [],
   "source": [
    "#@title Libraries\n",
    "import numpy as np\n",
    "import unittest\n",
    "import glob\n",
    "import os\n",
    "import matplotlib.pyplot as plt"
   ]
  },
  {
   "cell_type": "code",
   "execution_count": 2,
   "metadata": {
    "id": "LdWN9IcKuyW0"
   },
   "outputs": [],
   "source": [
    "#@title initialize\n",
    "def initialize(path,testratio=0.3):\n",
    "    # Here we take the file and store them in the list.\n",
    "    # we the sort the list containing files in order and store in filespaths and labels in labelspaths.  \n",
    "    filespaths = list(np.sort(glob.glob(path+\"//*graph.txt\")))\n",
    "    labelspaths = list(np.sort(glob.glob(path+\"//*label.txt\")))\n",
    "    # we filelist to True\n",
    "    filelist=True \n",
    "    # we find the length of the filespaths list : this can be used in other fuction\n",
    "    size = len(filespaths)\n",
    "    # we took testratio and substracted it from size so that we can divide some for testing and some for training.\n",
    "    trainindexend = size - int(testratio*size)\n",
    "    # we return the filespaths and labelspaths and trainindexend\n",
    "    return filespaths, labelspaths, trainindexend"
   ]
  },
  {
   "cell_type": "code",
   "execution_count": 3,
   "metadata": {
    "id": "hWKDuI2HhBr-"
   },
   "outputs": [],
   "source": [
    "#@title graphreaderbatch\n",
    "# here we the filespaths list and set filelist to False\n",
    "def graphreaderbatch(filespath,filelist=False):\n",
    "    # Here we check if the files are in dict of lists or lists\n",
    "    # if it is dict of lists then changes to list\n",
    "    if filelist :\n",
    "        filespaths = filespath['data']\n",
    "        labelspaths = filespath['label']\n",
    "    # Else directly list will store in the given variables.\n",
    "    else :\n",
    "        filespaths = glob.glob(filespath+\"//*graph.txt\")\n",
    "        labelspaths = glob.glob(filespath+\"//*label.txt\")\n",
    "    # here numexamples is the length of the labelslist\n",
    "    numexamples = len(labelspaths)\n",
    "    # here we initialize first with empty list to store adjacency matrix\n",
    "    adj = [] \n",
    "    # here we initialize first with empty  list to store number of nodes in the graph\n",
    "    nnodes = []\n",
    "    # here we initialize first with empty  list to store number of nodes in the graph\n",
    "    labels = []\n",
    "    \n",
    "    # Here we append the adjacent matrix and number of nodes in the graph.txt file to the adj list and nnodes listcoorespondingly.\n",
    "    for i in range (len(filespaths)):\n",
    "        adj.append(np.loadtxt(filespaths[i],skiprows=1))\n",
    "        nnodes.append(int(open(filespaths[i]).readline().rstrip()))\n",
    "\n",
    "    # Here we append the labels in the label.txt file to the labels list.\n",
    "    if len(labelspaths) != 0:\n",
    "        for i in range (len(labelspaths)):\n",
    "            labels.append(int(open(labelspaths[i]).readline().rstrip()))\n",
    "    # here we return the adjacency matrix, nnodes, labels, numexamples.\n",
    "    return adj, nnodes, labels, numexamples"
   ]
  },
  {
   "cell_type": "code",
   "execution_count": 4,
   "metadata": {
    "id": "Uk-3sKTk8g5P"
   },
   "outputs": [],
   "source": [
    "#@title graphdatasetinit\n",
    "def graphdatasetinit(path,filelist=False):\n",
    "    # we can this function to read the adjacency matrix, number of nodes and the labels.\n",
    "    adj, nnodes, labels, numexamples = graphreaderbatch(path,filelist)\n",
    "    # we store adjacency matrix in array format\n",
    "    adj = np.array(adj,dtype=object)\n",
    "    # we store labels in array format\n",
    "    labels = np.array(labels)\n",
    "    # we store number nodes in array format\n",
    "    nnodes = np.array(nnodes)\n",
    "    # we initilize the index in the epoch to 0\n",
    "    indexinepoch = 0\n",
    "    epochcompleted = 0\n",
    "    # here we calcalate the length of the adjacency matrix list and store in numexamples.\n",
    "    numexamples = int(len(adj))\n",
    "    #return all parameters\n",
    "    return adj, nnodes, labels, indexinepoch, epochcompleted, numexamples "
   ]
  },
  {
   "cell_type": "code",
   "execution_count": 5,
   "metadata": {
    "id": "yNrA_E0Gv4Cu"
   },
   "outputs": [],
   "source": [
    "#@title gettrain_\n",
    "def gettrain_(filespaths,labelspaths,trainindexend):\n",
    "    # here we seperate the graphs from 0 to 7 for training part by slicing. \n",
    "    trainpaths = {'data':filespaths[:trainindexend],\n",
    "                    'label':labelspaths[:trainindexend] }\n",
    "    filelist = True\n",
    "    # Here we call the graphdataset to read the data from training list files. \n",
    "    train_adj, train_nnodes, train_labels, train_indexinepoch, train_epochcompleted, train_numexamples = graphdatasetinit(trainpaths,filelist)\n",
    "\n",
    "    # we return the object of the class.\n",
    "    return trainpaths, train_adj, train_nnodes, train_labels, train_indexinepoch, train_epochcompleted, train_numexamples"
   ]
  },
  {
   "cell_type": "code",
   "execution_count": 6,
   "metadata": {
    "id": "2WGwb9Qdx_Ze"
   },
   "outputs": [],
   "source": [
    "#@title gettest_\n",
    "def gettest_(filespaths,labelspaths,trainindexend):\n",
    "    # here we seperate the graphs from 7 to end of the list for testing part by slicing.\n",
    "    testpaths  = {'data':filespaths[trainindexend:],\n",
    "                    'label':labelspaths[trainindexend:] }\n",
    "    filelist = True\n",
    "    # Here we call the graphdataset to read the data from testing list files. \n",
    "    test_adj, test_nnodes, test_labels, test_indexinepoch, test_epochcompleted, test_numexamples = graphdatasetinit(testpaths,filelist)\n",
    "    \n",
    "    # we return the object of the class.\n",
    "    return testpaths, test_adj, test_nnodes, test_labels, test_indexinepoch, test_epochcompleted, test_numexamples"
   ]
  },
  {
   "cell_type": "code",
   "execution_count": 7,
   "metadata": {
    "id": "oRFxSOTE36BF"
   },
   "outputs": [],
   "source": [
    "#@title graphdatasetnextbatch\n",
    "def graphdatasetnextbatch(batchsize, adj, nnodes, labels, indexinepoch, epochcompleted, numexamples, shuffle=True):\n",
    "    # we take start variable and assign indexinepoch.\n",
    "    start = indexinepoch\n",
    "\n",
    "    #Here we check this condidtion and arange and shuffle the graphs list.\n",
    "    if start == 0 and epochcompleted == 0 :\n",
    "        idx = np.arange(0,numexamples)\n",
    "        np.random.shuffle(idx)\n",
    "        adj    = adj[idx]\n",
    "        labels = labels[idx]\n",
    "        nnodes = nnodes[idx]\n",
    "\n",
    "    # Here we check the condition divide the list of graphs into batchsize\n",
    "    if start+batchsize <= numexamples:\n",
    "        indexinepoch += batchsize\n",
    "        end = indexinepoch\n",
    "        adjbatch = adj[start:end]\n",
    "        labelsbatch = labels[start:end]\n",
    "        nnodesbatch = nnodes[start:end]\n",
    "        #Here we return the adjacency matrix, label list, nnodes list of batchsize.\n",
    "        return adjbatch,nnodesbatch,labelsbatch\n",
    "\n",
    "    else :\n",
    "        epochcompleted += 1\n",
    "        restnumexamples = numexamples - start\n",
    "        \n",
    "        adjrest = adj[start:numexamples]\n",
    "        labelsrest  = labels[start:numexamples]\n",
    "        nnodesrest = nnodes[start:numexamples]\n",
    "\n",
    "        idx0 = np.arange(0,numexamples)\n",
    "        np.random.shuffle(idx0)\n",
    "        adj = adj[idx0]\n",
    "        labels = labels[idx0]\n",
    "        nnodes = nnodes[idx0]\n",
    "        \n",
    "        start = 0\n",
    "        indexinepoch = batchsize - restnumexamples\n",
    "        end = indexinepoch\n",
    "        \n",
    "        adjnew = adj[start:end]\n",
    "        labelsnew = labels[start:end]\n",
    "        nnodesnew = nnodes[start:end]\n",
    "\n",
    "        adjbatch = np.concatenate((adjrest,adjnew),axis=0)\n",
    "        labelsbatch = np.concatenate((labelsrest,labelsnew),axis=0)\n",
    "        nnodesbatch = np.concatenate((nnodesrest,nnodesnew),axis=0)\n",
    "        #Here we return the adjacency matrix, label list, nnodes list of batchsize.\n",
    "        return adjbatch,nnodesbatch,labelsbatch"
   ]
  },
  {
   "cell_type": "code",
   "execution_count": 8,
   "metadata": {
    "id": "3SFtH5L5yndY"
   },
   "outputs": [],
   "source": [
    "#@title gnninitialize\n",
    "def gnninitialize(D):\n",
    "    \"\"\"\n",
    "    initialization, takes hyper param T and D\n",
    "    T : aggregation step and D : feature vector size\n",
    "    W, A, b : parameters of the network. W and A is\n",
    "                initialized using normal distribution\n",
    "                with sigma = 0.4 and mean = 0\n",
    "    dLdW, dLdA, dLdb : gradient of the parameters\n",
    "    \"\"\"\n",
    "    sigma = 0.4\n",
    "    W = sigma * np.random.randn(D,D)\n",
    "    A = sigma * np.random.randn(D)\n",
    "    b = 0\n",
    "    dLdW = np.zeros((D,D))\n",
    "    dLdA = np.zeros((D))\n",
    "    dLdb = 0\n",
    "    return W, A, dLdW, dLdA, b, dLdb"
   ]
  },
  {
   "cell_type": "code",
   "execution_count": 9,
   "metadata": {
    "id": "N3EjgIjBO4sq"
   },
   "outputs": [],
   "source": [
    "#@title aggregation1\n",
    "def aggregation1(X,adj):\n",
    "    \"\"\"\n",
    "    Function to calculate aggregation 1, the adjacency \n",
    "    matrix is used to represent the nodes connections \n",
    "    within the graph\n",
    "    Args :\n",
    "        X   : Feature matrix\n",
    "        adj : Adjacency matrix representing the Graph\n",
    "    \n",
    "    Return :1\n",
    "        a = sum of feature matrix \n",
    "    \"\"\"\n",
    "    a = np.dot(adj,X)\n",
    "    return a"
   ]
  },
  {
   "cell_type": "code",
   "execution_count": 10,
   "metadata": {
    "id": "ZXrCmWOaQbZf"
   },
   "outputs": [],
   "source": [
    "#@title aggregation2\n",
    "def aggregation2(W,a):\n",
    "    \"\"\"\n",
    "    Function to calculate aggregation 2, here transpose \n",
    "    is used to easily calculating the aggregation using \n",
    "    dot product\n",
    "    Args :\n",
    "        W : D x D weight matrix \n",
    "        a : Output of aggregation1 \n",
    "\n",
    "    Return :\n",
    "        x : W . a\n",
    "    \"\"\"\n",
    "    x = np.dot(W,np.transpose(a))\n",
    "    x = np.transpose(x)\n",
    "    return x"
   ]
  },
  {
   "cell_type": "code",
   "execution_count": 11,
   "metadata": {
    "id": "QSXCMwnTQgzh"
   },
   "outputs": [],
   "source": [
    "#@title relu\n",
    "def relu(inp):\n",
    "    \"\"\"\n",
    "    Rectifier Linear Unit Function, max(0,inp) \n",
    "    \"\"\"\n",
    "    out = np.maximum(inp,1)\n",
    "    return out"
   ]
  },
  {
   "cell_type": "code",
   "execution_count": 12,
   "metadata": {
    "id": "OtCc__BTQoma"
   },
   "outputs": [],
   "source": [
    "#@title readout\n",
    "def readout(X):\n",
    "    \"\"\"\n",
    "    Function to sum all node's feature vectors\n",
    "    Args :\n",
    "        X : Feature vectors \n",
    "    Return :\n",
    "        hG : Sum of all feature vectors\n",
    "    \"\"\"\n",
    "    hG = np.sum(X,axis=0)\n",
    "    return hG"
   ]
  },
  {
   "cell_type": "code",
   "execution_count": 13,
   "metadata": {
    "id": "3uMUUq0oQpC3"
   },
   "outputs": [],
   "source": [
    "#@title so\n",
    "def so(hG,A,b):\n",
    "    \"\"\"\n",
    "    Predictor function with parameter A and b\n",
    "    Args :\n",
    "        hG : last output of aggregation module\n",
    "        A  : D size parameter\n",
    "        b  : bias of predictor function\n",
    "    Return :\n",
    "        s : output of predictor function\n",
    "    \"\"\"\n",
    "    s1 = np.dot(hG,A)+b\n",
    "    return s1\n"
   ]
  },
  {
   "cell_type": "code",
   "execution_count": 14,
   "metadata": {
    "id": "4jeOtO0SQ9GF"
   },
   "outputs": [],
   "source": [
    "#@title sigmoid\n",
    "def sigmoid(s):\n",
    "        p = 1/(1+np.exp(-s))\n",
    "        return p"
   ]
  },
  {
   "cell_type": "code",
   "execution_count": 15,
   "metadata": {
    "id": "m2lgeFsNRDbe"
   },
   "outputs": [],
   "source": [
    "#@title output\n",
    "def output(p):\n",
    "    \"\"\"\n",
    "    output the predicted class\n",
    "    Args :\n",
    "        p : output of sigmoid function\n",
    "    Return :\n",
    "        out : predicted class 0 or 1\n",
    "\n",
    "    \"\"\"\n",
    "    out = np.where((p>0.5),1,0)\n",
    "    return out\n"
   ]
  },
  {
   "cell_type": "code",
   "execution_count": 16,
   "metadata": {
    "id": "0JKjTHnVRMdm"
   },
   "outputs": [],
   "source": [
    "#@title forward\n",
    "def forward(nnodes, adj, D, W, A, b):\n",
    "    \"\"\"\n",
    "    forward method to calculate forward propagation of the nets\n",
    "    Args :\n",
    "        nnodes  : number of nodes in the batch\n",
    "        adj     : adjacency matrix\n",
    "        W       : parameter matrix W\n",
    "        A       : parameter vector A\n",
    "        b       : bias b\n",
    "    Return : \n",
    "        slist       : vector of predictor value \n",
    "        output list : vector of predicted class`\n",
    "    \"\"\"\n",
    "    slist = []\n",
    "    outputlist = []\n",
    "\n",
    "    X = []\n",
    "    \n",
    "    # feature vector definition\n",
    "    feat =  np.zeros(D)\n",
    "    feat[0] = 1\n",
    "    \n",
    "    tempnnodes = nnodes\n",
    "    tempadj = adj\n",
    "\n",
    "    for i in range(adj.shape[0]):\n",
    "        X.append(np.tile(feat,[nnodes[i],1]))\n",
    "        for j in range(T):\n",
    "            a = aggregation1(X[i],adj[i])\n",
    "            x = aggregation2(W,a)\n",
    "            out = relu(x)\n",
    "            X[i] = out\n",
    "        # we sum the column elements     \n",
    "        hG = readout(X[i])\n",
    "        # From here it is same as simple neural network\n",
    "        s = so(hG,A,b)       # Linear part\n",
    "        p = sigmoid(s)       # y_hat\n",
    "        output1 = output(p)  # 0/1 value for the binary classification\n",
    "        slist.append(s)\n",
    "        outputlist.append(int(output1))\n",
    "    return slist,outputlist, tempnnodes, tempadj"
   ]
  },
  {
   "cell_type": "code",
   "execution_count": 17,
   "metadata": {
    "id": "veU2cn3tRNgy"
   },
   "outputs": [],
   "source": [
    "#@title loss\n",
    "def loss(s,y):\n",
    "    \"\"\"\n",
    "    loss function\n",
    "    Args :\n",
    "        s   : vector of predictor values\n",
    "        y   : vector of true class labels\n",
    "    Return :\n",
    "        losslist : vector of loss values\n",
    "    \"\"\"\n",
    "    losslist = []\n",
    "    for i in range (len(s)):\n",
    "        if np.exp(s[i]) > np.finfo(type(np.exp(s[i]))).max:\n",
    "            loss = y[i]*np.log(1+np.exp(-s[i])) + (1-y[i]) * s[i] #avoid overflow\n",
    "        else :\n",
    "            loss = y[i]*np.log(1+np.exp(-s[i])) + (1-y[i]) * np.log(1+np.exp(s[i]))\n",
    "        losslist.append(loss)\n",
    "\n",
    "    return losslist"
   ]
  },
  {
   "cell_type": "code",
   "execution_count": 29,
   "metadata": {
    "id": "Gns_KDhBRj_5"
   },
   "outputs": [],
   "source": [
    "#@title backward\n",
    "def backward(loss1, y, epsilon, tempnnodes, tempadj, D, W, A, b):\n",
    "    \"\"\"\n",
    "    Backpropagation function to calculate and update \n",
    "    the gradient of the neural network\n",
    "    Args :\n",
    "        loss    : loss vector\n",
    "        y       : true class label\n",
    "        epsilon : small pertubation value for numerical \n",
    "                    differentiation \n",
    "\n",
    "    \"\"\"\n",
    "    tempdLdW = np.zeros((D,D))\n",
    "    tempdLdA = np.zeros((D))\n",
    "    tempdLdb = 0\n",
    "    batchsize = len(loss1)\n",
    "#     print(batchsize)\n",
    "    for i in range (D):\n",
    "        for j in range (D):\n",
    "            deltaW = np.zeros((D,D))\n",
    "            deltaW[i,j] = epsilon\n",
    "            Wepsilon = W+deltaW\n",
    "            W = Wepsilon            # updated W based on epsilon\n",
    "            sep, _, tempnnodes, tempadj = forward(tempnnodes, tempadj, D, W, A, b)\n",
    "            lossep = loss(sep,y)\n",
    "            for k in range(batchsize):\n",
    "                tempdLdW[i,j] += (lossep[k] - loss1[k])/epsilon\n",
    "            tempdLdW[i,j] = tempdLdW[i,j]/batchsize\n",
    "\n",
    "    for i in range (D):\n",
    "        deltaA = np.zeros((D))\n",
    "        deltaA[i] = epsilon\n",
    "        Aepsilon = A + deltaA\n",
    "        A=Aepsilon\n",
    "        sep, _, tempnnodes, tempadj = forward(tempnnodes, tempadj, D, W, A, b)\n",
    "        lossep = loss(sep,y)   \n",
    "        for j in range(batchsize):\n",
    "            tempdLdA[i] += (lossep[j] - loss1[j])/epsilon\n",
    "        tempdLdA[i] = tempdLdA[i]/batchsize\n",
    "\n",
    "    bepsilon = b + epsilon\n",
    "    b=bepsilon\n",
    "    sep, _, tempnnodes, tempadj = forward(tempnnodes, tempadj, D, W, A, b)\n",
    "    lossep = loss(sep,y) \n",
    "    for i in range(batchsize):\n",
    "        tempdLdb += (lossep[i] - loss1[i])/epsilon\n",
    "    tempdLdb = tempdLdb/batchsize\n",
    "\n",
    "    dLdW = tempdLdW\n",
    "    dLdA = tempdLdA\n",
    "    dLdb = tempdLdb\n",
    "    return dLdW, dLdA, dLdb"
   ]
  },
  {
   "cell_type": "code",
   "execution_count": 19,
   "metadata": {
    "id": "tEj-yTBZSjNP"
   },
   "outputs": [],
   "source": [
    "#@title SGD\n",
    "def SGD(lr, W, A, b, dLdW,dLdA,dLdb):\n",
    "    newW = W - lr*dLdW\n",
    "    newA = A - lr*dLdA\n",
    "    newb = b - lr*dLdb \n",
    "    W, A, b = newW,newA,newb\n",
    "    return W, A, b"
   ]
  },
  {
   "cell_type": "code",
   "execution_count": 39,
   "metadata": {
    "id": "5xXPkygwoyoS"
   },
   "outputs": [],
   "source": [
    "#@title Parameters\n",
    "\n",
    "#path = \"/content\"\n",
    "path = \"D:/Documents/Semester 8/Major Project/gnn-from-scratch-master/gnn-from-scratch-master/src/datasets/train\"  #path of the dataset\n",
    "batchsize = 1600  # 65\n",
    "T = 3          # Number of aggregation steps #1\n",
    "D = 2              # Dimension of feature vectors #2\n",
    "#optimizer = \"SGD\"  # Optimization methods\n",
    "lr = 0.005        # Learning rate #0.0005\n",
    "#momentum  = 0.2   # Parameter for SGDM optimizer  \n",
    "epoch     = 1000     # 500\n",
    "epsilon   = 0.5      # some parameter related to learning rate    #0.5     "
   ]
  },
  {
   "cell_type": "code",
   "execution_count": 40,
   "metadata": {
    "cellView": "form",
    "id": "NHrzRgoGHDxR"
   },
   "outputs": [],
   "source": [
    "#@title GNN\n",
    "\n",
    "#initialized the path : here we input the path to .txt files which contain \n",
    "#the adjacency matrix and a label.\n",
    "filespaths, labelspaths, trainindexend = initialize(path)\n",
    "\n",
    "# here we call this function to seperate list : 0:6 for training and 7: end for testing.\n",
    "# here all the paths and training parameters,testing parameters\n",
    "trainsetpaths, trainset_adj, trainset_nnodes, trainset_labels, trainset_indexinepoch, trainset_epochcompleted, trainset_numexamples = gettrain_(filespaths,labelspaths,trainindexend)\n",
    "testsetpaths, testset_adj, testset_nnodes, testset_labels, testset_indexinepoch, testset_epochcompleted, testset_numexamples = gettest_(filespaths,labelspaths,trainindexend)\n",
    "\n",
    "# Initialize the all the variables\n",
    "W, A, dLdW, dLdW, dLdb, b  = gnninitialize(D)"
   ]
  },
  {
   "cell_type": "code",
   "execution_count": null,
   "metadata": {
    "cellView": "form",
    "colab": {
     "base_uri": "https://localhost:8080/"
    },
    "id": "S0d7ufbSyOM9",
    "outputId": "03a73a6b-07d2-478f-afc9-d0e286aeda17"
   },
   "outputs": [
    {
     "name": "stderr",
     "output_type": "stream",
     "text": [
      "C:\\Users\\vishn\\AppData\\Local\\Temp\\ipykernel_17096\\3106342755.py:13: RuntimeWarning: overflow encountered in exp\n",
      "  if np.exp(s[i]) > np.finfo(type(np.exp(s[i]))).max:\n"
     ]
    }
   ],
   "source": [
    "#@title Training set\n",
    "\n",
    "# Initializing empty list to store losses and accutacies.\n",
    "trainlosses = []\n",
    "trainaccuracies = []\n",
    "\n",
    "while trainset_epochcompleted <= epoch:\n",
    "    train_adj, train_nnodes, train_labels = graphdatasetnextbatch(batchsize, trainset_adj, trainset_nnodes, trainset_labels, trainset_indexinepoch, trainset_epochcompleted, trainset_numexamples)\n",
    "    train_s,train_ ,tempnnodes, tempadj = forward(train_nnodes, train_adj, D, W, A, b)  \n",
    "    train_losss = loss(train_s,train_labels)  # In general neural networks we are using y_hat for the loss function \n",
    "    #calculation but here s = z, the linear part is using to calculate the loss function  \n",
    "    dLdW, dLdA, dLdb = backward(train_losss, train_labels, epsilon, tempnnodes, tempadj, D, W, A, b)\n",
    "    W, A, b = SGD(lr, W, A, b, dLdW,dLdA,dLdb)\n",
    "    #print(\"epoch \",trainset_epochcompleted)\n",
    "    trainloss = np.average(train_losss)\n",
    "    trainright = np.sum(np.array(train_) == np.array(train_labels))\n",
    "    trainacc = trainright/len(train_)\n",
    "    #print(\"train loss : \",trainloss,\"train acc :\",trainacc)\n",
    "    trainlosses.append(trainloss)\n",
    "    trainaccuracies.append(trainacc)\n",
    "    trainset_epochcompleted += 1\n",
    "\n",
    "print(\"\\n\")\n",
    "print(\"W :\",W)\n",
    "print(\"A :\",A)\n",
    "print(\"b :\",b)\n",
    "print(\"\\n\")\n",
    "print(\"trainloss :\",trainlosses)\n",
    "print(\"trainaccuracy :\",trainaccuracies)"
   ]
  },
  {
   "cell_type": "code",
   "execution_count": 36,
   "metadata": {
    "cellView": "form",
    "colab": {
     "base_uri": "https://localhost:8080/"
    },
    "id": "oxNsJrNSBsMm",
    "outputId": "55823a3d-3181-4786-cf15-becc869a1323"
   },
   "outputs": [
    {
     "name": "stdout",
     "output_type": "stream",
     "text": [
      "\n",
      "\n",
      "trainloss : [27.47753328865965, 27.47753328865965, 27.47753328865965, 27.47753328865965, 27.47753328865965, 27.47753328865965, 27.47753328865965, 27.47753328865965, 27.47753328865965, 27.47753328865965, 27.47753328865965, 27.47753328865965, 27.47753328865965, 27.47753328865965, 27.47753328865965, 27.47753328865965, 27.47753328865965, 27.47753328865965, 27.47753328865965, 27.47753328865965, 27.47753328865965, 27.47753328865965, 27.47753328865965, 27.47753328865965, 27.47753328865965, 27.47753328865965, 27.47753328865965, 27.47753328865965, 27.47753328865965, 27.47753328865965, 27.47753328865965, 27.47753328865965, 27.47753328865965, 27.47753328865965, 27.47753328865965, 27.47753328865965, 27.47753328865965, 27.47753328865965, 27.47753328865965, 27.47753328865965, 27.47753328865965, 27.47753328865965, 27.47753328865965, 27.47753328865965, 27.47753328865965, 27.47753328865965, 27.47753328865965, 27.47753328865965, 27.47753328865965, 27.47753328865965, 27.47753328865965, 27.47753328865965, 27.47753328865965, 27.47753328865965, 27.47753328865965, 27.47753328865965, 27.47753328865965, 27.47753328865965, 27.47753328865965, 27.47753328865965, 27.47753328865965, 27.47753328865965, 27.47753328865965, 27.47753328865965, 27.47753328865965, 27.47753328865965, 27.47753328865965, 27.47753328865965, 27.47753328865965, 27.47753328865965, 27.47753328865965, 27.47753328865965, 27.47753328865965, 27.47753328865965, 27.47753328865965, 27.47753328865965, 27.47753328865965, 27.47753328865965, 27.47753328865965, 27.47753328865965, 27.47753328865965, 27.47753328865965, 27.47753328865965, 27.47753328865965, 27.47753328865965, 27.47753328865965, 27.47753328865965, 27.47753328865965, 27.47753328865965, 27.47753328865965, 27.47753328865965, 27.47753328865965, 27.47753328865965, 27.47753328865965, 27.47753328865965, 27.47753328865965, 27.47753328865965, 27.47753328865965, 27.47753328865965, 27.47753328865965, 27.47753328865965, 27.47753328865965, 27.47753328865965, 27.47753328865965, 27.47753328865965, 27.47753328865965, 27.47753328865965, 27.47753328865965, 27.47753328865965, 27.47753328865965, 27.47753328865965, 27.47753328865965, 27.47753328865965, 27.47753328865965, 27.47753328865965, 27.47753328865965, 27.47753328865965, 27.47753328865965, 27.47753328865965, 27.47753328865965, 27.47753328865965, 27.47753328865965, 27.47753328865965, 27.47753328865965, 27.47753328865965, 27.47753328865965, 27.47753328865965, 27.47753328865965, 27.47753328865965, 27.47753328865965, 27.47753328865965, 27.47753328865965, 27.47753328865965, 27.47753328865965, 27.47753328865965, 27.47753328865965, 27.47753328865965, 27.47753328865965, 27.47753328865965, 27.47753328865965, 27.47753328865965, 27.47753328865965, 27.47753328865965, 27.47753328865965, 27.47753328865965, 27.47753328865965, 27.47753328865965, 27.47753328865965, 27.47753328865965, 27.47753328865965, 27.47753328865965, 27.47753328865965, 27.47753328865965, 27.47753328865965, 27.47753328865965, 27.47753328865965, 27.47753328865965, 27.47753328865965, 27.47753328865965, 27.47753328865965, 27.47753328865965, 27.47753328865965, 27.47753328865965, 27.47753328865965, 27.47753328865965, 27.47753328865965, 27.47753328865965, 27.47753328865965, 27.47753328865965, 27.47753328865965, 27.47753328865965, 27.47753328865965, 27.47753328865965, 27.47753328865965, 27.47753328865965, 27.47753328865965, 27.47753328865965, 27.47753328865965, 27.47753328865965, 27.47753328865965, 27.47753328865965, 27.47753328865965, 27.47753328865965, 27.47753328865965, 27.47753328865965, 27.47753328865965, 27.47753328865965, 27.47753328865965, 27.47753328865965, 27.47753328865965, 27.47753328865965, 27.47753328865965, 27.47753328865965, 27.47753328865965, 27.47753328865965, 27.47753328865965, 27.47753328865965, 27.47753328865965, 27.47753328865965, 27.47753328865965, 27.47753328865965, 27.47753328865965, 27.47753328865965, 27.47753328865965, 27.47753328865965, 27.47753328865965, 27.47753328865965, 27.47753328865965, 27.47753328865965, 27.47753328865965, 27.47753328865965, 27.47753328865965, 27.47753328865965, 27.47753328865965, 27.47753328865965, 27.47753328865965, 27.47753328865965, 27.47753328865965, 27.47753328865965, 27.47753328865965, 27.47753328865965, 27.47753328865965, 27.47753328865965, 27.47753328865965, 27.47753328865965, 27.47753328865965, 27.47753328865965, 27.47753328865965, 27.47753328865965, 27.47753328865965, 27.47753328865965, 27.47753328865965, 27.47753328865965, 27.47753328865965, 27.47753328865965, 27.47753328865965, 27.47753328865965, 27.47753328865965, 27.47753328865965, 27.47753328865965, 27.47753328865965, 27.47753328865965, 27.47753328865965, 27.47753328865965, 27.47753328865965, 27.47753328865965, 27.47753328865965, 27.47753328865965, 27.47753328865965, 27.47753328865965, 27.47753328865965, 27.47753328865965, 27.47753328865965, 27.47753328865965, 27.47753328865965, 27.47753328865965, 27.47753328865965, 27.47753328865965, 27.47753328865965, 27.47753328865965, 27.47753328865965, 27.47753328865965, 27.47753328865965, 27.47753328865965, 27.47753328865965, 27.47753328865965, 27.47753328865965, 27.47753328865965, 27.47753328865965, 27.47753328865965, 27.47753328865965, 27.47753328865965, 27.47753328865965, 27.47753328865965, 27.47753328865965, 27.47753328865965, 27.47753328865965, 27.47753328865965, 27.47753328865965, 27.47753328865965, 27.47753328865965, 27.47753328865965, 27.47753328865965, 27.47753328865965, 27.47753328865965, 27.47753328865965, 27.47753328865965, 27.47753328865965, 27.47753328865965, 27.47753328865965, 27.47753328865965, 27.47753328865965, 27.47753328865965, 27.47753328865965, 27.47753328865965, 27.47753328865965, 27.47753328865965, 27.47753328865965, 27.47753328865965, 27.47753328865965, 27.47753328865965, 27.47753328865965, 27.47753328865965, 27.47753328865965, 27.47753328865965, 27.47753328865965, 27.47753328865965, 27.47753328865965, 27.47753328865965, 27.47753328865965, 27.47753328865965, 27.47753328865965, 27.47753328865965, 27.47753328865965, 27.47753328865965, 27.47753328865965, 27.47753328865965, 27.47753328865965, 27.47753328865965, 27.47753328865965, 27.47753328865965, 27.47753328865965, 27.47753328865965, 27.47753328865965, 27.47753328865965, 27.47753328865965, 27.47753328865965, 27.47753328865965, 27.47753328865965, 27.47753328865965, 27.47753328865965, 27.47753328865965, 27.47753328865965, 27.47753328865965, 27.47753328865965, 27.47753328865965, 27.47753328865965, 27.47753328865965, 27.47753328865965, 27.47753328865965, 27.47753328865965, 27.47753328865965, 27.47753328865965, 27.47753328865965, 27.47753328865965, 27.47753328865965, 27.47753328865965, 27.47753328865965, 27.47753328865965, 27.47753328865965, 27.47753328865965, 27.47753328865965, 27.47753328865965, 27.47753328865965, 27.47753328865965, 27.47753328865965, 27.47753328865965, 27.47753328865965, 27.47753328865965, 27.47753328865965, 27.47753328865965, 27.47753328865965, 27.47753328865965, 27.47753328865965, 27.47753328865965, 27.47753328865965, 27.47753328865965, 27.47753328865965, 27.47753328865965, 27.47753328865965, 27.47753328865965, 27.47753328865965, 27.47753328865965, 27.47753328865965, 27.47753328865965, 27.47753328865965, 27.47753328865965, 27.47753328865965, 27.47753328865965, 27.47753328865965, 27.47753328865965, 27.47753328865965, 27.47753328865965, 27.47753328865965, 27.47753328865965, 27.47753328865965, 27.47753328865965, 27.47753328865965, 27.47753328865965, 27.47753328865965, 27.47753328865965, 27.47753328865965, 27.47753328865965, 27.47753328865965, 27.47753328865965, 27.47753328865965, 27.47753328865965, 27.47753328865965, 27.47753328865965, 27.47753328865965, 27.47753328865965, 27.47753328865965, 27.47753328865965, 27.47753328865965, 27.47753328865965, 27.47753328865965, 27.47753328865965, 27.47753328865965, 27.47753328865965, 27.47753328865965, 27.47753328865965, 27.47753328865965, 27.47753328865965, 27.47753328865965, 27.47753328865965, 27.47753328865965, 27.47753328865965, 27.47753328865965, 27.47753328865965, 27.47753328865965, 27.47753328865965, 27.47753328865965, 27.47753328865965, 27.47753328865965, 27.47753328865965, 27.47753328865965, 27.47753328865965, 27.47753328865965, 27.47753328865965, 27.47753328865965, 27.47753328865965, 27.47753328865965, 27.47753328865965, 27.47753328865965, 27.47753328865965, 27.47753328865965, 27.47753328865965, 27.47753328865965, 27.47753328865965, 27.47753328865965, 27.47753328865965, 27.47753328865965, 27.47753328865965, 27.47753328865965, 27.47753328865965, 27.47753328865965, 27.47753328865965, 27.47753328865965, 27.47753328865965, 27.47753328865965, 27.47753328865965, 27.47753328865965, 27.47753328865965, 27.47753328865965, 27.47753328865965, 27.47753328865965, 27.47753328865965, 27.47753328865965, 27.47753328865965, 27.47753328865965, 27.47753328865965, 27.47753328865965, 27.47753328865965, 27.47753328865965, 27.47753328865965, 27.47753328865965, 27.47753328865965, 27.47753328865965, 27.47753328865965, 27.47753328865965, 27.47753328865965, 27.47753328865965, 27.47753328865965, 27.47753328865965, 27.47753328865965, 27.47753328865965, 27.47753328865965, 27.47753328865965, 27.47753328865965, 27.47753328865965, 27.47753328865965, 27.47753328865965, 27.47753328865965, 27.47753328865965, 27.47753328865965, 27.47753328865965, 27.47753328865965, 27.47753328865965, 27.47753328865965, 27.47753328865965, 27.47753328865965, 27.47753328865965, 27.47753328865965, 27.47753328865965, 27.47753328865965, 27.47753328865965, 27.47753328865965, 27.47753328865965, 27.47753328865965, 27.47753328865965, 27.47753328865965, 27.47753328865965, 27.47753328865965, 27.47753328865965, 27.47753328865965, 27.47753328865965, 27.47753328865965, 27.47753328865965, 27.47753328865965, 27.47753328865965, 27.47753328865965, 27.47753328865965, 27.47753328865965, 27.47753328865965, 27.47753328865965, 27.47753328865965, 27.47753328865965, 27.47753328865965, 27.47753328865965, 27.47753328865965, 27.47753328865965, 27.47753328865965, 27.47753328865965, 27.47753328865965, 27.47753328865965, 27.47753328865965, 27.47753328865965, 27.47753328865965, 27.47753328865965, 27.47753328865965, 27.47753328865965, 27.47753328865965, 27.47753328865965, 27.47753328865965, 27.47753328865965, 27.47753328865965, 27.47753328865965, 27.47753328865965, 27.47753328865965, 27.47753328865965, 27.47753328865965, 27.47753328865965, 27.47753328865965, 27.47753328865965, 27.47753328865965, 27.47753328865965, 27.47753328865965, 27.47753328865965, 27.47753328865965, 27.47753328865965, 27.47753328865965, 27.47753328865965, 27.47753328865965, 27.47753328865965, 27.47753328865965, 27.47753328865965, 27.47753328865965, 27.47753328865965, 27.47753328865965, 27.47753328865965, 27.47753328865965, 27.47753328865965, 27.47753328865965, 27.47753328865965, 27.47753328865965, 27.47753328865965, 27.47753328865965, 27.47753328865965, 27.47753328865965, 27.47753328865965, 27.47753328865965, 27.47753328865965, 27.47753328865965, 27.47753328865965, 27.47753328865965, 27.47753328865965, 27.47753328865965, 27.47753328865965, 27.47753328865965, 27.47753328865965, 27.47753328865965, 27.47753328865965, 27.47753328865965, 27.47753328865965, 27.47753328865965, 27.47753328865965, 27.47753328865965, 27.47753328865965, 27.47753328865965, 27.47753328865965, 27.47753328865965, 27.47753328865965, 27.47753328865965, 27.47753328865965, 27.47753328865965, 27.47753328865965, 27.47753328865965, 27.47753328865965, 27.47753328865965, 27.47753328865965, 27.47753328865965, 27.47753328865965, 27.47753328865965, 27.47753328865965, 27.47753328865965, 27.47753328865965, 27.47753328865965, 27.47753328865965, 27.47753328865965, 27.47753328865965, 27.47753328865965, 27.47753328865965, 27.47753328865965, 27.47753328865965, 27.47753328865965, 27.47753328865965, 27.47753328865965, 27.47753328865965, 27.47753328865965, 27.47753328865965, 27.47753328865965, 27.47753328865965, 27.47753328865965, 27.47753328865965, 27.47753328865965, 27.47753328865965, 27.47753328865965, 27.47753328865965, 27.47753328865965, 27.47753328865965, 27.47753328865965, 27.47753328865965, 27.47753328865965, 27.47753328865965, 27.47753328865965, 27.47753328865965, 27.47753328865965, 27.47753328865965, 27.47753328865965, 27.47753328865965, 27.47753328865965, 27.47753328865965, 27.47753328865965, 27.47753328865965, 27.47753328865965, 27.47753328865965, 27.47753328865965, 27.47753328865965, 27.47753328865965, 27.47753328865965, 27.47753328865965, 27.47753328865965, 27.47753328865965, 27.47753328865965, 27.47753328865965, 27.47753328865965, 27.47753328865965, 27.47753328865965, 27.47753328865965, 27.47753328865965, 27.47753328865965, 27.47753328865965, 27.47753328865965, 27.47753328865965, 27.47753328865965, 27.47753328865965, 27.47753328865965, 27.47753328865965, 27.47753328865965, 27.47753328865965, 27.47753328865965, 27.47753328865965, 27.47753328865965, 27.47753328865965, 27.47753328865965, 27.47753328865965, 27.47753328865965, 27.47753328865965, 27.47753328865965, 27.47753328865965, 27.47753328865965, 27.47753328865965, 27.47753328865965, 27.47753328865965, 27.47753328865965, 27.47753328865965, 27.47753328865965, 27.47753328865965, 27.47753328865965, 27.47753328865965, 27.47753328865965, 27.47753328865965, 27.47753328865965, 27.47753328865965, 27.47753328865965, 27.47753328865965, 27.47753328865965, 27.47753328865965, 27.47753328865965, 27.47753328865965, 27.47753328865965, 27.47753328865965, 27.47753328865965, 27.47753328865965, 27.47753328865965, 27.47753328865965, 27.47753328865965, 27.47753328865965, 27.47753328865965, 27.47753328865965, 27.47753328865965, 27.47753328865965, 27.47753328865965, 27.47753328865965, 27.47753328865965, 27.47753328865965, 27.47753328865965, 27.47753328865965, 27.47753328865965, 27.47753328865965, 27.47753328865965, 27.47753328865965, 27.47753328865965, 27.47753328865965, 27.47753328865965, 27.47753328865965, 27.47753328865965, 27.47753328865965, 27.47753328865965, 27.47753328865965, 27.47753328865965, 27.47753328865965, 27.47753328865965, 27.47753328865965, 27.47753328865965, 27.47753328865965, 27.47753328865965, 27.47753328865965, 27.47753328865965, 27.47753328865965, 27.47753328865965, 27.47753328865965, 27.47753328865965, 27.47753328865965, 27.47753328865965, 27.47753328865965, 27.47753328865965, 27.47753328865965, 27.47753328865965, 27.47753328865965, 27.47753328865965, 27.47753328865965, 27.47753328865965, 27.47753328865965, 27.47753328865965, 27.47753328865965, 27.47753328865965, 27.47753328865965, 27.47753328865965, 27.47753328865965, 27.47753328865965, 27.47753328865965, 27.47753328865965, 27.47753328865965, 27.47753328865965, 27.47753328865965, 27.47753328865965, 27.47753328865965, 27.47753328865965, 27.47753328865965, 27.47753328865965, 27.47753328865965, 27.47753328865965, 27.47753328865965, 27.47753328865965, 27.47753328865965, 27.47753328865965, 27.47753328865965, 27.47753328865965, 27.47753328865965, 27.47753328865965, 27.47753328865965, 27.47753328865965, 27.47753328865965, 27.47753328865965, 27.47753328865965, 27.47753328865965, 27.47753328865965, 27.47753328865965, 27.47753328865965, 27.47753328865965, 27.47753328865965, 27.47753328865965, 27.47753328865965, 27.47753328865965, 27.47753328865965, 27.47753328865965, 27.47753328865965, 27.47753328865965, 27.47753328865965, 27.47753328865965, 27.47753328865965, 27.47753328865965, 27.47753328865965, 27.47753328865965, 27.47753328865965, 27.47753328865965, 27.47753328865965, 27.47753328865965, 27.47753328865965, 27.47753328865965, 27.47753328865965, 27.47753328865965, 27.47753328865965, 27.47753328865965, 27.47753328865965, 27.47753328865965, 27.47753328865965, 27.47753328865965, 27.47753328865965, 27.47753328865965, 27.47753328865965, 27.47753328865965, 27.47753328865965, 27.47753328865965, 27.47753328865965, 27.47753328865965, 27.47753328865965, 27.47753328865965, 27.47753328865965, 27.47753328865965, 27.47753328865965, 27.47753328865965, 27.47753328865965, 27.47753328865965, 27.47753328865965, 27.47753328865965, 27.47753328865965, 27.47753328865965, 27.47753328865965, 27.47753328865965, 27.47753328865965, 27.47753328865965, 27.47753328865965, 27.47753328865965, 27.47753328865965, 27.47753328865965, 27.47753328865965, 27.47753328865965, 27.47753328865965, 27.47753328865965, 27.47753328865965, 27.47753328865965, 27.47753328865965, 27.47753328865965, 27.47753328865965, 27.47753328865965, 27.47753328865965, 27.47753328865965, 27.47753328865965, 27.47753328865965, 27.47753328865965, 27.47753328865965, 27.47753328865965, 27.47753328865965, 27.47753328865965, 27.47753328865965, 27.47753328865965, 27.47753328865965, 27.47753328865965, 27.47753328865965, 27.47753328865965, 27.47753328865965, 27.47753328865965, 27.47753328865965, 27.47753328865965, 27.47753328865965, 27.47753328865965, 27.47753328865965, 27.47753328865965, 27.47753328865965, 27.47753328865965, 27.47753328865965, 27.47753328865965, 27.47753328865965, 27.47753328865965, 27.47753328865965, 27.47753328865965, 27.47753328865965, 27.47753328865965, 27.47753328865965, 27.47753328865965, 27.47753328865965, 27.47753328865965, 27.47753328865965, 27.47753328865965, 27.47753328865965, 27.47753328865965, 27.47753328865965, 27.47753328865965, 27.47753328865965, 27.47753328865965, 27.47753328865965, 27.47753328865965, 27.47753328865965, 27.47753328865965, 27.47753328865965, 27.47753328865965, 27.47753328865965, 27.47753328865965, 27.47753328865965, 27.47753328865965, 27.47753328865965, 27.47753328865965, 27.47753328865965, 27.47753328865965, 27.47753328865965, 27.47753328865965, 27.47753328865965, 27.47753328865965, 27.47753328865965, 27.47753328865965, 27.47753328865965, 27.47753328865965, 27.47753328865965, 27.47753328865965, 27.47753328865965, 27.47753328865965, 27.47753328865965, 27.47753328865965, 27.47753328865965, 27.47753328865965, 27.47753328865965, 27.47753328865965, 27.47753328865965, 27.47753328865965, 27.47753328865965, 27.47753328865965, 27.47753328865965, 27.47753328865965, 27.47753328865965, 27.47753328865965, 27.47753328865965, 27.47753328865965, 27.47753328865965, 27.47753328865965, 27.47753328865965, 27.47753328865965, 27.47753328865965, 27.47753328865965, 27.47753328865965, 27.47753328865965, 27.47753328865965, 27.47753328865965, 27.47753328865965, 27.47753328865965, 27.47753328865965, 27.47753328865965, 27.47753328865965, 27.47753328865965, 27.47753328865965, 27.47753328865965, 27.47753328865965, 27.47753328865965, 27.47753328865965, 27.47753328865965, 27.47753328865965, 27.47753328865965, 27.47753328865965, 27.47753328865965, 27.47753328865965, 27.47753328865965, 27.47753328865965, 27.47753328865965, 27.47753328865965, 27.47753328865965, 27.47753328865965, 27.47753328865965, 27.47753328865965, 27.47753328865965, 27.47753328865965, 27.47753328865965, 27.47753328865965, 27.47753328865965, 27.47753328865965, 27.47753328865965, 27.47753328865965, 27.47753328865965, 27.47753328865965, 27.47753328865965, 27.47753328865965, 27.47753328865965, 27.47753328865965, 27.47753328865965, 27.47753328865965, 27.47753328865965, 27.47753328865965, 27.47753328865965, 27.47753328865965, 27.47753328865965, 27.47753328865965]\n",
      "trainaccuracy : [0.5066666666666667, 0.5066666666666667, 0.5066666666666667, 0.5066666666666667, 0.5066666666666667, 0.5066666666666667, 0.5066666666666667, 0.5066666666666667, 0.5066666666666667, 0.5066666666666667, 0.5066666666666667, 0.5066666666666667, 0.5066666666666667, 0.5066666666666667, 0.5066666666666667, 0.5066666666666667, 0.5066666666666667, 0.5066666666666667, 0.5066666666666667, 0.5066666666666667, 0.5066666666666667, 0.5066666666666667, 0.5066666666666667, 0.5066666666666667, 0.5066666666666667, 0.5066666666666667, 0.5066666666666667, 0.5066666666666667, 0.5066666666666667, 0.5066666666666667, 0.5066666666666667, 0.5066666666666667, 0.5066666666666667, 0.5066666666666667, 0.5066666666666667, 0.5066666666666667, 0.5066666666666667, 0.5066666666666667, 0.5066666666666667, 0.5066666666666667, 0.5066666666666667, 0.5066666666666667, 0.5066666666666667, 0.5066666666666667, 0.5066666666666667, 0.5066666666666667, 0.5066666666666667, 0.5066666666666667, 0.5066666666666667, 0.5066666666666667, 0.5066666666666667, 0.5066666666666667, 0.5066666666666667, 0.5066666666666667, 0.5066666666666667, 0.5066666666666667, 0.5066666666666667, 0.5066666666666667, 0.5066666666666667, 0.5066666666666667, 0.5066666666666667, 0.5066666666666667, 0.5066666666666667, 0.5066666666666667, 0.5066666666666667, 0.5066666666666667, 0.5066666666666667, 0.5066666666666667, 0.5066666666666667, 0.5066666666666667, 0.5066666666666667, 0.5066666666666667, 0.5066666666666667, 0.5066666666666667, 0.5066666666666667, 0.5066666666666667, 0.5066666666666667, 0.5066666666666667, 0.5066666666666667, 0.5066666666666667, 0.5066666666666667, 0.5066666666666667, 0.5066666666666667, 0.5066666666666667, 0.5066666666666667, 0.5066666666666667, 0.5066666666666667, 0.5066666666666667, 0.5066666666666667, 0.5066666666666667, 0.5066666666666667, 0.5066666666666667, 0.5066666666666667, 0.5066666666666667, 0.5066666666666667, 0.5066666666666667, 0.5066666666666667, 0.5066666666666667, 0.5066666666666667, 0.5066666666666667, 0.5066666666666667, 0.5066666666666667, 0.5066666666666667, 0.5066666666666667, 0.5066666666666667, 0.5066666666666667, 0.5066666666666667, 0.5066666666666667, 0.5066666666666667, 0.5066666666666667, 0.5066666666666667, 0.5066666666666667, 0.5066666666666667, 0.5066666666666667, 0.5066666666666667, 0.5066666666666667, 0.5066666666666667, 0.5066666666666667, 0.5066666666666667, 0.5066666666666667, 0.5066666666666667, 0.5066666666666667, 0.5066666666666667, 0.5066666666666667, 0.5066666666666667, 0.5066666666666667, 0.5066666666666667, 0.5066666666666667, 0.5066666666666667, 0.5066666666666667, 0.5066666666666667, 0.5066666666666667, 0.5066666666666667, 0.5066666666666667, 0.5066666666666667, 0.5066666666666667, 0.5066666666666667, 0.5066666666666667, 0.5066666666666667, 0.5066666666666667, 0.5066666666666667, 0.5066666666666667, 0.5066666666666667, 0.5066666666666667, 0.5066666666666667, 0.5066666666666667, 0.5066666666666667, 0.5066666666666667, 0.5066666666666667, 0.5066666666666667, 0.5066666666666667, 0.5066666666666667, 0.5066666666666667, 0.5066666666666667, 0.5066666666666667, 0.5066666666666667, 0.5066666666666667, 0.5066666666666667, 0.5066666666666667, 0.5066666666666667, 0.5066666666666667, 0.5066666666666667, 0.5066666666666667, 0.5066666666666667, 0.5066666666666667, 0.5066666666666667, 0.5066666666666667, 0.5066666666666667, 0.5066666666666667, 0.5066666666666667, 0.5066666666666667, 0.5066666666666667, 0.5066666666666667, 0.5066666666666667, 0.5066666666666667, 0.5066666666666667, 0.5066666666666667, 0.5066666666666667, 0.5066666666666667, 0.5066666666666667, 0.5066666666666667, 0.5066666666666667, 0.5066666666666667, 0.5066666666666667, 0.5066666666666667, 0.5066666666666667, 0.5066666666666667, 0.5066666666666667, 0.5066666666666667, 0.5066666666666667, 0.5066666666666667, 0.5066666666666667, 0.5066666666666667, 0.5066666666666667, 0.5066666666666667, 0.5066666666666667, 0.5066666666666667, 0.5066666666666667, 0.5066666666666667, 0.5066666666666667, 0.5066666666666667, 0.5066666666666667, 0.5066666666666667, 0.5066666666666667, 0.5066666666666667, 0.5066666666666667, 0.5066666666666667, 0.5066666666666667, 0.5066666666666667, 0.5066666666666667, 0.5066666666666667, 0.5066666666666667, 0.5066666666666667, 0.5066666666666667, 0.5066666666666667, 0.5066666666666667, 0.5066666666666667, 0.5066666666666667, 0.5066666666666667, 0.5066666666666667, 0.5066666666666667, 0.5066666666666667, 0.5066666666666667, 0.5066666666666667, 0.5066666666666667, 0.5066666666666667, 0.5066666666666667, 0.5066666666666667, 0.5066666666666667, 0.5066666666666667, 0.5066666666666667, 0.5066666666666667, 0.5066666666666667, 0.5066666666666667, 0.5066666666666667, 0.5066666666666667, 0.5066666666666667, 0.5066666666666667, 0.5066666666666667, 0.5066666666666667, 0.5066666666666667, 0.5066666666666667, 0.5066666666666667, 0.5066666666666667, 0.5066666666666667, 0.5066666666666667, 0.5066666666666667, 0.5066666666666667, 0.5066666666666667, 0.5066666666666667, 0.5066666666666667, 0.5066666666666667, 0.5066666666666667, 0.5066666666666667, 0.5066666666666667, 0.5066666666666667, 0.5066666666666667, 0.5066666666666667, 0.5066666666666667, 0.5066666666666667, 0.5066666666666667, 0.5066666666666667, 0.5066666666666667, 0.5066666666666667, 0.5066666666666667, 0.5066666666666667, 0.5066666666666667, 0.5066666666666667, 0.5066666666666667, 0.5066666666666667, 0.5066666666666667, 0.5066666666666667, 0.5066666666666667, 0.5066666666666667, 0.5066666666666667, 0.5066666666666667, 0.5066666666666667, 0.5066666666666667, 0.5066666666666667, 0.5066666666666667, 0.5066666666666667, 0.5066666666666667, 0.5066666666666667, 0.5066666666666667, 0.5066666666666667, 0.5066666666666667, 0.5066666666666667, 0.5066666666666667, 0.5066666666666667, 0.5066666666666667, 0.5066666666666667, 0.5066666666666667, 0.5066666666666667, 0.5066666666666667, 0.5066666666666667, 0.5066666666666667, 0.5066666666666667, 0.5066666666666667, 0.5066666666666667, 0.5066666666666667, 0.5066666666666667, 0.5066666666666667, 0.5066666666666667, 0.5066666666666667, 0.5066666666666667, 0.5066666666666667, 0.5066666666666667, 0.5066666666666667, 0.5066666666666667, 0.5066666666666667, 0.5066666666666667, 0.5066666666666667, 0.5066666666666667, 0.5066666666666667, 0.5066666666666667, 0.5066666666666667, 0.5066666666666667, 0.5066666666666667, 0.5066666666666667, 0.5066666666666667, 0.5066666666666667, 0.5066666666666667, 0.5066666666666667, 0.5066666666666667, 0.5066666666666667, 0.5066666666666667, 0.5066666666666667, 0.5066666666666667, 0.5066666666666667, 0.5066666666666667, 0.5066666666666667, 0.5066666666666667, 0.5066666666666667, 0.5066666666666667, 0.5066666666666667, 0.5066666666666667, 0.5066666666666667, 0.5066666666666667, 0.5066666666666667, 0.5066666666666667, 0.5066666666666667, 0.5066666666666667, 0.5066666666666667, 0.5066666666666667, 0.5066666666666667, 0.5066666666666667, 0.5066666666666667, 0.5066666666666667, 0.5066666666666667, 0.5066666666666667, 0.5066666666666667, 0.5066666666666667, 0.5066666666666667, 0.5066666666666667, 0.5066666666666667, 0.5066666666666667, 0.5066666666666667, 0.5066666666666667, 0.5066666666666667, 0.5066666666666667, 0.5066666666666667, 0.5066666666666667, 0.5066666666666667, 0.5066666666666667, 0.5066666666666667, 0.5066666666666667, 0.5066666666666667, 0.5066666666666667, 0.5066666666666667, 0.5066666666666667, 0.5066666666666667, 0.5066666666666667, 0.5066666666666667, 0.5066666666666667, 0.5066666666666667, 0.5066666666666667, 0.5066666666666667, 0.5066666666666667, 0.5066666666666667, 0.5066666666666667, 0.5066666666666667, 0.5066666666666667, 0.5066666666666667, 0.5066666666666667, 0.5066666666666667, 0.5066666666666667, 0.5066666666666667, 0.5066666666666667, 0.5066666666666667, 0.5066666666666667, 0.5066666666666667, 0.5066666666666667, 0.5066666666666667, 0.5066666666666667, 0.5066666666666667, 0.5066666666666667, 0.5066666666666667, 0.5066666666666667, 0.5066666666666667, 0.5066666666666667, 0.5066666666666667, 0.5066666666666667, 0.5066666666666667, 0.5066666666666667, 0.5066666666666667, 0.5066666666666667, 0.5066666666666667, 0.5066666666666667, 0.5066666666666667, 0.5066666666666667, 0.5066666666666667, 0.5066666666666667, 0.5066666666666667, 0.5066666666666667, 0.5066666666666667, 0.5066666666666667, 0.5066666666666667, 0.5066666666666667, 0.5066666666666667, 0.5066666666666667, 0.5066666666666667, 0.5066666666666667, 0.5066666666666667, 0.5066666666666667, 0.5066666666666667, 0.5066666666666667, 0.5066666666666667, 0.5066666666666667, 0.5066666666666667, 0.5066666666666667, 0.5066666666666667, 0.5066666666666667, 0.5066666666666667, 0.5066666666666667, 0.5066666666666667, 0.5066666666666667, 0.5066666666666667, 0.5066666666666667, 0.5066666666666667, 0.5066666666666667, 0.5066666666666667, 0.5066666666666667, 0.5066666666666667, 0.5066666666666667, 0.5066666666666667, 0.5066666666666667, 0.5066666666666667, 0.5066666666666667, 0.5066666666666667, 0.5066666666666667, 0.5066666666666667, 0.5066666666666667, 0.5066666666666667, 0.5066666666666667, 0.5066666666666667, 0.5066666666666667, 0.5066666666666667, 0.5066666666666667, 0.5066666666666667, 0.5066666666666667, 0.5066666666666667, 0.5066666666666667, 0.5066666666666667, 0.5066666666666667, 0.5066666666666667, 0.5066666666666667, 0.5066666666666667, 0.5066666666666667, 0.5066666666666667, 0.5066666666666667, 0.5066666666666667, 0.5066666666666667, 0.5066666666666667, 0.5066666666666667, 0.5066666666666667, 0.5066666666666667, 0.5066666666666667, 0.5066666666666667, 0.5066666666666667, 0.5066666666666667, 0.5066666666666667, 0.5066666666666667, 0.5066666666666667, 0.5066666666666667, 0.5066666666666667, 0.5066666666666667, 0.5066666666666667, 0.5066666666666667, 0.5066666666666667, 0.5066666666666667, 0.5066666666666667, 0.5066666666666667, 0.5066666666666667, 0.5066666666666667, 0.5066666666666667, 0.5066666666666667, 0.5066666666666667, 0.5066666666666667, 0.5066666666666667, 0.5066666666666667, 0.5066666666666667, 0.5066666666666667, 0.5066666666666667, 0.5066666666666667, 0.5066666666666667, 0.5066666666666667, 0.5066666666666667, 0.5066666666666667, 0.5066666666666667, 0.5066666666666667, 0.5066666666666667, 0.5066666666666667, 0.5066666666666667, 0.5066666666666667, 0.5066666666666667, 0.5066666666666667, 0.5066666666666667, 0.5066666666666667, 0.5066666666666667, 0.5066666666666667, 0.5066666666666667, 0.5066666666666667, 0.5066666666666667, 0.5066666666666667, 0.5066666666666667, 0.5066666666666667, 0.5066666666666667, 0.5066666666666667, 0.5066666666666667, 0.5066666666666667, 0.5066666666666667, 0.5066666666666667, 0.5066666666666667, 0.5066666666666667, 0.5066666666666667, 0.5066666666666667, 0.5066666666666667, 0.5066666666666667, 0.5066666666666667, 0.5066666666666667, 0.5066666666666667, 0.5066666666666667, 0.5066666666666667, 0.5066666666666667, 0.5066666666666667, 0.5066666666666667, 0.5066666666666667, 0.5066666666666667, 0.5066666666666667, 0.5066666666666667, 0.5066666666666667, 0.5066666666666667, 0.5066666666666667, 0.5066666666666667, 0.5066666666666667, 0.5066666666666667, 0.5066666666666667, 0.5066666666666667, 0.5066666666666667, 0.5066666666666667, 0.5066666666666667, 0.5066666666666667, 0.5066666666666667, 0.5066666666666667, 0.5066666666666667, 0.5066666666666667, 0.5066666666666667, 0.5066666666666667, 0.5066666666666667, 0.5066666666666667, 0.5066666666666667, 0.5066666666666667, 0.5066666666666667, 0.5066666666666667, 0.5066666666666667, 0.5066666666666667, 0.5066666666666667, 0.5066666666666667, 0.5066666666666667, 0.5066666666666667, 0.5066666666666667, 0.5066666666666667, 0.5066666666666667, 0.5066666666666667, 0.5066666666666667, 0.5066666666666667, 0.5066666666666667, 0.5066666666666667, 0.5066666666666667, 0.5066666666666667, 0.5066666666666667, 0.5066666666666667, 0.5066666666666667, 0.5066666666666667, 0.5066666666666667, 0.5066666666666667, 0.5066666666666667, 0.5066666666666667, 0.5066666666666667, 0.5066666666666667, 0.5066666666666667, 0.5066666666666667, 0.5066666666666667, 0.5066666666666667, 0.5066666666666667, 0.5066666666666667, 0.5066666666666667, 0.5066666666666667, 0.5066666666666667, 0.5066666666666667, 0.5066666666666667, 0.5066666666666667, 0.5066666666666667, 0.5066666666666667, 0.5066666666666667, 0.5066666666666667, 0.5066666666666667, 0.5066666666666667, 0.5066666666666667, 0.5066666666666667, 0.5066666666666667, 0.5066666666666667, 0.5066666666666667, 0.5066666666666667, 0.5066666666666667, 0.5066666666666667, 0.5066666666666667, 0.5066666666666667, 0.5066666666666667, 0.5066666666666667, 0.5066666666666667, 0.5066666666666667, 0.5066666666666667, 0.5066666666666667, 0.5066666666666667, 0.5066666666666667, 0.5066666666666667, 0.5066666666666667, 0.5066666666666667, 0.5066666666666667, 0.5066666666666667, 0.5066666666666667, 0.5066666666666667, 0.5066666666666667, 0.5066666666666667, 0.5066666666666667, 0.5066666666666667, 0.5066666666666667, 0.5066666666666667, 0.5066666666666667, 0.5066666666666667, 0.5066666666666667, 0.5066666666666667, 0.5066666666666667, 0.5066666666666667, 0.5066666666666667, 0.5066666666666667, 0.5066666666666667, 0.5066666666666667, 0.5066666666666667, 0.5066666666666667, 0.5066666666666667, 0.5066666666666667, 0.5066666666666667, 0.5066666666666667, 0.5066666666666667, 0.5066666666666667, 0.5066666666666667, 0.5066666666666667, 0.5066666666666667, 0.5066666666666667, 0.5066666666666667, 0.5066666666666667, 0.5066666666666667, 0.5066666666666667, 0.5066666666666667, 0.5066666666666667, 0.5066666666666667, 0.5066666666666667, 0.5066666666666667, 0.5066666666666667, 0.5066666666666667, 0.5066666666666667, 0.5066666666666667, 0.5066666666666667, 0.5066666666666667, 0.5066666666666667, 0.5066666666666667, 0.5066666666666667, 0.5066666666666667, 0.5066666666666667, 0.5066666666666667, 0.5066666666666667, 0.5066666666666667, 0.5066666666666667, 0.5066666666666667, 0.5066666666666667, 0.5066666666666667, 0.5066666666666667, 0.5066666666666667, 0.5066666666666667, 0.5066666666666667, 0.5066666666666667, 0.5066666666666667, 0.5066666666666667, 0.5066666666666667, 0.5066666666666667, 0.5066666666666667, 0.5066666666666667, 0.5066666666666667, 0.5066666666666667, 0.5066666666666667, 0.5066666666666667, 0.5066666666666667, 0.5066666666666667, 0.5066666666666667, 0.5066666666666667, 0.5066666666666667, 0.5066666666666667, 0.5066666666666667, 0.5066666666666667, 0.5066666666666667, 0.5066666666666667, 0.5066666666666667, 0.5066666666666667, 0.5066666666666667, 0.5066666666666667, 0.5066666666666667, 0.5066666666666667, 0.5066666666666667, 0.5066666666666667, 0.5066666666666667, 0.5066666666666667, 0.5066666666666667, 0.5066666666666667, 0.5066666666666667, 0.5066666666666667, 0.5066666666666667, 0.5066666666666667, 0.5066666666666667, 0.5066666666666667, 0.5066666666666667, 0.5066666666666667, 0.5066666666666667, 0.5066666666666667, 0.5066666666666667, 0.5066666666666667, 0.5066666666666667, 0.5066666666666667, 0.5066666666666667, 0.5066666666666667, 0.5066666666666667, 0.5066666666666667, 0.5066666666666667, 0.5066666666666667, 0.5066666666666667, 0.5066666666666667, 0.5066666666666667, 0.5066666666666667, 0.5066666666666667, 0.5066666666666667, 0.5066666666666667, 0.5066666666666667, 0.5066666666666667, 0.5066666666666667, 0.5066666666666667, 0.5066666666666667, 0.5066666666666667, 0.5066666666666667, 0.5066666666666667, 0.5066666666666667, 0.5066666666666667, 0.5066666666666667, 0.5066666666666667, 0.5066666666666667, 0.5066666666666667, 0.5066666666666667, 0.5066666666666667, 0.5066666666666667, 0.5066666666666667, 0.5066666666666667, 0.5066666666666667, 0.5066666666666667, 0.5066666666666667, 0.5066666666666667, 0.5066666666666667, 0.5066666666666667, 0.5066666666666667, 0.5066666666666667, 0.5066666666666667, 0.5066666666666667, 0.5066666666666667, 0.5066666666666667, 0.5066666666666667, 0.5066666666666667, 0.5066666666666667, 0.5066666666666667, 0.5066666666666667, 0.5066666666666667, 0.5066666666666667, 0.5066666666666667, 0.5066666666666667, 0.5066666666666667, 0.5066666666666667, 0.5066666666666667, 0.5066666666666667, 0.5066666666666667, 0.5066666666666667, 0.5066666666666667, 0.5066666666666667, 0.5066666666666667, 0.5066666666666667, 0.5066666666666667, 0.5066666666666667, 0.5066666666666667, 0.5066666666666667, 0.5066666666666667, 0.5066666666666667, 0.5066666666666667, 0.5066666666666667, 0.5066666666666667, 0.5066666666666667, 0.5066666666666667, 0.5066666666666667, 0.5066666666666667, 0.5066666666666667, 0.5066666666666667, 0.5066666666666667, 0.5066666666666667, 0.5066666666666667, 0.5066666666666667, 0.5066666666666667, 0.5066666666666667, 0.5066666666666667, 0.5066666666666667, 0.5066666666666667, 0.5066666666666667, 0.5066666666666667, 0.5066666666666667, 0.5066666666666667, 0.5066666666666667, 0.5066666666666667, 0.5066666666666667, 0.5066666666666667, 0.5066666666666667, 0.5066666666666667, 0.5066666666666667, 0.5066666666666667, 0.5066666666666667, 0.5066666666666667, 0.5066666666666667, 0.5066666666666667, 0.5066666666666667, 0.5066666666666667, 0.5066666666666667, 0.5066666666666667, 0.5066666666666667, 0.5066666666666667, 0.5066666666666667, 0.5066666666666667, 0.5066666666666667, 0.5066666666666667, 0.5066666666666667, 0.5066666666666667, 0.5066666666666667, 0.5066666666666667, 0.5066666666666667, 0.5066666666666667, 0.5066666666666667, 0.5066666666666667, 0.5066666666666667, 0.5066666666666667, 0.5066666666666667, 0.5066666666666667, 0.5066666666666667, 0.5066666666666667, 0.5066666666666667, 0.5066666666666667, 0.5066666666666667, 0.5066666666666667, 0.5066666666666667, 0.5066666666666667, 0.5066666666666667, 0.5066666666666667, 0.5066666666666667, 0.5066666666666667, 0.5066666666666667, 0.5066666666666667, 0.5066666666666667, 0.5066666666666667, 0.5066666666666667, 0.5066666666666667, 0.5066666666666667, 0.5066666666666667, 0.5066666666666667, 0.5066666666666667, 0.5066666666666667, 0.5066666666666667, 0.5066666666666667, 0.5066666666666667, 0.5066666666666667, 0.5066666666666667, 0.5066666666666667, 0.5066666666666667, 0.5066666666666667, 0.5066666666666667, 0.5066666666666667, 0.5066666666666667, 0.5066666666666667, 0.5066666666666667, 0.5066666666666667, 0.5066666666666667, 0.5066666666666667, 0.5066666666666667, 0.5066666666666667, 0.5066666666666667, 0.5066666666666667, 0.5066666666666667, 0.5066666666666667, 0.5066666666666667, 0.5066666666666667, 0.5066666666666667, 0.5066666666666667, 0.5066666666666667, 0.5066666666666667, 0.5066666666666667, 0.5066666666666667, 0.5066666666666667, 0.5066666666666667, 0.5066666666666667, 0.5066666666666667, 0.5066666666666667, 0.5066666666666667, 0.5066666666666667, 0.5066666666666667, 0.5066666666666667, 0.5066666666666667, 0.5066666666666667, 0.5066666666666667, 0.5066666666666667, 0.5066666666666667, 0.5066666666666667, 0.5066666666666667, 0.5066666666666667, 0.5066666666666667, 0.5066666666666667, 0.5066666666666667, 0.5066666666666667, 0.5066666666666667, 0.5066666666666667, 0.5066666666666667, 0.5066666666666667, 0.5066666666666667, 0.5066666666666667, 0.5066666666666667, 0.5066666666666667, 0.5066666666666667, 0.5066666666666667, 0.5066666666666667, 0.5066666666666667, 0.5066666666666667, 0.5066666666666667, 0.5066666666666667, 0.5066666666666667, 0.5066666666666667, 0.5066666666666667, 0.5066666666666667, 0.5066666666666667, 0.5066666666666667, 0.5066666666666667, 0.5066666666666667, 0.5066666666666667, 0.5066666666666667, 0.5066666666666667, 0.5066666666666667, 0.5066666666666667, 0.5066666666666667, 0.5066666666666667, 0.5066666666666667, 0.5066666666666667, 0.5066666666666667, 0.5066666666666667, 0.5066666666666667, 0.5066666666666667, 0.5066666666666667, 0.5066666666666667, 0.5066666666666667, 0.5066666666666667, 0.5066666666666667, 0.5066666666666667, 0.5066666666666667, 0.5066666666666667, 0.5066666666666667, 0.5066666666666667, 0.5066666666666667, 0.5066666666666667, 0.5066666666666667, 0.5066666666666667, 0.5066666666666667, 0.5066666666666667, 0.5066666666666667]\n"
     ]
    }
   ],
   "source": [
    "#@title Testing set\n",
    "\n",
    "# Initializing empty list to store losses and accutacies.\n",
    "testlosses = []\n",
    "testaccuracies = []\n",
    "\n",
    "while testset_epochcompleted<=epoch:\n",
    "    test_adj, test_nnodes, test_labels = graphdatasetnextbatch(batchsize, testset_adj, testset_nnodes, testset_labels, testset_indexinepoch, testset_epochcompleted, testset_numexamples)\n",
    "    test_s,test_ ,tempnnodes, tempadj = forward(test_nnodes,test_adj, D, W, A, b)  \n",
    "    test_losss = loss(test_s,test_labels)   # In general neural networks we are using y_hat for the loss function \n",
    "    #calculation but here s=z, the linear part is using to calculate the loss function\n",
    "    #print(\"epoch \",testset_epochcompleted)\n",
    "    testloss = np.average(test_losss)  \n",
    "    testright = np.sum(np.array(test_)==np.array(test_labels))\n",
    "    testacc = testright/len(test_)\n",
    "    #print(\"test loss : \",testloss,\"test acc :\",testacc)\n",
    "    testlosses.append(testloss)\n",
    "    testaccuracies.append(testacc)\n",
    "    testset_epochcompleted += 1\n",
    "\n",
    "print(\"\\n\")\n",
    "print(\"trainloss :\",testlosses)\n",
    "print(\"trainaccuracy :\",testaccuracies)"
   ]
  },
  {
   "cell_type": "code",
   "execution_count": 38,
   "metadata": {
    "colab": {
     "base_uri": "https://localhost:8080/",
     "height": 449
    },
    "id": "A3R6KpuNLe7n",
    "outputId": "7d51e039-f79d-482f-e1aa-1057ffdbe414"
   },
   "outputs": [
    {
     "data": {
      "image/png": "[encoded data removed]",
      "text/plain": [
       "<Figure size 640x480 with 1 Axes>"
      ]
     },
     "metadata": {},
     "output_type": "display_data"
    }
   ],
   "source": [
    "x_axis = [i for i in range(epoch+1)]\n",
    "plt.plot(x_axis , trainlosses, label='train_error')\n",
    "plt.plot(x_axis , testlosses, label='test_error')\n",
    "plt.legend()\n",
    "plt.xlabel(\"Epcohs\")\n",
    "plt.ylabel(\"Error\")\n",
    "plt.show()"
   ]
  },
  {
   "cell_type": "code",
   "execution_count": null,
   "metadata": {},
   "outputs": [],
   "source": []
  }
 ],
 "metadata": {
  "accelerator": "GPU",
  "colab": {
   "provenance": []
  },
  "gpuClass": "standard",
  "kernelspec": {
   "display_name": "Python 3 (ipykernel)",
   "language": "python",
   "name": "python3"
  },
  "language_info": {
   "codemirror_mode": {
    "name": "ipython",
    "version": 3
   },
   "file_extension": ".py",
   "mimetype": "text/x-python",
   "name": "python",
   "nbconvert_exporter": "python",
   "pygments_lexer": "ipython3",
   "version": "3.11.1"
  }
 },
 "nbformat": 4,
 "nbformat_minor": 1
}
