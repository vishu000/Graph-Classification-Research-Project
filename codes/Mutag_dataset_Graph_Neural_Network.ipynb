{
  "nbformat": 4,
  "nbformat_minor": 0,
  "metadata": {
    "colab": {
      "provenance": []
    },
    "kernelspec": {
      "name": "python3",
      "display_name": "Python 3"
    },
    "language_info": {
      "name": "python"
    },
    "accelerator": "GPU",
    "gpuClass": "standard"
  },
  "cells": [
    {
      "cell_type": "code",
      "execution_count": null,
      "metadata": {
        "id": "w8duUrpagly0",
        "cellView": "form"
      },
      "outputs": [],
      "source": [
        "#@title Libraries\n",
        "import numpy as np\n",
        "import unittest\n",
        "import glob\n",
        "import os\n",
        "import matplotlib.pyplot as plt"
      ]
    },
    {
      "cell_type": "code",
      "source": [
        "#@title graphdatasetnextbatch\n",
        "def graphdatasetnextbatch(batchsize, adj, nnodes, labels, indexinepoch, epochcompleted, numexamples, shuffle=True):\n",
        "    # we take start variable and assign indexinepoch.\n",
        "    start = indexinepoch\n",
        "\n",
        "    #Here we check this condidtion and arange and shuffle the graphs list.\n",
        "    if start == 0 and epochcompleted == 0 :\n",
        "        idx = np.arange(0,numexamples)\n",
        "        np.random.shuffle(idx)\n",
        "        adj    = adj[idx]\n",
        "        labels = labels[idx]\n",
        "        nnodes = nnodes[idx]\n",
        "\n",
        "    # Here we check the condition divide the list of graphs into batchsize\n",
        "    if start+batchsize <= numexamples:\n",
        "        indexinepoch += batchsize\n",
        "        end = indexinepoch\n",
        "        adjbatch = adj[start:end]\n",
        "        labelsbatch = labels[start:end]\n",
        "        nnodesbatch = nnodes[start:end]\n",
        "        #Here we return the adjacency matrix, label list, nnodes list of batchsize.\n",
        "        return adjbatch,nnodesbatch,labelsbatch\n",
        "\n",
        "    else :\n",
        "        epochcompleted += 1\n",
        "        restnumexamples = numexamples - start\n",
        "\n",
        "        adjrest = adj[start:numexamples]\n",
        "        labelsrest  = labels[start:numexamples]\n",
        "        nnodesrest = nnodes[start:numexamples]\n",
        "\n",
        "        idx0 = np.arange(0,numexamples)\n",
        "        np.random.shuffle(idx0)\n",
        "        adj = adj[idx0]\n",
        "        labels = labels[idx0]\n",
        "        nnodes = nnodes[idx0]\n",
        "\n",
        "        start = 0\n",
        "        indexinepoch = batchsize - restnumexamples\n",
        "        end = indexinepoch\n",
        "\n",
        "        adjnew = adj[start:end]\n",
        "        labelsnew = labels[start:end]\n",
        "        nnodesnew = nnodes[start:end]\n",
        "\n",
        "        adjbatch = np.concatenate((adjrest,adjnew),axis=0)\n",
        "        labelsbatch = np.concatenate((labelsrest,labelsnew),axis=0)\n",
        "        nnodesbatch = np.concatenate((nnodesrest,nnodesnew),axis=0)\n",
        "        #Here we return the adjacency matrix, label list, nnodes list of batchsize.\n",
        "        return adjbatch,nnodesbatch,labelsbatch"
      ],
      "metadata": {
        "id": "oRFxSOTE36BF",
        "cellView": "form"
      },
      "execution_count": null,
      "outputs": []
    },
    {
      "cell_type": "code",
      "source": [
        "#@title gnninitialize\n",
        "def gnninitialize(D):\n",
        "    \"\"\"\n",
        "    initialization, takes hyper param T and D\n",
        "    T : aggregation step and D : feature vector size\n",
        "    W, A, b : parameters of the network. W and A is\n",
        "                initialized using normal distribution\n",
        "                with sigma = 0.4 and mean = 0\n",
        "    dLdW, dLdA, dLdb : gradient of the parameters\n",
        "    \"\"\"\n",
        "    sigma = 0.4\n",
        "    W = sigma * np.random.randn(D,D)\n",
        "    A = sigma * np.random.randn(D)\n",
        "    b = 0\n",
        "    dLdW = np.zeros((D,D))\n",
        "    dLdA = np.zeros((D))\n",
        "    dLdb = 0\n",
        "    return W, A, dLdW, dLdA, b, dLdb"
      ],
      "metadata": {
        "id": "3SFtH5L5yndY",
        "cellView": "form"
      },
      "execution_count": null,
      "outputs": []
    },
    {
      "cell_type": "code",
      "source": [
        "#@title aggregation1\n",
        "def aggregation1(X,adj):\n",
        "    \"\"\"\n",
        "    Function to calculate aggregation 1, the adjacency\n",
        "    matrix is used to represent the nodes connections\n",
        "    within the graph\n",
        "    Args :\n",
        "        X   : Feature matrix\n",
        "        adj : Adjacency matrix representing the Graph\n",
        "\n",
        "    Return :1\n",
        "        a = sum of feature matrix\n",
        "    \"\"\"\n",
        "    if adj.shape[1] == X.shape[0]:\n",
        "      a = np.dot(adj, X)\n",
        "      return a\n",
        "    else:\n",
        "      a = np.dot(np.transpose(adj),X)\n",
        "      return a"
      ],
      "metadata": {
        "id": "N3EjgIjBO4sq",
        "cellView": "form"
      },
      "execution_count": null,
      "outputs": []
    },
    {
      "cell_type": "code",
      "source": [
        "#@title aggregation2\n",
        "def aggregation2(W,a):\n",
        "    \"\"\"\n",
        "    Function to calculate aggregation 2, here transpose\n",
        "    is used to easily calculating the aggregation using\n",
        "    dot product\n",
        "    Args :\n",
        "        W : D x D weight matrix\n",
        "        a : Output of aggregation1\n",
        "\n",
        "    Return :\n",
        "        x : W . a\n",
        "    \"\"\"\n",
        "    x = np.dot(W,np.transpose(a))\n",
        "    x = np.transpose(x)\n",
        "    return x"
      ],
      "metadata": {
        "id": "ZXrCmWOaQbZf",
        "cellView": "form"
      },
      "execution_count": null,
      "outputs": []
    },
    {
      "cell_type": "code",
      "source": [
        "#@title relu\n",
        "def relu(inp):\n",
        "    \"\"\"\n",
        "    Rectifier Linear Unit Function, max(0,inp)\n",
        "    \"\"\"\n",
        "    out = np.maximum(inp,1)\n",
        "    return out"
      ],
      "metadata": {
        "id": "QSXCMwnTQgzh",
        "cellView": "form"
      },
      "execution_count": null,
      "outputs": []
    },
    {
      "cell_type": "code",
      "source": [
        "#@title readout\n",
        "def readout(X):\n",
        "    \"\"\"\n",
        "    Function to sum all node's feature vectors\n",
        "    Args :\n",
        "        X : Feature vectors\n",
        "    Return :\n",
        "        hG : Sum of all feature vectors\n",
        "    \"\"\"\n",
        "    hG = np.sum(X,axis=0)\n",
        "    return hG"
      ],
      "metadata": {
        "id": "OtCc__BTQoma",
        "cellView": "form"
      },
      "execution_count": null,
      "outputs": []
    },
    {
      "cell_type": "code",
      "source": [
        "#@title so\n",
        "def so(hG,A,b):\n",
        "    \"\"\"\n",
        "    Predictor function with parameter A and b\n",
        "    Args :\n",
        "        hG : last output of aggregation module\n",
        "        A  : D size parameter\n",
        "        b  : bias of predictor function\n",
        "    Return :\n",
        "        s : output of predictor function\n",
        "    \"\"\"\n",
        "    s1 = np.dot(hG,A)+b\n",
        "    return s1\n"
      ],
      "metadata": {
        "id": "3uMUUq0oQpC3",
        "cellView": "form"
      },
      "execution_count": null,
      "outputs": []
    },
    {
      "cell_type": "code",
      "source": [
        "#@title sigmoid\n",
        "def sigmoid(s):\n",
        "        p = 1/(1+np.exp(-s))\n",
        "        return p"
      ],
      "metadata": {
        "id": "4jeOtO0SQ9GF",
        "cellView": "form"
      },
      "execution_count": null,
      "outputs": []
    },
    {
      "cell_type": "code",
      "source": [
        "#@title output\n",
        "def output(p):\n",
        "    \"\"\"\n",
        "    output the predicted class\n",
        "    Args :\n",
        "        p : output of sigmoid function\n",
        "    Return :\n",
        "        out : predicted class 0 or 1\n",
        "\n",
        "    \"\"\"\n",
        "    out = np.where((p>0.5),1,0)\n",
        "    return out\n"
      ],
      "metadata": {
        "id": "m2lgeFsNRDbe",
        "cellView": "form"
      },
      "execution_count": null,
      "outputs": []
    },
    {
      "cell_type": "code",
      "source": [
        "#@title forward\n",
        "def forward(nnodes, adj, D, W, A, b, T):\n",
        "    \"\"\"\n",
        "    forward method to calculate forward propagation of the nets\n",
        "    Args :\n",
        "        nnodes  : number of nodes in the batch\n",
        "        adj     : adjacency matrix\n",
        "        W       : parameter matrix W\n",
        "        A       : parameter vector A\n",
        "        b       : bias b\n",
        "    Return :\n",
        "        slist       : vector of predictor value\n",
        "        output list : vector of predicted class`\n",
        "    \"\"\"\n",
        "    slist = []\n",
        "    outputlist = []\n",
        "\n",
        "    X = []\n",
        "\n",
        "    # feature vector definition\n",
        "    feat =  np.zeros(D)\n",
        "    feat[0] = 1\n",
        "\n",
        "    tempnnodes = nnodes\n",
        "    tempadj = adj\n",
        "\n",
        "    for i in range(adj.shape[0]):\n",
        "        X.append(np.tile(feat,[nnodes[i],1]))\n",
        "        for j in range(T):\n",
        "            a = aggregation1(X[i],adj[i])\n",
        "            x = aggregation2(W,a)\n",
        "            out = relu(x)\n",
        "            X[i] = out\n",
        "        # we sum the column elements\n",
        "        hG = readout(X[i])\n",
        "        # From here it is same as simple neural network\n",
        "        s = so(hG,A,b)       # Linear part\n",
        "        p = sigmoid(s)       # y_hat\n",
        "        output1 = output(p)  # 0/1 value for the binary classification\n",
        "        slist.append(s)\n",
        "        outputlist.append(int(output1))\n",
        "    return slist,outputlist, tempnnodes, tempadj"
      ],
      "metadata": {
        "id": "0JKjTHnVRMdm",
        "cellView": "form"
      },
      "execution_count": null,
      "outputs": []
    },
    {
      "cell_type": "code",
      "source": [
        "#@title loss\n",
        "def loss(s,y):\n",
        "    \"\"\"\n",
        "    loss function\n",
        "    Args :\n",
        "        s   : vector of predictor values\n",
        "        y   : vector of true class labels\n",
        "    Return :\n",
        "        losslist : vector of loss values\n",
        "    \"\"\"\n",
        "    losslist = []\n",
        "    for i in range (len(s)):\n",
        "        if np.exp(s[i]) > np.finfo(type(np.exp(s[i]))).max:\n",
        "            loss = y[i]*np.log(1+np.exp(-s[i])) + (1-y[i]) * s[i] #avoid overflow\n",
        "        else :\n",
        "            loss = y[i]*np.log(1+np.exp(-s[i])) + (1-y[i]) * np.log(1+np.exp(s[i]))\n",
        "        losslist.append(loss)\n",
        "\n",
        "    return losslist"
      ],
      "metadata": {
        "id": "veU2cn3tRNgy",
        "cellView": "form"
      },
      "execution_count": null,
      "outputs": []
    },
    {
      "cell_type": "code",
      "source": [
        "#@title backward\n",
        "def backward(loss1, y, epsilon, tempnnodes, tempadj, D, W, A, b):\n",
        "    \"\"\"\n",
        "    Backpropagation function to calculate and update\n",
        "    the gradient of the neural network\n",
        "    Args :\n",
        "        loss    : loss vector\n",
        "        y       : true class label\n",
        "        epsilon : small pertubation value for numerical\n",
        "                    differentiation\n",
        "\n",
        "    \"\"\"\n",
        "    tempdLdW = np.zeros((D,D))\n",
        "    tempdLdA = np.zeros((D))\n",
        "    tempdLdb = 0\n",
        "    batchsize = len(loss1)\n",
        "\n",
        "    for i in range (D):\n",
        "        for j in range (D):\n",
        "            deltaW = np.zeros((D,D))\n",
        "            deltaW[i,j] = epsilon\n",
        "            Wepsilon = W+deltaW\n",
        "            W = Wepsilon            # updated W based on epsilon\n",
        "            sep, _, tempnnodes, tempadj = forward(tempnnodes, tempadj, D, W, A, b, T)\n",
        "            lossep = loss(sep,y)\n",
        "            for k in range(batchsize):\n",
        "                tempdLdW[i,j] += (lossep[k] - loss1[k])/epsilon\n",
        "            tempdLdW[i,j] = tempdLdW[i,j]/batchsize\n",
        "\n",
        "    for i in range (D):\n",
        "        deltaA = np.zeros((D))\n",
        "        deltaA[i] = epsilon\n",
        "        Aepsilon = A + deltaA\n",
        "        A=Aepsilon\n",
        "        sep, _, tempnnodes, tempadj = forward(tempnnodes, tempadj, D, W, A, b, T)\n",
        "        lossep = loss(sep,y)\n",
        "        for j in range(batchsize):\n",
        "            tempdLdA[i] += (lossep[j] - loss1[j])/epsilon\n",
        "        tempdLdA[i] = tempdLdA[i]/batchsize\n",
        "\n",
        "    bepsilon = b + epsilon\n",
        "    b=bepsilon\n",
        "    sep, _, tempnnodes, tempadj = forward(tempnnodes, tempadj, D, W, A, b, T)\n",
        "    lossep = loss(sep,y)\n",
        "    for i in range(batchsize):\n",
        "        tempdLdb += (lossep[i] - loss1[i])/epsilon\n",
        "    tempdLdb = tempdLdb/batchsize\n",
        "\n",
        "    dLdW = tempdLdW\n",
        "    dLdA = tempdLdA\n",
        "    dLdb = tempdLdb\n",
        "    return dLdW, dLdA, dLdb"
      ],
      "metadata": {
        "id": "Gns_KDhBRj_5",
        "cellView": "form"
      },
      "execution_count": null,
      "outputs": []
    },
    {
      "cell_type": "code",
      "source": [
        "#@title SGD\n",
        "def SGD(lr, W, A, b, dLdW,dLdA,dLdb):\n",
        "    newW = W - lr*dLdW\n",
        "    newA = A - lr*dLdA\n",
        "    newb = b - lr*dLdb\n",
        "    W, A, b = newW,newA,newb\n",
        "    return W, A, b"
      ],
      "metadata": {
        "id": "tEj-yTBZSjNP",
        "cellView": "form"
      },
      "execution_count": null,
      "outputs": []
    },
    {
      "cell_type": "code",
      "source": [
        "#@title import torch\n",
        "# Install required packages.\n",
        "import os\n",
        "import torch\n",
        "os.environ['TORCH'] = torch.__version__\n",
        "print(torch.__version__)\n",
        "\n",
        "!pip install -q torch-scatter -f https://data.pyg.org/whl/torch-${TORCH}.html\n",
        "!pip install -q torch-sparse -f https://data.pyg.org/whl/torch-${TORCH}.html\n",
        "!pip install -q git+https://github.com/pyg-team/pytorch_geometric.git"
      ],
      "metadata": {
        "colab": {
          "base_uri": "https://localhost:8080/"
        },
        "id": "tqzzv8T94_MF",
        "outputId": "f677e09e-bdd8-47cd-e83d-b23c4459eb2c",
        "cellView": "form"
      },
      "execution_count": null,
      "outputs": [
        {
          "output_type": "stream",
          "name": "stdout",
          "text": [
            "2.0.0+cu118\n",
            "\u001b[2K     \u001b[90m━━━━━━━━━━━━━━━━━━━━━━━━━━━━━━━━━━━━━━━━\u001b[0m \u001b[32m10.2/10.2 MB\u001b[0m \u001b[31m31.7 MB/s\u001b[0m eta \u001b[36m0:00:00\u001b[0m\n",
            "\u001b[2K     \u001b[90m━━━━━━━━━━━━━━━━━━━━━━━━━━━━━━━━━━━━━━━━\u001b[0m \u001b[32m4.8/4.8 MB\u001b[0m \u001b[31m41.8 MB/s\u001b[0m eta \u001b[36m0:00:00\u001b[0m\n",
            "\u001b[?25h  Installing build dependencies ... \u001b[?25l\u001b[?25hdone\n",
            "  Getting requirements to build wheel ... \u001b[?25l\u001b[?25hdone\n",
            "  Preparing metadata (pyproject.toml) ... \u001b[?25l\u001b[?25hdone\n",
            "  Building wheel for torch_geometric (pyproject.toml) ... \u001b[?25l\u001b[?25hdone\n"
          ]
        }
      ]
    },
    {
      "cell_type": "code",
      "source": [
        "#@title import dataset\n",
        "import torch\n",
        "from torch_geometric.datasets import TUDataset\n",
        "dataset = TUDataset(root='data/TUDataset', name='MUTAG')\n",
        "\n",
        "print()\n",
        "print(f'Dataset: {dataset}:')\n",
        "print('====================')\n",
        "print(f'Number of graphs: {len(dataset)}')\n",
        "print(f'Number of features: {dataset.num_features}')\n",
        "print(f'Number of classes: {dataset.num_classes}')"
      ],
      "metadata": {
        "colab": {
          "base_uri": "https://localhost:8080/"
        },
        "id": "pt9lJX8n5JyI",
        "outputId": "f96e8601-d31c-44c8-aeab-bd9c37ecf255",
        "cellView": "form"
      },
      "execution_count": null,
      "outputs": [
        {
          "output_type": "stream",
          "name": "stderr",
          "text": [
            "Downloading https://www.chrsmrrs.com/graphkerneldatasets/MUTAG.zip\n"
          ]
        },
        {
          "output_type": "stream",
          "name": "stdout",
          "text": [
            "\n",
            "Dataset: MUTAG(188):\n",
            "====================\n",
            "Number of graphs: 188\n",
            "Number of features: 7\n",
            "Number of classes: 2\n"
          ]
        },
        {
          "output_type": "stream",
          "name": "stderr",
          "text": [
            "Extracting data/TUDataset/MUTAG/MUTAG.zip\n",
            "Processing...\n",
            "Done!\n"
          ]
        }
      ]
    },
    {
      "cell_type": "code",
      "source": [
        "graphs = []\n",
        "avgnodedegree = []\n",
        "NumNodes = []\n",
        "NumEdges = []\n",
        "\n",
        "for i in range(len(dataset)):\n",
        "  graphs.append(i+1)\n",
        "  avgnodedegree.append(dataset[i].num_edges/dataset[i].num_nodes)\n",
        "  NumNodes.append(dataset[i].num_nodes)\n",
        "  NumEdges.append(dataset[i].num_edges)"
      ],
      "metadata": {
        "id": "QN3MWnnmrIj2"
      },
      "execution_count": null,
      "outputs": []
    },
    {
      "cell_type": "code",
      "source": [
        "plt.bar(graphs, avgnodedegree)\n",
        "plt.xlabel('Graphs')\n",
        "plt.ylabel('Avarage Node Degree')\n",
        "plt.title('Average Node Degree')\n",
        "plt.savefig('Mutag_AverageNodeDegree.png')\n",
        "plt.show()"
      ],
      "metadata": {
        "colab": {
          "base_uri": "https://localhost:8080/",
          "height": 472
        },
        "id": "i6jFxMcDrIcm",
        "outputId": "cef9edd2-5260-445c-a343-199c9dece46e"
      },
      "execution_count": null,
      "outputs": [
        {
          "output_type": "display_data",
          "data": {
            "text/plain": [
              "<Figure size 640x480 with 1 Axes>"
            ],
            "image/png": "[encoded data removed]"
          },
          "metadata": {}
        }
      ]
    },
    {
      "cell_type": "code",
      "source": [
        "plt.bar(graphs, NumNodes)\n",
        "plt.xlabel('Graphs')\n",
        "plt.ylabel('Number of Nodes')\n",
        "plt.title('Number of Nodes')\n",
        "plt.savefig('Mutag_Number of Nodes.png')\n",
        "plt.show()"
      ],
      "metadata": {
        "colab": {
          "base_uri": "https://localhost:8080/",
          "height": 472
        },
        "id": "hXYJwGWzrITs",
        "outputId": "6276945a-845a-4cda-d124-c008675ac48d"
      },
      "execution_count": null,
      "outputs": [
        {
          "output_type": "display_data",
          "data": {
            "text/plain": [
              "<Figure size 640x480 with 1 Axes>"
            ],
            "image/png": "[encoded data removed]"
          },
          "metadata": {}
        }
      ]
    },
    {
      "cell_type": "code",
      "source": [
        "plt.bar(graphs, NumEdges)\n",
        "plt.xlabel('Graphs')\n",
        "plt.ylabel('Number of Edges')\n",
        "plt.title('Number of Edges')\n",
        "plt.savefig('Mutag_Number of Edges.png')\n",
        "plt.show()"
      ],
      "metadata": {
        "colab": {
          "base_uri": "https://localhost:8080/",
          "height": 472
        },
        "id": "2pe4nGJdrp3w",
        "outputId": "0ea2b370-40b9-4b1e-83e3-ec10790c2a7b"
      },
      "execution_count": null,
      "outputs": [
        {
          "output_type": "display_data",
          "data": {
            "text/plain": [
              "<Figure size 640x480 with 1 Axes>"
            ],
            "image/png": "[encoded data removed]"
          },
          "metadata": {}
        }
      ]
    },
    {
      "cell_type": "code",
      "source": [
        "#@title splitting dataset\n",
        "train_dataset = dataset[:120]\n",
        "test_dataset = dataset[120:]\n",
        "\n",
        "train_adj = []\n",
        "train_nnodes = []\n",
        "train_labels = []\n",
        "\n",
        "test_adj = []\n",
        "test_nnodes = []\n",
        "test_labels = []\n",
        "\n",
        "for i in range(len(train_dataset)):\n",
        "  train_adj.append(np.array(train_dataset[i].x.tolist()))\n",
        "  train_nnodes.append(train_dataset[i].num_nodes)\n",
        "  train_labels.append(int(train_dataset[i].y))\n",
        "\n",
        "for i in range(len(test_dataset)):\n",
        "  test_adj.append(np.array(test_dataset[i].x.tolist()))\n",
        "  test_nnodes.append(test_dataset[i].num_nodes)\n",
        "  test_labels.append(int(test_dataset[i].y))\n",
        "\n",
        "trainset_adj = np.array(train_adj,dtype=object)\n",
        "trainset_nnodes = np.array(train_nnodes)\n",
        "trainset_labels = np.array(train_labels)\n",
        "trainset_epochcompleted = 0\n",
        "trainset_indexinepoch = 0\n",
        "trainset_numexamples = int(len(train_dataset))\n",
        "\n",
        "testset_adj = np.array(test_adj,dtype=object)\n",
        "testset_nnodes = np.array(test_nnodes)\n",
        "testset_labels = np.array(test_labels)\n",
        "testset_epochcompleted = 0\n",
        "testset_indexinepoch = 0\n",
        "testset_numexamples = int(len(test_dataset))"
      ],
      "metadata": {
        "id": "ADnxsdth5OAk"
      },
      "execution_count": null,
      "outputs": []
    },
    {
      "cell_type": "code",
      "source": [
        "#@title Parameters\n",
        "\n",
        "#path = \"/content\"\n",
        "#path = \"/content/drive/MyDrive/Datasets/datasets/train\"  #path of the dataset\n",
        "batchsizetrain = len(trainset_adj)\n",
        "batchsizetest = len(testset_adj)\n",
        "T = 1        # Number of aggregation steps #1\n",
        "D = 2              # Dimension of feature vectors #2\n",
        "#optimizer = \"SGD\"  # Optimization methods\n",
        "lr = 0.00005        # Learning rate #0.0005\n",
        "#momentum  = 0.2   # Parameter for SGDM optimizer\n",
        "epoch     = 200     # 500\n",
        "epsilon   = 0.5      # some parameter related to learning rate    #0.5\n",
        "W, A, dLdW, dLdW, dLdb, b  = gnninitialize(D)"
      ],
      "metadata": {
        "id": "5xXPkygwoyoS"
      },
      "execution_count": null,
      "outputs": []
    },
    {
      "cell_type": "code",
      "source": [
        "#@title Training set\n",
        "\n",
        "# Initializing empty list to store losses and accutacies.\n",
        "trainlosses = []\n",
        "trainaccuracies = []\n",
        "train_epoch = 0\n",
        "\n",
        "while train_epoch < epoch:\n",
        "    train_adj, train_nnodes, train_labels = graphdatasetnextbatch(batchsizetrain, trainset_adj, trainset_nnodes, trainset_labels, trainset_indexinepoch, trainset_epochcompleted, trainset_numexamples)\n",
        "\n",
        "    train_s,train_ ,tempnnodes, tempadj = forward(train_nnodes, train_adj, D, W, A, b, T)\n",
        "\n",
        "    train_losss = loss(train_s,train_labels)  # In general neural networks we are using y_hat for the loss function\n",
        "    #calculation but here s = z, the linear part is using to calculate the loss function\n",
        "\n",
        "    dLdW, dLdA, dLdb = backward(train_losss, train_labels, epsilon, tempnnodes, tempadj, D, W, A, b)\n",
        "    W, A, b = SGD(lr, W, A, b, dLdW,dLdA,dLdb)\n",
        "\n",
        "    trainloss = np.average(train_losss)\n",
        "    trainright = np.sum(np.array(train_) == np.array(train_labels))\n",
        "    trainacc = trainright/len(train_)\n",
        "    trainlosses.append(trainloss)\n",
        "    trainaccuracies.append(trainacc)\n",
        "    train_epoch += 1\n",
        "\n",
        "    print(\"epoch \",train_epoch)\n",
        "    print(\"W :\",W)\n",
        "    print(\"A :\",A)\n",
        "    print(\"b :\",b)"
      ],
      "metadata": {
        "id": "S0d7ufbSyOM9"
      },
      "execution_count": null,
      "outputs": []
    },
    {
      "cell_type": "code",
      "source": [
        "x_axis = [i for i in range(epoch)]\n",
        "plt.plot(x_axis , trainlosses, label='train_error')\n",
        "plt.legend()\n",
        "plt.xlabel(\"Epcohs\")\n",
        "plt.ylabel(\"Error\")\n",
        "plt.savefig('Mutag_errorVSepoch.png')\n",
        "plt.show()"
      ],
      "metadata": {
        "colab": {
          "base_uri": "https://localhost:8080/",
          "height": 449
        },
        "id": "A3R6KpuNLe7n",
        "outputId": "ca3f7987-1c07-4d97-b6d3-89c5c6e56f6d"
      },
      "execution_count": null,
      "outputs": [
        {
          "output_type": "display_data",
          "data": {
            "text/plain": [
              "<Figure size 640x480 with 1 Axes>"
            ],
            "image/png": "[encoded data removed]"
          },
          "metadata": {}
        }
      ]
    },
    {
      "cell_type": "code",
      "source": [
        "x_axis = [i for i in range(epoch)]\n",
        "plt.plot(x_axis , trainaccuracies, label='trainaccuracies')\n",
        "plt.legend()\n",
        "plt.xlabel(\"Epcohs\")\n",
        "plt.ylabel(\"accuracy\")\n",
        "plt.savefig('Mutag_errorVSaccuracies.png')\n",
        "plt.show()"
      ],
      "metadata": {
        "colab": {
          "base_uri": "https://localhost:8080/",
          "height": 449
        },
        "id": "EwQRqqbIvJ_5",
        "outputId": "dbd7eef4-7c66-4035-ad60-fe2294724afb"
      },
      "execution_count": null,
      "outputs": [
        {
          "output_type": "display_data",
          "data": {
            "text/plain": [
              "<Figure size 640x480 with 1 Axes>"
            ],
            "image/png": "[encoded data removed]"
          },
          "metadata": {}
        }
      ]
    },
    {
      "cell_type": "code",
      "source": [
        "# W, A, b\n",
        "\n",
        "test_adj, test_nnodes, test_labels = graphdatasetnextbatch(batchsizetest, testset_adj, testset_nnodes, testset_labels, testset_indexinepoch, testset_epochcompleted, testset_numexamples)\n",
        "# Forward propagation\n",
        "test_s,test_ ,tempnnodes, tempadj = forward(test_nnodes,test_adj, D, W, A, b, T)\n",
        "print(test_)\n",
        "print(test_labels)"
      ],
      "metadata": {
        "colab": {
          "base_uri": "https://localhost:8080/"
        },
        "id": "7D6DzLybGv2X",
        "outputId": "1f2f2e59-3861-4188-c65d-43e4474e06fa"
      },
      "execution_count": null,
      "outputs": [
        {
          "output_type": "stream",
          "name": "stdout",
          "text": [
            "[1, 1, 1, 1, 1, 1, 1, 1, 1, 1, 1, 1, 1, 1, 1, 1, 1, 1, 1, 1, 1, 1, 1, 1, 1, 1, 1, 1, 1, 1, 1, 1, 1, 1, 1, 1, 1, 1, 1, 1, 1, 1, 1, 1, 1, 1, 1, 1, 1, 1, 1, 1, 1, 1, 1, 1, 1, 1, 1, 1, 1, 1, 1, 1, 1, 1, 1, 1]\n",
            "[0 1 1 0 1 1 0 1 1 0 0 1 0 1 1 1 1 1 0 0 1 1 1 1 1 1 0 0 1 0 1 1 0 1 1 0 0\n",
            " 0 0 0 0 0 0 0 1 0 0 1 1 1 1 0 0 1 1 1 1 0 1 1 0 1 1 1 1 1 0 1]\n"
          ]
        }
      ]
    },
    {
      "cell_type": "code",
      "source": [
        "correct_predictions = np.sum(test_ == test_labels)\n",
        "accuracy = correct_predictions / len(test_) * 100\n",
        "print(accuracy,\"%\")"
      ],
      "metadata": {
        "colab": {
          "base_uri": "https://localhost:8080/"
        },
        "id": "6V_OhM5iwHXw",
        "outputId": "9e830dd8-f290-4f22-a209-e76ff67c6b6c"
      },
      "execution_count": null,
      "outputs": [
        {
          "output_type": "stream",
          "name": "stdout",
          "text": [
            "58.82352941176471 %\n"
          ]
        }
      ]
    },
    {
      "cell_type": "code",
      "source": [
        "countequal  = 0\n",
        "countunequal = 0\n",
        "\n",
        "for i in range(len(test_)):\n",
        "  if test_[i] == test_labels[i]:\n",
        "    countequal += 1\n",
        "  else:\n",
        "    countunequal += 1\n",
        "\n",
        "print(countequal)\n",
        "print(countunequal)"
      ],
      "metadata": {
        "colab": {
          "base_uri": "https://localhost:8080/"
        },
        "id": "ZBAo1dusH58m",
        "outputId": "a4b7213e-7e40-4144-8237-8342965b8c08"
      },
      "execution_count": null,
      "outputs": [
        {
          "output_type": "stream",
          "name": "stdout",
          "text": [
            "40\n",
            "28\n"
          ]
        }
      ]
    }
  ]
}