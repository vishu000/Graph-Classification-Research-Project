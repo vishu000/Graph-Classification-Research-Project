{
  "nbformat": 4,
  "nbformat_minor": 0,
  "metadata": {
    "colab": {
      "provenance": []
    },
    "kernelspec": {
      "name": "python3",
      "display_name": "Python 3"
    },
    "language_info": {
      "name": "python"
    },
    "accelerator": "GPU",
    "gpuClass": "standard"
  },
  "cells": [
    {
      "cell_type": "markdown",
      "source": [
        "#Classical Method(Least curve fitting)"
      ],
      "metadata": {
        "id": "eB_SAWEa1A70"
      }
    },
    {
      "cell_type": "markdown",
      "source": [
        "$$Classical -Method$$\n",
        "$$Least -Curve- Fittting(Least Square)$$\n",
        "\n",
        "$Data-Points(x,y):${$(1,3)$,$(2,5)$,$(3,7)$,$(4,9)$,$(5,11)$,$(6,13)$,$(7,15)$,$(8,17)$,$(9,19)$,$(10,21)$}\n",
        "\n",
        "The equation of least square line is given by $Y = a + bX$\n",
        "\n",
        "Normal equation for $‘a’:$ $∑Y = na + b∑X$\n",
        "\n",
        "Normal equation for $‘b’:$ $∑XY = a∑X + b∑X^2$\n",
        "\n",
        "Solving these two normal equations we can get the required trend line equation.\n",
        "\n",
        "Thus, we can get the line of best fit with formula $Y = a + bX$\n",
        "\n",
        "<table>\n",
        "  <tr>\n",
        "    <th>$X$</th>\n",
        "    <th>$Y$</th>\n",
        "    <th>$X^2$</th>\n",
        "    <th>$XY$</th>\n",
        "  </tr>\n",
        "  <tr>\n",
        "    <th>$1$</th>\n",
        "    <th>$3$</th>\n",
        "    <th>$1$</th>\n",
        "    <th>$4$</th>\n",
        "  </tr>\n",
        "  <tr>\n",
        "    <th>$2$</th>\n",
        "    <th>$5$</th>\n",
        "    <th>$4$</th>\n",
        "    <th>$10$</th>\n",
        "  </tr>\n",
        "  <tr>\n",
        "    <th>$3$</th>\n",
        "    <th>$7$</th>\n",
        "    <th>$9$</th>\n",
        "    <th>$21$</th>\n",
        "  </tr>\n",
        "  <tr>\n",
        "    <th>$4$</th>\n",
        "    <th>$9$</th>\n",
        "    <th>$16$</th>\n",
        "    <th>$36$</th>\n",
        "  </tr>\n",
        "  <tr>\n",
        "    <th>$5$</th>\n",
        "    <th>$11$</th>\n",
        "    <th>$25$</th>\n",
        "    <th>$55$</th>\n",
        "  </tr>\n",
        "  <tr>\n",
        "    <th>$6$</th>\n",
        "    <th>$13$</th>\n",
        "    <th>$36$</th>\n",
        "    <th>$78$</th>\n",
        "  </tr>\n",
        "  <tr>\n",
        "    <th>$7$</th>\n",
        "    <th>$15$</th>\n",
        "    <th>$49$</th>\n",
        "    <th>$105$</th>\n",
        "  </tr>\n",
        "  <tr>\n",
        "    <th>$8$</th>\n",
        "    <th>$17$</th>\n",
        "    <th>$64$</th>\n",
        "    <th>$136$</th>\n",
        "  </tr>\n",
        "  <tr>\n",
        "    <th>$9$</th>\n",
        "    <th>$19$</th>\n",
        "    <th>$81$</th>\n",
        "    <th>$171$</th>\n",
        "  </tr>\n",
        "  <tr>\n",
        "    <th>$10$</th>\n",
        "    <th>$21$</th>\n",
        "    <th>$100$</th>\n",
        "    <th>$210$</th>\n",
        "  </tr>\n",
        "  <tr>\n",
        "    <th>$∑X=55$</th>\n",
        "    <th>$∑Y=120$</th>\n",
        "    <th>$∑X^2=385$</th>\n",
        "    <th>$∑XY=825$</th>\n",
        "  </tr>\n",
        "</table>\n",
        "\n",
        "Normal equations are\n",
        "\n",
        "$∑Y = na + b∑X$ ⟹ $120 = 10a + 55b$ ⟹ $2a + 11b = 24$\n",
        "\n",
        "$∑XY = a∑X + b∑X^2$ ⟹ $825 = 55a + 385b$ ⟹ $a + 7b = 15$\n",
        "\n",
        "solving above equations we get $a = 1,b=2$\n",
        "\n",
        "least curve fit equation is $Y = a +bX$ ⟹ $Y = 2X + 1$"
      ],
      "metadata": {
        "id": "lSJPcIz6jQQV"
      }
    },
    {
      "cell_type": "code",
      "source": [
        "import numpy as np\n",
        "from sympy import *\n",
        "\n",
        "# Define the input and output data\n",
        "x = np.array([[1],[2],[3],[4],[5],[6],[7],[8],[9],[10]] , dtype=np.float128)\n",
        "y = np.array([[3],[5],[7],[9],[11],[13],[15],[17],[19],[21]] , dtype=np.float128)\n",
        "sum_x = np.sum(x) #Sum of inputs(∑X)\n",
        "sum_y = np.sum(y) #sum of outputs(∑Y)\n",
        "sum_x_square = np.sum(x**2) # sum of square of inputs(∑X^2)\n",
        "sum_xy = np.sum(x*y) #sum of input*output\n",
        "\n",
        "#The Normal equations are\n",
        "n = len(x)\n",
        "a = symbols('a')\n",
        "b = symbols('b')\n",
        "eq1 = Eq(sum_y,a*n+b*sum_x) #∑Y=na+b∑X\n",
        "eq2 = Eq(sum_xy,a*sum_x + b*sum_x_square) #∑XY=a∑X+b∑X^2\n",
        "\n",
        "result = solve([eq1,eq2],(a,b))\n",
        "a = result[a]\n",
        "b = result[b]\n",
        "\n",
        "#final equation of curve fitting\n",
        "X = symbols('X')\n",
        "Y = symbols('Y')\n",
        "res = Eq(Y,a+b*X)\n",
        "display(res)\n"
      ],
      "metadata": {
        "colab": {
          "base_uri": "https://localhost:8080/",
          "height": 39
        },
        "id": "SKIbJe30jZDX",
        "outputId": "fa8ec619-39ae-4a3e-e878-79c98774a613"
      },
      "execution_count": null,
      "outputs": [
        {
          "output_type": "display_data",
          "data": {
            "text/plain": [
              "Eq(Y, 2.0*X + 1.0)"
            ],
            "text/latex": "$\\displaystyle Y = 2.0 X + 1.0$"
          },
          "metadata": {}
        }
      ]
    },
    {
      "cell_type": "code",
      "source": [
        "import matplotlib.pyplot as plt\n",
        "\n",
        "x_axis = [i+1 for i in range(10)]\n",
        "y_axis = []\n",
        "for i in range(len(x)):\n",
        "    y_val = res.rhs.subs(X, x_axis[i])\n",
        "    y_axis.append(y_val)\n",
        "plt.plot(x,y,'ro',label=\"orginal_values\")\n",
        "plt.plot(x_axis,y_axis,'b',label=\"least_CurveFit\")\n",
        "plt.xlabel('x')\n",
        "plt.ylabel('y')\n",
        "plt.legend()\n",
        "plt.savefig('Least_curve_fit.png')\n",
        "plt.show()"
      ],
      "metadata": {
        "colab": {
          "base_uri": "https://localhost:8080/",
          "height": 449
        },
        "id": "kFjm_oJjjY2E",
        "outputId": "80894226-a43d-4627-88a4-8dc3c70b8ffe"
      },
      "execution_count": null,
      "outputs": [
        {
          "output_type": "display_data",
          "data": {
            "text/plain": [
              "<Figure size 640x480 with 1 Axes>"
            ],
            "image/png": "[encoded data removed]"
          },
          "metadata": {}
        }
      ]
    },
    {
      "cell_type": "markdown",
      "source": [
        "#Single neuron"
      ],
      "metadata": {
        "id": "LrOix-za1JzM"
      }
    },
    {
      "cell_type": "markdown",
      "source": [
        "$$Single-Neuron$$\n",
        "$$By-hand-calculation$$\n",
        "\n",
        "$input(x)$ = 1 and $output(y)$ = 0.33\n",
        "\n",
        "$weight(w)$ = 1 , $bias(b)$ = 1 and $learningrate(α)$=0.1\n",
        "\n",
        "$ActivationFunction--$ $Sigmoid,i.e,$ $𝛔(x)=\\frac{1}{1+e^{-x}}$\n",
        "\n",
        "$1^{st}-iteration$\n",
        "\n",
        "$z = w*x+b = 2$\n",
        "\n",
        "$ŷ = σ(z) = 0.8807$\n",
        "\n",
        "$mse(L) = (ŷ-y)^2 = 0.3000$\n",
        "\n",
        "$\\frac{∂L}{∂w} = \\frac{∂L}{∂ŷ}*\\frac{∂ŷ}{∂z}*\\frac{∂z}{∂w} = 2(ŷ-y)*[σ(z)*(1-σ(z))]*x = 0.1150$\n",
        "\n",
        "$\\frac{∂L}{∂b} = \\frac{∂L}{∂ŷ}*\\frac{∂ŷ}{∂z}*\\frac{∂z}{∂b} = 2(ŷ-y)*[σ(z)*(1-σ(z))] = 0.1150$\n",
        "\n",
        "$w' = w - α *\\frac{∂L}{∂w} = 0.9884$\n",
        "\n",
        "$b' = b - α *\\frac{∂L}{∂b} = 0.9884$\n",
        "\n",
        "\\\\\n",
        "\n",
        "$2^{nd}-iteration$\n",
        "\n",
        "$z = w*x+b = 1.976$\n",
        "\n",
        "$ŷ = σ(z) = 0.8783$\n",
        "\n",
        "$mse(L) = (ŷ-y)^2 = 0.2974$\n",
        "\n",
        "$∂L/∂w = ∂L/∂ŷ*∂ŷ/∂z*∂z/∂w = 2(ŷ-y)*[σ(z)*(1-σ(z))]*x = 0.1165$\n",
        "\n",
        "$∂L/∂b = ∂L/∂ŷ*∂ŷ/∂z*∂z/∂b = 2(ŷ-y)*[σ(z)*(1-σ(z))] = 0.1165$\n",
        "\n",
        "$w' = w - α *∂L/∂w = 0.9768$\n",
        "\n",
        "$b' = b - α *∂L/∂b = 0.9768$\n"
      ],
      "metadata": {
        "id": "89BV4aD5srSV"
      }
    },
    {
      "cell_type": "markdown",
      "source": [
        "$$Numpy -Implementatoion$$"
      ],
      "metadata": {
        "id": "zkUKf9kb1Q7t"
      }
    },
    {
      "cell_type": "code",
      "source": [
        "import numpy as np\n",
        "\n",
        "class single_neuron:\n",
        "  def __init__(self,x,y,w1,b):\n",
        "    self.x = x\n",
        "    self.y = y\n",
        "    self.w1 = w1\n",
        "    self.b = b\n",
        "\n",
        "  def sigmoid_fun(self,a):\n",
        "    return 1/(1 + np.exp(-a))\n",
        "\n",
        "  def der(self,a):\n",
        "    return self.sigmoid_fun(a) * (1- self.sigmoid_fun(a))\n",
        "\n",
        "  def sigmoid_neuron(self,alpha,lis):\n",
        "    lis = []\n",
        "    print(\"learning rate=\",alpha)\n",
        "    for epo in range(501):\n",
        "      z = self.w1*self.x + self.b\n",
        "      y_hat = self.sigmoid_fun(z)\n",
        "      mse = (y_hat - self.y)**2\n",
        "      lis.append(mse)\n",
        "      dLdw1 = 2*(y_hat - self.y)*self.der(z)*self.x\n",
        "      dLdb = 2*(y_hat - self.y)*self.der(z)\n",
        "\n",
        "      self.w1 = self.w1 - alpha*dLdw1\n",
        "      self.b = self.b - alpha*dLdb\n",
        "\n",
        "      if epo%100==0:\n",
        "        print(\"epoch\",epo,end=\"   \")\n",
        "        print(\"MSE=\",mse,end=\"   \")\n",
        "        print(\"Predicted= \",y_hat)\n",
        "    print(\"\\n\")\n",
        "    return lis\n",
        "\n",
        "x = 1\n",
        "y = 0.33\n",
        "w1 = 1\n",
        "b = 1\n",
        "lis = []\n",
        "obj = single_neuron(x,y,w1,b)\n",
        "lis1 = obj.sigmoid_neuron(0.01,lis)\n",
        "obj = single_neuron(x,y,w1,b)\n",
        "lis2 = obj.sigmoid_neuron(0.05,lis)\n",
        "obj = single_neuron(x,y,w1,b)\n",
        "lis3 = obj.sigmoid_neuron(0.1,lis)\n",
        "obj = single_neuron(x,y,w1,b)\n",
        "lis4 = obj.sigmoid_neuron(0.15,lis)\n",
        "obj = single_neuron(x,y,w1,b)\n",
        "lis5 = obj.sigmoid_neuron(0.2,lis)\n",
        "obj = single_neuron(x,y,w1,b)\n",
        "lis6 = obj.sigmoid_neuron(0.25,lis)\n"
      ],
      "metadata": {
        "id": "N04kWCZ6GDYF",
        "colab": {
          "base_uri": "https://localhost:8080/"
        },
        "outputId": "5324b374-99e7-4e6e-fb7a-7cb3405e49cd"
      },
      "execution_count": null,
      "outputs": [
        {
          "output_type": "stream",
          "name": "stdout",
          "text": [
            "learning rate= 0.01\n",
            "epoch 0   MSE= 0.3033774211089734   Predicted=  0.8807970779778823\n",
            "epoch 100   MSE= 0.2728498445900086   Predicted=  0.8523503083085225\n",
            "epoch 200   MSE= 0.23404818068360983   Predicted=  0.8137852629872161\n",
            "epoch 300   MSE= 0.18766646368433654   Predicted=  0.7632048749544914\n",
            "epoch 400   MSE= 0.1382415262298424   Predicted=  0.701808453682595\n",
            "epoch 500   MSE= 0.09343134220627317   Predicted=  0.6356654089135262\n",
            "\n",
            "\n",
            "learning rate= 0.05\n",
            "epoch 0   MSE= 0.3033774211089734   Predicted=  0.8807970779778823\n",
            "epoch 100   MSE= 0.09359595392696134   Predicted=  0.6359345582423819\n",
            "epoch 200   MSE= 0.008189781096173573   Predicted=  0.42049740933404434\n",
            "epoch 300   MSE= 0.0008671995176209773   Predicted=  0.3594482515206078\n",
            "epoch 400   MSE= 0.0001092926868712844   Predicted=  0.3404543142707346\n",
            "epoch 500   MSE= 1.4724239170293486e-05   Predicted=  0.3338372176339496\n",
            "\n",
            "\n",
            "learning rate= 0.1\n",
            "epoch 0   MSE= 0.3033774211089734   Predicted=  0.8807970779778823\n",
            "epoch 100   MSE= 0.008095547240597668   Predicted=  0.41997525904712735\n",
            "epoch 200   MSE= 0.00010576985536682556   Predicted=  0.34028444725626156\n",
            "epoch 300   MSE= 1.930615724759347e-06   Predicted=  0.33138946598546326\n",
            "epoch 400   MSE= 3.6914015137610564e-08   Predicted=  0.3301921302036058\n",
            "epoch 500   MSE= 7.103481344692297e-10   Predicted=  0.3300266523570153\n",
            "\n",
            "\n",
            "learning rate= 0.15\n",
            "epoch 0   MSE= 0.3033774211089734   Predicted=  0.8807970779778823\n",
            "epoch 100   MSE= 0.0008279126696678586   Predicted=  0.35877347163044215\n",
            "epoch 200   MSE= 1.8317635759217737e-06   Predicted=  0.33135342660529554\n",
            "epoch 300   MSE= 4.716212726697176e-09   Predicted=  0.3300686746876709\n",
            "epoch 400   MSE= 1.2235904172448262e-11   Predicted=  0.33000349798573075\n",
            "epoch 500   MSE= 3.175760206878301e-14   Predicted=  0.33000017820662747\n",
            "\n",
            "\n",
            "learning rate= 0.2\n",
            "epoch 0   MSE= 0.3033774211089734   Predicted=  0.8807970779778823\n",
            "epoch 100   MSE= 9.893733625802237e-05   Predicted=  0.33994672490109296\n",
            "epoch 200   MSE= 3.1920603575202916e-08   Predicted=  0.3301786633806218\n",
            "epoch 300   MSE= 1.0926697547008144e-11   Predicted=  0.330003305555558\n",
            "epoch 400   MSE= 3.744383575508959e-15   Predicted=  0.3300000611913685\n",
            "epoch 500   MSE= 1.283159170185671e-18   Predicted=  0.3300000011327662\n",
            "\n",
            "\n",
            "learning rate= 0.25\n",
            "epoch 0   MSE= 0.3033774211089734   Predicted=  0.8807970779778823\n",
            "epoch 100   MSE= 1.2391576952785271e-05   Predicted=  0.3335201671768235\n",
            "epoch 200   MSE= 5.371574810331766e-10   Predicted=  0.33002317665810754\n",
            "epoch 300   MSE= 2.3802620718618012e-14   Predicted=  0.3300001542809798\n",
            "epoch 400   MSE= 1.0549001201184623e-18   Predicted=  0.3300000010270833\n",
            "epoch 500   MSE= 4.675182390948646e-23   Predicted=  0.33000000000683755\n",
            "\n",
            "\n"
          ]
        }
      ]
    },
    {
      "cell_type": "code",
      "source": [
        "import matplotlib.pyplot as plt\n",
        "\n",
        "X_axis = [i for i in range(501)]\n",
        "plt.plot(X_axis,lis1,label='0.01')\n",
        "plt.plot(X_axis,lis2,label='0.05')\n",
        "plt.plot(X_axis,lis3,label='0.1')\n",
        "plt.plot(X_axis,lis4,label='0.15')\n",
        "plt.plot(X_axis,lis5,label='0.2')\n",
        "plt.plot(X_axis,lis6,label='0.25')\n",
        "plt.legend()\n",
        "plt.xlabel(\"Epcohs\")\n",
        "plt.ylabel(\"Error\")\n",
        "plt.savefig('Learning rate.png')\n",
        "plt.show()\n"
      ],
      "metadata": {
        "colab": {
          "base_uri": "https://localhost:8080/",
          "height": 449
        },
        "id": "rvgCGxWWLjxx",
        "outputId": "bfebb9ca-dc95-4195-dbeb-9c9eccd14b50"
      },
      "execution_count": null,
      "outputs": [
        {
          "output_type": "display_data",
          "data": {
            "text/plain": [
              "<Figure size 640x480 with 1 Axes>"
            ],
            "image/png": "[encoded data removed]"
          },
          "metadata": {}
        }
      ]
    },
    {
      "cell_type": "markdown",
      "source": [
        "$$Pytorch-Implementation$$"
      ],
      "metadata": {
        "id": "Uy8uX7X_1Xs8"
      }
    },
    {
      "cell_type": "code",
      "source": [
        "import torch\n",
        "import torch.nn as nn\n",
        "\n",
        "# define neural network architecture\n",
        "class SingleNeuron(nn.Module):\n",
        "    def __init__(self, input_size, output_size):\n",
        "        super(SingleNeuron, self).__init__()\n",
        "        self.linear = nn.Linear(input_size, output_size)\n",
        "        self.sigmoid = nn.Sigmoid()\n",
        "\n",
        "    def forward(self, x):\n",
        "        x = self.linear(x) # z = w1*x + b\n",
        "        x = self.sigmoid(x) # y_hat = sigmoid_fun(z)\n",
        "        return x\n",
        "\n",
        "    def backprop(self,i):\n",
        "        lis = []\n",
        "        # define loss function and optimizer\n",
        "        criterion = nn.MSELoss() # Error mse = (y_hat - y)**2\n",
        "        print(\"for learning rate = \",i)\n",
        "        optimizer = torch.optim.SGD(model.parameters(), i) # w1 = w1 - i*dLdw1 and b = b - i*dLdb\n",
        "\n",
        "        # train the model\n",
        "        num_epochs = 300\n",
        "        for epoch in range(num_epochs):\n",
        "            # forward propagation\n",
        "            outputs = self.forward(X) # calling model class mothed for linear function & sigmoid activation function\n",
        "            loss = criterion(outputs, Y) # calling MSE error function\n",
        "            lis.append(loss.item())\n",
        "\n",
        "            # backward propagation\n",
        "            optimizer.zero_grad() # initializing gradiants to zero\n",
        "            loss.backward() # partially differentiating dLdw1 = 2*(y_hat - y)*der(z)*x & dLdb = 2*(y_hat - y)*der(z)\n",
        "            optimizer.step() # updating weights and bias w1 = w1 - i*dLdw1 & b = b - i*dLdb\n",
        "\n",
        "            # print progress\n",
        "            if (epoch+1) % 50 == 0:\n",
        "                print('Epoch [{}/{}], Loss: {:.4f}'.format(epoch+1, num_epochs, loss.item()),end=\" \")\n",
        "                print(outputs.item())\n",
        "        print(\"\\n\")\n",
        "        return lis\n",
        "\n",
        "\n",
        "X = torch.tensor([1], dtype=torch.float32 , requires_grad=True) # input x = 1\n",
        "Y = torch.tensor([0.33], dtype=torch.float32 , requires_grad=True) # output y = 0.333\n",
        "\n",
        "l1 = [0.01,0.05,0.1,0.15,0.2,0.25]\n",
        "L = []\n",
        "for i in l1:\n",
        "  # define neural network model\n",
        "  model = SingleNeuron(input_size=1, output_size=1) # calling linear function & sigmoid function\n",
        "  l1 = model.backprop(i)\n",
        "  L.append(l1)\n"
      ],
      "metadata": {
        "id": "fKUK9kiKK9IZ",
        "colab": {
          "base_uri": "https://localhost:8080/"
        },
        "outputId": "c9725425-a455-4d7d-9554-1b3751f7703d"
      },
      "execution_count": null,
      "outputs": [
        {
          "output_type": "stream",
          "name": "stdout",
          "text": [
            "for learning rate =  0.01\n",
            "Epoch [50/300], Loss: 0.2019 0.7793819308280945\n",
            "Epoch [100/300], Loss: 0.1775 0.7513606548309326\n",
            "Epoch [150/300], Loss: 0.1527 0.7207615375518799\n",
            "Epoch [200/300], Loss: 0.1284 0.6883463263511658\n",
            "Epoch [250/300], Loss: 0.1057 0.6551468968391418\n",
            "Epoch [300/300], Loss: 0.0854 0.6222935318946838\n",
            "\n",
            "\n",
            "for learning rate =  0.05\n",
            "Epoch [50/300], Loss: 0.0185 0.46593090891838074\n",
            "Epoch [100/300], Loss: 0.0055 0.40428560972213745\n",
            "Epoch [150/300], Loss: 0.0018 0.37220701575279236\n",
            "Epoch [200/300], Loss: 0.0006 0.3546687364578247\n",
            "Epoch [250/300], Loss: 0.0002 0.3446774482727051\n",
            "Epoch [300/300], Loss: 0.0001 0.3388287425041199\n",
            "\n",
            "\n",
            "for learning rate =  0.1\n",
            "Epoch [50/300], Loss: 0.0026 0.2790201008319855\n",
            "Epoch [100/300], Loss: 0.0005 0.3087327480316162\n",
            "Epoch [150/300], Loss: 0.0001 0.32172155380249023\n",
            "Epoch [200/300], Loss: 0.0000 0.3268643915653229\n",
            "Epoch [250/300], Loss: 0.0000 0.32882460951805115\n",
            "Epoch [300/300], Loss: 0.0000 0.32956111431121826\n",
            "\n",
            "\n",
            "for learning rate =  0.15\n",
            "Epoch [50/300], Loss: 0.0009 0.36060795187950134\n",
            "Epoch [100/300], Loss: 0.0000 0.33644744753837585\n",
            "Epoch [150/300], Loss: 0.0000 0.331432968378067\n",
            "Epoch [200/300], Loss: 0.0000 0.3303222954273224\n",
            "Epoch [250/300], Loss: 0.0000 0.3300727307796478\n",
            "Epoch [300/300], Loss: 0.0000 0.3300164043903351\n",
            "\n",
            "\n",
            "for learning rate =  0.2\n",
            "Epoch [50/300], Loss: 0.0028 0.38311702013015747\n",
            "Epoch [100/300], Loss: 0.0000 0.3363621234893799\n",
            "Epoch [150/300], Loss: 0.0000 0.3308509290218353\n",
            "Epoch [200/300], Loss: 0.0000 0.33011549711227417\n",
            "Epoch [250/300], Loss: 0.0000 0.33001571893692017\n",
            "Epoch [300/300], Loss: 0.0000 0.3300021290779114\n",
            "\n",
            "\n",
            "for learning rate =  0.25\n",
            "Epoch [50/300], Loss: 0.0015 0.3691242039203644\n",
            "Epoch [100/300], Loss: 0.0000 0.33287692070007324\n",
            "Epoch [150/300], Loss: 0.0000 0.33023276925086975\n",
            "Epoch [200/300], Loss: 0.0000 0.3300189971923828\n",
            "Epoch [250/300], Loss: 0.0000 0.330001562833786\n",
            "Epoch [300/300], Loss: 0.0000 0.3300001323223114\n",
            "\n",
            "\n"
          ]
        }
      ]
    },
    {
      "cell_type": "code",
      "source": [
        "import matplotlib.pyplot as plt\n",
        "\n",
        "X_axis = [i for i in range(300)]\n",
        "plt.plot(X_axis,L[0],label='0.01')\n",
        "plt.plot(X_axis,L[1],label='0.05')\n",
        "plt.plot(X_axis,L[2],label='0.1')\n",
        "plt.plot(X_axis,L[3],label='0.15')\n",
        "plt.plot(X_axis,L[4],label='0.2')\n",
        "plt.plot(X_axis,L[5],label='0.25')\n",
        "plt.legend()\n",
        "plt.xlabel(\"Epcohs\")\n",
        "plt.ylabel(\"Error\")\n",
        "plt.savefig('epochVSloss.png')\n",
        "plt.show()"
      ],
      "metadata": {
        "colab": {
          "base_uri": "https://localhost:8080/",
          "height": 449
        },
        "id": "6v0OYMCNNzFL",
        "outputId": "cb1f1c96-48f9-4c08-cd4c-abae28c8e963"
      },
      "execution_count": null,
      "outputs": [
        {
          "output_type": "display_data",
          "data": {
            "text/plain": [
              "<Figure size 640x480 with 1 Axes>"
            ],
            "image/png": "[encoded data removed]"
          },
          "metadata": {}
        }
      ]
    },
    {
      "cell_type": "code",
      "source": [
        "import numpy as np\n",
        "from sympy import *\n",
        "class single_neuron:\n",
        "  def __init__(self,x,y,w1,b):\n",
        "    self.x = x\n",
        "    self.y = y\n",
        "    self.w1 = w1\n",
        "    self.b = b\n",
        "\n",
        "  def sigmoid_fun(self,a):\n",
        "    return 1/(1 + np.exp(-a))\n",
        "\n",
        "  def der(self,a):\n",
        "    return self.sigmoid_fun(a) * (1- self.sigmoid_fun(a))\n",
        "\n",
        "\n",
        "x = 1\n",
        "y = 0.33\n",
        "w1 = 1\n",
        "b = 1\n",
        "alpha = 100\n",
        "H = single_neuron(x, y,w1,b)\n",
        "weight = []\n",
        "err = []\n",
        "pred = []\n",
        "\n",
        "\n",
        "for epo in range(10000):\n",
        "  z = w1*x + b\n",
        "  y_hat = H.sigmoid_fun(z)\n",
        "  pred.append(y_hat)\n",
        "  mse = (y_hat - y)**2\n",
        "  err.append(mse)\n",
        "  dLdw1 = 2*(y_hat - y)*H.der(z)*x\n",
        "  dLdb = 2*(y_hat - y)*H.der(z)\n",
        "\n",
        "  w1 = w1 - alpha*dLdw1\n",
        "  weight.append(w1)\n",
        "  b = b - alpha*dLdb\n",
        "\n",
        "  if (epo)%1000==0:\n",
        "    print(\"epoch\",epo,end=\"   \")\n",
        "    print(\"MSE={0:.13f}\".format(mse),end=\"   \")\n",
        "    print(\"Predicted= \",y_hat)\n",
        "\n",
        "\n",
        "#print(err[:100:10])\n",
        "#print(pred[:100:10])\n",
        "#print(weight[:5:-1])"
      ],
      "metadata": {
        "id": "C1v1PYucdT-B",
        "colab": {
          "base_uri": "https://localhost:8080/"
        },
        "outputId": "7d54e91b-9d03-475c-cec8-93e230a822c2"
      },
      "execution_count": null,
      "outputs": [
        {
          "output_type": "stream",
          "name": "stdout",
          "text": [
            "epoch 0   MSE=0.3033774211090   Predicted=  0.8807970779778823\n",
            "epoch 1000   MSE=0.1088999995614   Predicted=  6.645065398730385e-10\n",
            "epoch 2000   MSE=0.1088999995614   Predicted=  6.645648320836647e-10\n",
            "epoch 3000   MSE=0.1088999995613   Predicted=  6.646231345222587e-10\n",
            "epoch 4000   MSE=0.1088999995613   Predicted=  6.646814471914723e-10\n",
            "epoch 5000   MSE=0.1088999995613   Predicted=  6.647397700941329e-10\n",
            "epoch 6000   MSE=0.1088999995612   Predicted=  6.647981032328323e-10\n",
            "epoch 7000   MSE=0.1088999995612   Predicted=  6.64856446610293e-10\n",
            "epoch 8000   MSE=0.1088999995612   Predicted=  6.649148002292002e-10\n",
            "epoch 9000   MSE=0.1088999995611   Predicted=  6.649731640922544e-10\n"
          ]
        }
      ]
    },
    {
      "cell_type": "code",
      "source": [
        "import matplotlib.pyplot as plt\n",
        "Cost = lambda y_p: (y_p - y)**2\n",
        "y_p = np.linspace(-3,3,5000)\n",
        "#Plot the curve\n",
        "plt.plot(y_p, Cost(y_p) , label='cost')\n",
        "# plt.show()\n",
        "plt.plot(pred ,err ,'r*' ,  label='pred')\n",
        "#plt.plot( weight , err  , label='weight')\n",
        "plt.xlabel(\"pred\")\n",
        "plt.ylabel(\"mse\")\n",
        "plt.legend()\n",
        "plt.show()\n"
      ],
      "metadata": {
        "colab": {
          "base_uri": "https://localhost:8080/",
          "height": 279
        },
        "id": "xxICq8iwjhTB",
        "outputId": "732f2af7-5e42-4d23-ac93-94e3b5e610a1"
      },
      "execution_count": null,
      "outputs": [
        {
          "output_type": "display_data",
          "data": {
            "text/plain": [
              "<Figure size 432x288 with 1 Axes>"
            ],
            "image/png": "[encoded data removed]"
          },
          "metadata": {
            "needs_background": "light"
          }
        }
      ]
    },
    {
      "cell_type": "code",
      "source": [
        "import numpy as np\n",
        "from sympy import *\n",
        "class single_neuron:\n",
        "  def __init__(self,x,y,w1,b):\n",
        "    self.x = x\n",
        "    self.y = y\n",
        "    self.w1 = w1\n",
        "    self.b = b\n",
        "\n",
        "  def sigmoid_fun(self,a):\n",
        "    return 1/(1 + np.exp(-a))\n",
        "\n",
        "  def der(self,a):\n",
        "    return self.sigmoid_fun(a) * (1- self.sigmoid_fun(a))\n",
        "\n",
        "x = 1\n",
        "y = 0.33\n",
        "w1 = 1\n",
        "b = 1\n",
        "alpha = 0.05\n",
        "H = single_neuron(x, y,w1,b)\n",
        "\n",
        "def predicted(x,w1,b):\n",
        "  z = w1*x + b\n",
        "  y_pred = H.sigmoid_fun(z)\n",
        "  return y_pred\n",
        "\n",
        "for epo in range(500):\n",
        "  y_hat = predicted(x,w1,b)\n",
        "  mse = (y_hat - y)**2\n",
        "  dLdw1 = 2*(y_hat - y)*H.der(z)*x\n",
        "  dLdb = 2*(y_hat - y)*H.der(z)\n",
        "\n",
        "  w1 = w1 - alpha*dLdw1\n",
        "  b = b - alpha*dLdb\n",
        "\n",
        "  if (epo + 1)%100==0:\n",
        "    print(\"epoch\",epo+1,end=\"   \")\n",
        "    print(\"MSE=\",mse,end=\"   \")\n",
        "    print(\"Predicted= \",y_hat)"
      ],
      "metadata": {
        "colab": {
          "base_uri": "https://localhost:8080/"
        },
        "id": "uwvDA64YgcjT",
        "outputId": "adf00d6b-75d2-42f4-dc4b-43c404c0df0a"
      },
      "execution_count": null,
      "outputs": [
        {
          "output_type": "stream",
          "name": "stdout",
          "text": [
            "epoch 100   MSE= 0.05568697742784031   Predicted=  0.5659808836067878\n",
            "epoch 200   MSE= 0.0061018246389343365   Predicted=  0.4081141769394925\n",
            "epoch 300   MSE= 0.0007465162841889861   Predicted=  0.3573224501864124\n",
            "epoch 400   MSE= 9.843092085449917e-05   Predicted=  0.3399212358531838\n",
            "epoch 500   MSE= 1.338352336296125e-05   Predicted=  0.3336583498141869\n"
          ]
        }
      ]
    },
    {
      "cell_type": "markdown",
      "source": [
        "#Single neuron(Multiple Data)"
      ],
      "metadata": {
        "id": "Mkw6Yq38Jhp7"
      }
    },
    {
      "cell_type": "code",
      "source": [
        "import numpy as np\n",
        "import matplotlib.pyplot as plt"
      ],
      "metadata": {
        "id": "MdVRYbCenEmp"
      },
      "execution_count": null,
      "outputs": []
    },
    {
      "cell_type": "code",
      "source": [
        "# Define activation function (e.g. sigmoid)\n",
        "def sigmoid(x):\n",
        "    return 1 / (1 + np.exp(-x))"
      ],
      "metadata": {
        "id": "W4Up1YXzm46A"
      },
      "execution_count": null,
      "outputs": []
    },
    {
      "cell_type": "code",
      "source": [
        "# Define output function\n",
        "def output(input_data, weights, bias):\n",
        "    weighted_sum = np.dot(input_data, weights) + bias\n",
        "    return sigmoid(weighted_sum)"
      ],
      "metadata": {
        "id": "c056uXxum--5"
      },
      "execution_count": null,
      "outputs": []
    },
    {
      "cell_type": "code",
      "source": [
        "# Define input data\n",
        "X = np.array([[2], [3], [4], [5],[6]])\n",
        "\n",
        "# Define target output\n",
        "Y = np.array([[0.4], [0.7], [0.9], [0.95],[0.99]])\n",
        "\n",
        "# Define weights\n",
        "w = np.array([2.0])\n",
        "\n",
        "# Define bias\n",
        "b = 1.5\n",
        "\n",
        "# Define learning rate\n",
        "learning_rate = 0.5\n",
        "\n",
        "# Define number of epochs\n",
        "num_epochs = 500\n",
        "\n",
        "t_error = []\n",
        "w1=[w.item()]\n",
        "b1=[b]\n",
        "# Train the network for the specified number of epochs\n",
        "for epoch in range(num_epochs):\n",
        "    # Loop through each input\n",
        "    mse = []\n",
        "    for i in range(len(X)):\n",
        "        # Calculate output and error\n",
        "        Y_hat = output(X[i], w, b)\n",
        "        error = (Y[i] -  Y_hat)**2\n",
        "        #print(error)\n",
        "        mse.append(error)\n",
        "\n",
        "        # Calculate gradients\n",
        "        dw = 2*(Y_hat - Y[i]) *(Y_hat * (1 - Y_hat))*X[i]\n",
        "        db = 2*(Y_hat - Y[i]) * (Y_hat * (1 - Y_hat))\n",
        "        #$\\frac{∂L}{∂w} = \\frac{∂L}{∂ŷ}*∂ŷ/∂z*∂z/∂w = 2(ŷ-y)*[σ(z)*(1-σ(z))]*x = 0.1150$\n",
        "        #$∂L/∂b = ∂L/∂ŷ*∂ŷ/∂z*∂z/∂b = 2(ŷ-y)*[σ(z)*(1-σ(z))] = 0.1150$\n",
        "\n",
        "        # Update weights and bias\n",
        "        w -= learning_rate * dw\n",
        "        b -= learning_rate * db\n",
        "        w1.append(w.item())\n",
        "        b1.append(b.item())\n",
        "\n",
        "    # Calculate total error for the epoch\n",
        "    #total_error = np.mean((output(input_data, weights, bias) - target_output)**2)\n",
        "    total_error = np.mean(mse)\n",
        "    t_error.append(total_error)\n",
        "    # Print total error for the epoch\n",
        "    if (epoch+1)%300==0:\n",
        "      print(\"Epoch: \", epoch+1, \" Error: \", total_error)\n",
        "      print(\"weight: \", w, \" Bias:\",b)\n",
        "\n",
        "# Calculate output for each input\n",
        "for i in range(len(X)):\n",
        "    Y_hat = output(X[i], w, b)\n",
        "    print(Y_hat)\n"
      ],
      "metadata": {
        "colab": {
          "base_uri": "https://localhost:8080/"
        },
        "id": "3c52vtCLi5S0",
        "outputId": "5767aafa-0702-4bb3-ed2d-626382fbba34"
      },
      "execution_count": null,
      "outputs": [
        {
          "output_type": "stream",
          "name": "stdout",
          "text": [
            "Epoch:  300  Error:  0.000372619200027062\n",
            "weight:  [1.12872872]  Bias: [-2.53236986]\n",
            "[0.4072105]\n",
            "[0.70066536]\n",
            "[0.88859265]\n",
            "[0.96451184]\n",
            "[0.98931741]\n"
          ]
        }
      ]
    },
    {
      "cell_type": "code",
      "source": [
        "x_axis = [i for i in range(num_epochs)]\n",
        "plt.plot(x_axis , t_error)\n",
        "plt.show()\n",
        "plt.scatter(X, Y)\n",
        "plt.show()"
      ],
      "metadata": {
        "colab": {
          "base_uri": "https://localhost:8080/",
          "height": 513
        },
        "id": "tghfb5l2R_Tr",
        "outputId": "37944c2a-144a-41b1-d07c-a8db628c9287"
      },
      "execution_count": null,
      "outputs": [
        {
          "output_type": "display_data",
          "data": {
            "text/plain": [
              "<Figure size 432x288 with 1 Axes>"
            ],
            "image/png": "[encoded data removed]"
          },
          "metadata": {
            "needs_background": "light"
          }
        },
        {
          "output_type": "display_data",
          "data": {
            "text/plain": [
              "<Figure size 432x288 with 1 Axes>"
            ],
            "image/png": "[encoded data removed]"
          },
          "metadata": {
            "needs_background": "light"
          }
        }
      ]
    },
    {
      "cell_type": "code",
      "source": [
        "print(w1[:10])\n",
        "print(b1[:10])\n",
        "print(len(w1))\n",
        "print(len(b1))\n",
        "plt.scatter(w1,b1)"
      ],
      "metadata": {
        "colab": {
          "base_uri": "https://localhost:8080/",
          "height": 372
        },
        "id": "rRYnHxzTwkfs",
        "outputId": "1d043c19-14af-48b1-e75b-6a93375d7eb5"
      },
      "execution_count": null,
      "outputs": [
        {
          "output_type": "stream",
          "name": "stdout",
          "text": [
            "[2.0, 1.995168711156235, 1.9946639632652845, 1.994633325675985, 1.9946307181246767, 1.994630632965848, 1.989735489557826, 1.989221128517769, 1.9891897349353813, 1.9891870484064678]\n",
            "[1.5, 1.4975843555781176, 1.4974161062811342, 1.4974084468838094, 1.4974079253735477, 1.4974079111804097, 1.4949603394763988, 1.4947888857963798, 1.4947810374007828, 1.494780500095]\n",
            "2501\n",
            "2501\n"
          ]
        },
        {
          "output_type": "execute_result",
          "data": {
            "text/plain": [
              "<matplotlib.collections.PathCollection at 0x7ff019eb7cd0>"
            ]
          },
          "metadata": {},
          "execution_count": 37
        },
        {
          "output_type": "display_data",
          "data": {
            "text/plain": [
              "<Figure size 432x288 with 1 Axes>"
            ],
            "image/png": "[encoded data removed]"
          },
          "metadata": {
            "needs_background": "light"
          }
        }
      ]
    },
    {
      "cell_type": "markdown",
      "source": [
        "$$Single-neuron--Multiple-data(Numpy)$$\n",
        "\n",
        "$f(x)=\\frac{x}{2x+1}$"
      ],
      "metadata": {
        "id": "vWqVKdqjQuMC"
      }
    },
    {
      "cell_type": "code",
      "source": [
        "import numpy as np\n",
        "import matplotlib.pyplot as plt\n",
        "\n",
        "def linear(x,w,b):\n",
        "  return w*x + b\n",
        "def sigmoid(a):\n",
        "  return 1/(1+ np.exp(-a))\n",
        "def forward(x,w,b):\n",
        "  z = linear(x,w,b)\n",
        "  yp = sigmoid(z)\n",
        "  return yp\n",
        "def training(inp,out,w,b,ler):\n",
        "  pre = forward(inp, w, b)\n",
        "  er = pre - out\n",
        "  grad = pre*(1-pre)*er\n",
        "  dldw = grad*inp\n",
        "  dldb = grad\n",
        "  w = w - ler*dldw\n",
        "  b = b - ler*dldb\n",
        "  return w , b ,er , pre\n",
        "\n",
        "def testing(inp,out,w,b):\n",
        "  pred = forward(inp,w,b)\n",
        "  err = pred - out\n",
        "  print(\"predicted=\",pred , \"error=\",err)\n",
        "\n",
        "\n",
        "#x = np.array([[1],[2],[3],[4],[5],[6],[7],[8],[9],[10]] , dtype=float)\n",
        "#y = np.array([[0.33],[0.4],[0.428],[0.444],[0.4545],[0.4615],[0.466],[0.47],[0.473],[0.476]] , dtype=float)\n",
        "\n",
        "x = np.array([[1],[2],[3],[4],[5]] , dtype=float)\n",
        "y = np.array([[0.33],[0.4],[0.428],[0.444],[0.4545]] , dtype=float)\n",
        "\n",
        "w = 0.5\n",
        "b = 0.3\n",
        "ler = 0.1\n",
        "epochs = 1000\n",
        "mse = 0\n",
        "for i in range(epochs):\n",
        "  ms_error = []\n",
        "  for j in range(len(x)):\n",
        "    w , b , temp , y_hat = training(x[j],y[j],w,b,ler)\n",
        "    if (i)%200==0:\n",
        "      print(y_hat)\n",
        "    ms_error.append(temp)\n",
        "  for k in ms_error:\n",
        "    mse = mse + k**2\n",
        "  mse = mse/len(ms_error)\n",
        "\n",
        "  if (i)%200==0:\n",
        "    print(\"In epoch =\",i , \"MSE=\",mse)\n",
        "\n",
        "testing(6.0,0.4615,w,b)\n"
      ],
      "metadata": {
        "colab": {
          "base_uri": "https://localhost:8080/"
        },
        "id": "eYzb57VFQlTy",
        "outputId": "4cdf0a37-2e3d-468c-f05c-57ab739d2c60"
      },
      "execution_count": null,
      "outputs": [
        {
          "output_type": "stream",
          "name": "stdout",
          "text": [
            "[0.68997448]\n",
            "[0.78192152]\n",
            "[0.84859343]\n",
            "[0.89403495]\n",
            "[0.92457293]\n",
            "In epoch = 0 MSE= [0.1751689]\n",
            "[0.40651447]\n",
            "[0.41459464]\n",
            "[0.42301691]\n",
            "[0.43230667]\n",
            "[0.44283079]\n",
            "In epoch = 200 MSE= [0.00159442]\n",
            "[0.3735802]\n",
            "[0.39376508]\n",
            "[0.4150672]\n",
            "[0.43751283]\n",
            "[0.46027009]\n",
            "In epoch = 400 MSE= [0.00054559]\n",
            "[0.36176983]\n",
            "[0.38616354]\n",
            "[0.41205384]\n",
            "[0.43927304]\n",
            "[0.46650957]\n",
            "In epoch = 600 MSE= [0.00040546]\n",
            "[0.3573675]\n",
            "[0.38330948]\n",
            "[0.41090581]\n",
            "[0.43991353]\n",
            "[0.46883361]\n",
            "In epoch = 800 MSE= [0.00038549]\n",
            "predicted= [0.49614445] error= [0.03464445]\n"
          ]
        }
      ]
    },
    {
      "cell_type": "markdown",
      "source": [
        "$$Single-neuron--Multiple-data(Pytorch)$$"
      ],
      "metadata": {
        "id": "1rJuyyKYWpSl"
      }
    },
    {
      "cell_type": "code",
      "source": [
        "import torch\n",
        "import torch.nn as nn\n",
        "\n",
        "# Define input data\n",
        "x = torch.tensor([[1.0], [2.0], [3.0], [4.0] , [5.0]])\n",
        "\n",
        "# Define weights and bias\n",
        "#w = torch.tensor([[0.5]])\n",
        "#b = torch.tensor([[0.3]])\n",
        "\n",
        "# Define the model\n",
        "class SingleNeuron(nn.Module):\n",
        "    def __init__(self):\n",
        "        super(SingleNeuron, self).__init__()\n",
        "        self.linear = nn.Linear(1, 1)\n",
        "        self.sigmoid = nn.Sigmoid()\n",
        "    def forward(self, x):\n",
        "        x = self.linear(x)\n",
        "        x = self.sigmoid(x)\n",
        "        return x\n",
        "\n",
        "model = SingleNeuron()\n",
        "\n",
        "# Define the loss function (Mean Squared Error)\n",
        "criterion = nn.MSELoss()\n",
        "\n",
        "# Define the optimizer (Stochastic Gradient Descent)\n",
        "learning_rate = 0.1\n",
        "optimizer = torch.optim.SGD(model.parameters(), lr=learning_rate)\n",
        "\n",
        "# Train the model\n",
        "num_epochs = 1000\n",
        "for epoch in range(num_epochs):\n",
        "    # Forward pass\n",
        "    y_pred = model(x)\n",
        "\n",
        "    # Compute the loss\n",
        "    loss = criterion(y_pred, torch.tensor([[0.33], [0.4], [0.428], [0.444],[0.4545]]))\n",
        "\n",
        "    # Backward pass\n",
        "    optimizer.zero_grad()\n",
        "    loss.backward()\n",
        "\n",
        "    # Update weights and bias\n",
        "    optimizer.step()\n",
        "\n",
        "    # Print the loss after 100 epochs\n",
        "    if epoch%100==0:\n",
        "      print(f\"Epoch {epoch+1}: Loss = {loss.item():.4f}\")\n",
        "\n",
        "# Print the final weights and bias\n",
        "print(f\"Final weights: {list(model.parameters())[0][0][0]:.4f}\")\n",
        "print(f\"Final bias: {list(model.parameters())[1][0]:.4f}\")\n",
        "\n",
        "\n",
        "# Define a test data\n",
        "test_data = torch.tensor([[6.0]])\n",
        "# Define the ground truth\n",
        "ground_truth = torch.tensor([[0.46]])\n",
        "\n",
        "# Pass the test data through the model\n",
        "with torch.no_grad():\n",
        "    output = model(test_data)\n",
        "    err = output - ground_truth\n",
        "    loss = criterion(output, ground_truth)\n",
        "\n",
        "# Print the output\n",
        "print(f\"Output for test data: {output.item():.4f}\")\n",
        "print(f\"Error for test data: {loss.item():.4f}\")\n",
        "print(\"error=\",abs(err))\n"
      ],
      "metadata": {
        "colab": {
          "base_uri": "https://localhost:8080/"
        },
        "id": "ls_8oxurWdhT",
        "outputId": "fe6b08da-c08e-47cc-b845-76c7c87bdaca"
      },
      "execution_count": null,
      "outputs": [
        {
          "output_type": "stream",
          "name": "stdout",
          "text": [
            "Epoch 1: Loss = 0.0461\n",
            "Epoch 101: Loss = 0.0030\n",
            "Epoch 201: Loss = 0.0021\n",
            "Epoch 301: Loss = 0.0015\n",
            "Epoch 401: Loss = 0.0011\n",
            "Epoch 501: Loss = 0.0008\n",
            "Epoch 601: Loss = 0.0007\n",
            "Epoch 701: Loss = 0.0005\n",
            "Epoch 801: Loss = 0.0005\n",
            "Epoch 901: Loss = 0.0004\n",
            "Final weights: 0.0965\n",
            "Final bias: -0.6344\n",
            "Output for test data: 0.4861\n",
            "Error for test data: 0.0007\n",
            "error= tensor([[0.0261]])\n"
          ]
        }
      ]
    },
    {
      "cell_type": "markdown",
      "source": [
        "#Linear Regression"
      ],
      "metadata": {
        "id": "ZrKyxDBMJsxa"
      }
    },
    {
      "cell_type": "markdown",
      "source": [
        "$$Linear Regression$$\n",
        "$$f(x)=2x+1$$\n",
        "$$Training-Data$$\n",
        "$$x = [1,2,3,4,5,6,7,8,9,10]$$\n",
        "$$y = [3,5,7,9,11,13,15,17,19,21]$$\n",
        "\n",
        "$$Testing-Data$$\n",
        "$$x = [11,12,13,14,15]$$\n",
        "$$y = [23,25,27,29,31]$$"
      ],
      "metadata": {
        "id": "z7Td_8x8d6vI"
      }
    },
    {
      "cell_type": "code",
      "source": [
        "import numpy as np\n",
        "import matplotlib.pyplot as plt\n",
        "\n",
        "def testing(x,y,w,b):\n",
        "  y_hat = w*x*max_x1 + b\n",
        "  error = abs(y_hat-y*max_y1)\n",
        "  print(\"error=\", error ,\"pred=\", y_hat)\n",
        "  return y_hat\n",
        "\n",
        "def training(x,y,w,b,ler):\n",
        "  y_hat = w*x*max_x + b\n",
        "  err = (y_hat - y*max_y)**2\n",
        "  dw = 2*(y_hat - y*max_y)*x\n",
        "  db = 2*(y_hat - y*max_y)\n",
        "  w -= ler * dw\n",
        "  b -= ler * db\n",
        "  return w,b,err,y_hat\n",
        "\n",
        "x = np.array([[1],[2],[3],[4],[5],[6],[7],[8],[9],[10]] , dtype=np.float128)\n",
        "y = np.array([[3],[5],[7],[9],[11],[13],[15],[17],[19],[21]] , dtype=np.float128)\n",
        "\n",
        "#\n",
        "#Normalizing\n",
        "max_x = max(x)\n",
        "max_y = max(y)\n",
        "x = [i/max_x for i in x]\n",
        "y = [i/max_y for i in y]\n",
        "\n",
        "w = 0.5\n",
        "b = 0.3\n",
        "ler = 0.1\n",
        "epochs = 80\n",
        "predicted = []\n",
        "for i in range(epochs):\n",
        "  ms_error = []\n",
        "  pred1 = []\n",
        "  for j in range(len(x)):\n",
        "    w , b , temp , pred = training(x[j],y[j],w,b,ler)\n",
        "    ms_error.append(temp)\n",
        "    pred1.append(pred)\n",
        "    if (i)%20==0:\n",
        "      print(\"weight=\",w,\"bias=\",b,end=\" \")\n",
        "      print(\"pred=\",pred,\"error=\",temp)\n",
        "  predicted.append(pred1)\n",
        "  mse = np.mean(ms_error)\n",
        "  if (i+1)%20==0:\n",
        "    print(\"In epoch =\",i , \"MSE={0:.12f}\".format(mse))\n",
        "\n",
        "print(\"weight=\",w,\"bias=\",b)\n",
        "\n",
        "\n",
        "x1 = np.array([[11],[12],[13],[14],[15]] , dtype=np.float128)\n",
        "y1 = np.array([[23],[25],[27],[29],[31]] , dtype=np.float128)\n",
        "\n",
        "#Normalizing\n",
        "max_x1 = max(x1)\n",
        "max_y1 = max(y1)\n",
        "x1 = [i/max_x1 for i in x1]\n",
        "y1 = [i/max_y1 for i in y1]\n",
        "test=[]\n",
        "print(\"Test predicted values\")\n",
        "for i in range(len(x1)):\n",
        "  temp = testing(x1[i],y1[i],w,b)\n",
        "  test.append(temp.item())"
      ],
      "metadata": {
        "colab": {
          "base_uri": "https://localhost:8080/"
        },
        "id": "wDQTAacgd57L",
        "outputId": "63c2848c-80b7-4bd3-d891-cbc1f463b17a"
      },
      "execution_count": null,
      "outputs": [
        {
          "output_type": "stream",
          "name": "stdout",
          "text": [
            "weight= [0.544] bias= [0.74] pred= [0.8] error= [4.84]\n",
            "weight= [0.67088] bias= [1.3744] pred= [1.828] error= [10.061584]\n",
            "weight= [0.8876576] bias= [2.096992] pred= [3.38704] error= [13.05347996]\n",
            "weight= [1.15584781] bias= [2.76746752] pred= [5.6476224] error= [11.23843557]\n",
            "weight= [1.40117715] bias= [3.25812621] pred= [8.54670656] error= [6.0186487]\n",
            "weight= [1.56135446] bias= [3.52508838] pred= [11.66518912] error= [1.78172009]\n",
            "weight= [1.63771472] bias= [3.63417447] pred= [14.45456959] error= [0.29749434]\n",
            "weight= [1.67997197] bias= [3.68699603] pred= [16.73589219] error= [0.06975294]\n",
            "weight= [1.7147581] bias= [3.72564729] pred= [18.80674371] error= [0.03734799]\n",
            "weight= [1.74011245] bias= [3.75100164] pred= [20.87322825] error= [0.01607108]\n",
            "In epoch = 19 MSE=0.000055657863\n",
            "weight= [1.99825786] bias= [1.01269942] pred= [3.0140478] error= [0.00019734]\n",
            "weight= [1.99788926] bias= [1.01085639] pred= [5.00921514] error= [8.4918883e-05]\n",
            "weight= [1.99761781] bias= [1.00995156] pred= [7.00452416] error= [2.04680273e-05]\n",
            "weight= [1.99758398] bias= [1.009867] pred= [9.00042279] error= [1.78748323e-07]\n",
            "weight= [1.99780529] bias= [1.01030962] pred= [10.99778692] error= [4.89771651e-06]\n",
            "weight= [1.99814833] bias= [1.01088134] pred= [12.99714137] error= [8.17177507e-06]\n",
            "weight= [1.99843958] bias= [1.01129742] pred= [14.99791964] error= [4.32790962e-06]\n",
            "weight= [1.99862933] bias= [1.01153461] pred= [16.99881404] error= [1.40649213e-06]\n",
            "weight= [1.99877359] bias= [1.01169489] pred= [18.99919859] error= [6.42257266e-07]\n",
            "weight= [1.99888744] bias= [1.01180874] pred= [20.99943074] error= [3.24055787e-07]\n",
            "In epoch = 39 MSE=0.000000001024\n",
            "weight= [1.99999253] bias= [1.00005447] pred= [3.00006026] error= [3.63104727e-09]\n",
            "weight= [1.99999095] bias= [1.00004657] pred= [5.00003953] error= [1.56249887e-09]\n",
            "weight= [1.99998978] bias= [1.00004269] pred= [7.00001941] error= [3.76609634e-10]\n",
            "weight= [1.99998964] bias= [1.00004232] pred= [9.00000181] error= [3.28895108e-12]\n",
            "weight= [1.99999059] bias= [1.00004422] pred= [10.99999051] error= [9.0117489e-11]\n",
            "weight= [1.99999206] bias= [1.00004668] pred= [12.99998774] error= [1.50359836e-10]\n",
            "weight= [1.99999331] bias= [1.00004846] pred= [14.99999108] error= [7.96330998e-11]\n",
            "weight= [1.99999412] bias= [1.00004948] pred= [16.99999491] error= [2.58793131e-11]\n",
            "weight= [1.99999474] bias= [1.00005017] pred= [18.99999656] error= [1.18174688e-11]\n",
            "weight= [1.99999523] bias= [1.00005065] pred= [20.99999756] error= [5.96259374e-12]\n",
            "In epoch = 59 MSE=0.000000000000\n",
            "weight= [1.99999997] bias= [1.00000023] pred= [3.00000026] error= [6.68109029e-14]\n",
            "weight= [1.99999996] bias= [1.0000002] pred= [5.00000017] error= [2.87498213e-14]\n",
            "weight= [1.99999996] bias= [1.00000018] pred= [7.00000008] error= [6.92957923e-15]\n",
            "weight= [1.99999996] bias= [1.00000018] pred= [9.00000001] error= [6.05163677e-17]\n",
            "weight= [1.99999996] bias= [1.00000019] pred= [10.99999996] error= [1.65815269e-15]\n",
            "weight= [1.99999997] bias= [1.0000002] pred= [12.99999995] error= [2.76660579e-15]\n",
            "weight= [1.99999997] bias= [1.00000021] pred= [14.99999996] error= [1.46524099e-15]\n",
            "weight= [1.99999997] bias= [1.00000021] pred= [16.99999998] error= [4.76176747e-16]\n",
            "weight= [1.99999998] bias= [1.00000022] pred= [18.99999999] error= [2.17440232e-16]\n",
            "weight= [1.99999998] bias= [1.00000022] pred= [20.99999999] error= [1.09711122e-16]\n",
            "In epoch = 79 MSE=0.000000000000\n",
            "weight= [2.] bias= [1.]\n",
            "Test predicted values\n",
            "error= [4.45161547e-11] pred= [23.]\n",
            "error= [1.59842197e-10] pred= [25.]\n",
            "error= [2.75168241e-10] pred= [27.]\n",
            "error= [3.90494283e-10] pred= [29.]\n",
            "error= [5.05820327e-10] pred= [31.]\n"
          ]
        }
      ]
    },
    {
      "cell_type": "code",
      "source": [
        "print(x1*max_x1)\n",
        "print(test)\n",
        "plt.plot(x*max_x, y*max_y,'ro')\n",
        "plt.plot(x*max_x, predicted[0], 'b',label=\"epoch1\")\n",
        "plt.plot(x*max_x, predicted[1], 'g',label=\"epoch2\")\n",
        "plt.plot(x*max_x, predicted[2], 'r',label=\"epoch3\")\n",
        "plt.plot(x*max_x, predicted[3], 'y',label=\"epoch4\")\n",
        "#plt.plot(x*max_x, predicted[9], 'b',label=\"epoch10\")\n",
        "plt.plot(x*max_x, predicted[79], 'g',label=\"epoch80\")\n",
        "plt.plot(x1*max_x1,test,'*')\n",
        "plt.legend()\n",
        "plt.savefig('Linear_regression.png')\n",
        "plt.show()"
      ],
      "metadata": {
        "colab": {
          "base_uri": "https://localhost:8080/",
          "height": 540
        },
        "id": "tcRIlee_eIuv",
        "outputId": "5c77f8ee-4b54-4ba1-e568-423dad288d44"
      },
      "execution_count": null,
      "outputs": [
        {
          "output_type": "stream",
          "name": "stdout",
          "text": [
            "[[11.]\n",
            " [12.]\n",
            " [13.]\n",
            " [14.]\n",
            " [15.]]\n",
            "[22.999999999955483845, 24.999999999840157803, 26.99999999972483176, 28.999999999609505717, 30.999999999494179673]\n"
          ]
        },
        {
          "output_type": "display_data",
          "data": {
            "text/plain": [
              "<Figure size 640x480 with 1 Axes>"
            ],
            "image/png": "[encoded data removed]"
          },
          "metadata": {}
        }
      ]
    },
    {
      "cell_type": "markdown",
      "source": [
        "$$ Linear-Regression(Pytorch) $$"
      ],
      "metadata": {
        "id": "QPeJNrAAd4j4"
      }
    },
    {
      "cell_type": "code",
      "source": [
        "import torch\n",
        "import torch.nn as nn\n",
        "import matplotlib.pyplot as plt\n",
        "\n",
        "# Define the input and output data\n",
        "x = torch.tensor([[1.0], [2.0], [3.0], [4.0],[5.0],[6.0],[7.0],[8.0],[9.0],[10.0]])\n",
        "y = torch.tensor([[3.0], [5.0], [7.0], [9.0],[11.0],[13.0],[15.0],[17.0],[19.0],[21.0]])\n",
        "\n",
        "# Normalize the input and target data\n",
        "x_max = torch.max(x)\n",
        "y_max = torch.max(y)\n",
        "x_norm = x / x_max\n",
        "y_norm = y / y_max\n",
        "\n",
        "# Define the model\n",
        "model = nn.Linear(1, 1)\n",
        "learning_rate = 0.05\n",
        "# Define the loss function\n",
        "loss_fn = nn.MSELoss()\n",
        "optimizer = torch.optim.SGD(model.parameters(), lr=learning_rate)\n",
        "\n",
        "# Define the learning rate and number of epochs\n",
        "\n",
        "num_epochs = 1000\n",
        "predicted = []\n",
        "\n",
        "# Train the model\n",
        "for epoch in range(num_epochs):\n",
        "    # Forward pass\n",
        "    y_hat = model(x_norm)\n",
        "    predicted.append(y_hat*y_max)\n",
        "    loss = loss_fn(y_hat, y_norm) # Compute the loss\n",
        "    model.zero_grad() # Zero the gradients\n",
        "\n",
        "    # Backward pass\n",
        "    loss.backward()\n",
        "    optimizer.step() # Update the weights and biases using gradient descent\n",
        "\n",
        "    # Print the loss for every 100th epoch\n",
        "    if (epoch + 1) % 100 == 0:\n",
        "        print(f\"Epoch [{epoch+1}/{num_epochs}], Loss: {loss.item():.12f}\")\n",
        "\n",
        "# Denormalize the weights and biases\n",
        "w_norm, b_norm = model.parameters()\n",
        "w = w_norm.detach().numpy() * (y_max / x_max).numpy()\n",
        "b = b_norm.detach().numpy() * y_max.numpy()\n",
        "\n",
        "# Print the final weights and biases\n",
        "print(f\"w: {w[0][0]:.8f}, b: {b[0]:.8f}\")\n"
      ],
      "metadata": {
        "colab": {
          "base_uri": "https://localhost:8080/"
        },
        "id": "0y26Kvhceekk",
        "outputId": "9ce5be42-05dd-4ea8-83a6-2253f7b71d86"
      },
      "execution_count": null,
      "outputs": [
        {
          "output_type": "stream",
          "name": "stdout",
          "text": [
            "Epoch [100/1000], Loss: 0.009442606941\n",
            "Epoch [200/1000], Loss: 0.002701494144\n",
            "Epoch [300/1000], Loss: 0.000772885804\n",
            "Epoch [400/1000], Loss: 0.000221118884\n",
            "Epoch [500/1000], Loss: 0.000063261439\n",
            "Epoch [600/1000], Loss: 0.000018098830\n",
            "Epoch [700/1000], Loss: 0.000005177802\n",
            "Epoch [800/1000], Loss: 0.000001481474\n",
            "Epoch [900/1000], Loss: 0.000000423838\n",
            "Epoch [1000/1000], Loss: 0.000000121224\n",
            "w: 1.99749053, b: 1.01471996\n"
          ]
        }
      ]
    },
    {
      "cell_type": "code",
      "source": [
        "# Define some test data\n",
        "x_test = torch.tensor([[11.0], [12.0],[13.0]])\n",
        "y_test = torch.tensor([[23.0], [25.0],[27.0]])\n",
        "\n",
        "# Normalize the test data using the maximum values from the training data\n",
        "x_max1 = torch.max(x_test)\n",
        "y_max1 = torch.max(y_test)\n",
        "x_test_norm = x_test / x_max1\n",
        "y_test_norm = y_test / y_max1\n",
        "\n",
        "# Make predictions on the test data\n",
        "y_test_pred_norm = model(x_test_norm)\n",
        "y_test_pred = y_test_pred_norm * y_max1\n",
        "\n",
        "# Print the test predictions\n",
        "print(\"Test predictions:\")\n",
        "for i in range(len(x_test)):\n",
        "    print(f\"Input: {x_test[i][0]:.2f}, Target: {y_test[i][0]:.2f}, Predicted: {y_test_pred[i][0]:.5f}\")\n"
      ],
      "metadata": {
        "colab": {
          "base_uri": "https://localhost:8080/"
        },
        "id": "ShR5QAm_eqLc",
        "outputId": "bbe864e8-bdf3-4999-b43f-8e7647d344a8"
      },
      "execution_count": null,
      "outputs": [
        {
          "output_type": "stream",
          "name": "stdout",
          "text": [
            "Test predictions:\n",
            "Input: 11.00, Target: 23.00, Predicted: 23.03558\n",
            "Input: 12.00, Target: 25.00, Predicted: 25.01112\n",
            "Input: 13.00, Target: 27.00, Predicted: 26.98666\n"
          ]
        }
      ]
    },
    {
      "cell_type": "code",
      "source": [
        "print(x.size())\n",
        "print(type(predicted[0]))\n",
        "plt.plot(x, y,'ro')\n",
        "plt.plot(x, predicted[0].detach().numpy(), 'b',label=\"epoch1\")\n",
        "plt.plot(x, predicted[100].detach().numpy(), 'g',label=\"epoch100\")\n",
        "plt.plot(x, predicted[200].detach().numpy(), 'r',label=\"epoch200\")\n",
        "plt.plot(x, predicted[300].detach().numpy(), 'y',label=\"epoch300\")\n",
        "plt.plot(x, predicted[400].detach().numpy(), 'g',label=\"epoch400\")\n",
        "plt.plot(x, predicted[999].detach().numpy(), 'p',label=\"epoch1000\")\n",
        "plt.legend()\n",
        "plt.show()"
      ],
      "metadata": {
        "colab": {
          "base_uri": "https://localhost:8080/",
          "height": 300
        },
        "id": "tr0XKqapeuCD",
        "outputId": "75f9b9e8-2914-41b0-a0eb-77ee5907e6ca"
      },
      "execution_count": null,
      "outputs": [
        {
          "output_type": "stream",
          "name": "stdout",
          "text": [
            "torch.Size([10, 1])\n",
            "<class 'torch.Tensor'>\n"
          ]
        },
        {
          "output_type": "display_data",
          "data": {
            "text/plain": [
              "<Figure size 432x288 with 1 Axes>"
            ],
            "image/png": "[encoded data removed]"
          },
          "metadata": {
            "needs_background": "light"
          }
        }
      ]
    },
    {
      "cell_type": "code",
      "source": [
        "import numpy as np\n",
        "\n",
        "# Define input data\n",
        "X = np.array([[0, 0, 1], [0, 1, 1], [1, 0, 1], [1, 1, 1]])\n",
        "print(X)\n",
        "\n",
        "# Define output data\n",
        "y = np.array([[0, 1, 1, 0]]).T\n",
        "\n",
        "# Define hyperparameters\n",
        "learning_rate = 0.1\n",
        "num_epochs = 10000\n",
        "\n",
        "# Define the neural network architecture\n",
        "input_layer_size = X.shape[1]  # 3\n",
        "hidden_layer_size = 4\n",
        "output_layer_size = 1\n",
        "\n",
        "# Initialize weights randomly\n",
        "W1 = 2 * np.random.random((input_layer_size, hidden_layer_size)) - 1\n",
        "W2 = 2 * np.random.random((hidden_layer_size, output_layer_size)) - 1\n",
        "\n",
        "# Define activation function (sigmoid)\n",
        "def sigmoid(x):\n",
        "    return 1 / (1 + np.exp(-x))\n",
        "\n",
        "# Train the neural network\n",
        "for epoch in range(num_epochs):\n",
        "    # Forward propagation\n",
        "    hidden_layer_input = np.dot(X, W1)\n",
        "    hidden_layer_output = sigmoid(hidden_layer_input)\n",
        "    output_layer_input = np.dot(hidden_layer_output, W2)\n",
        "    output_layer_output = sigmoid(output_layer_input)\n",
        "\n",
        "    # Backpropagation\n",
        "    output_layer_error = y - output_layer_output\n",
        "    output_layer_delta = output_layer_error * output_layer_output * (1 - output_layer_output)\n",
        "    hidden_layer_error = output_layer_delta.dot(W2.T)\n",
        "    hidden_layer_delta = hidden_layer_error * hidden_layer_output * (1 - hidden_layer_output)\n",
        "\n",
        "    # Update weights\n",
        "    W2 += learning_rate * hidden_layer_output.T.dot(output_layer_delta)\n",
        "    W1 += learning_rate * X.T.dot(hidden_layer_delta)\n",
        "\n",
        "# Print final predictions\n",
        "print(output_layer_output)\n"
      ],
      "metadata": {
        "colab": {
          "base_uri": "https://localhost:8080/"
        },
        "id": "cSUXQu6EKjUv",
        "outputId": "a8d06406-2b6b-4943-fef6-85e56e70af82"
      },
      "execution_count": null,
      "outputs": [
        {
          "output_type": "stream",
          "name": "stdout",
          "text": [
            "[[0 0 1]\n",
            " [0 1 1]\n",
            " [1 0 1]\n",
            " [1 1 1]]\n",
            "[[0.04228311]\n",
            " [0.96571978]\n",
            " [0.94759435]\n",
            " [0.04883875]]\n"
          ]
        }
      ]
    }
  ]
}