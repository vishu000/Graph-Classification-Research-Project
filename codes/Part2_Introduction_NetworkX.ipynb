{
  "nbformat": 4,
  "nbformat_minor": 0,
  "metadata": {
    "colab": {
      "name": "Part2-Introduction-NetworkX.ipynb",
      "provenance": [],
      "collapsed_sections": [],
      "authorship_tag": "ABX9TyP7pR/5+AY3BnacZ+3kzWK7",
      "include_colab_link": true
    },
    "kernelspec": {
      "name": "python3",
      "display_name": "Python 3"
    },
    "language_info": {
      "name": "python"
    }
  },
  "cells": [
    {
      "cell_type": "markdown",
      "metadata": {
        "id": "view-in-github",
        "colab_type": "text"
      },
      "source": [
        "<a href=\"https://colab.research.google.com/github/prodramp/DeepWorks/blob/main/GraphNeuralNetworks/Part2_Introduction_NetworkX.ipynb\" target=\"_parent\"><img src=\"https://colab.research.google.com/assets/colab-badge.svg\" alt=\"Open In Colab\"/></a>"
      ]
    },
    {
      "cell_type": "code",
      "execution_count": null,
      "metadata": {
        "id": "PyFt-L8fSWHD"
      },
      "outputs": [],
      "source": [
        "import networkx as nx"
      ]
    },
    {
      "cell_type": "code",
      "source": [
        "import matplotlib.pyplot as plt"
      ],
      "metadata": {
        "id": "zaDvgwHpT02S"
      },
      "execution_count": null,
      "outputs": []
    },
    {
      "cell_type": "code",
      "source": [
        "G = nx.Graph()\n",
        "G.add_edge(1, 2)\n",
        "G.add_edge(3, 2)\n",
        "# Adding it later\n",
        "G.add_edge(3,3)\n",
        "nx.draw(G, cmap=plt.get_cmap('viridis'), node_color=G, with_labels=True,)\n",
        "print(nx.is_weighted(G))\n",
        "print(nx.is_directed(G))"
      ],
      "metadata": {
        "id": "h_s9qsGEWYB9"
      },
      "execution_count": null,
      "outputs": []
    },
    {
      "cell_type": "code",
      "source": [
        "nx.to_numpy_matrix(G)"
      ],
      "metadata": {
        "id": "7Z4EKoGaWcYT"
      },
      "execution_count": null,
      "outputs": []
    },
    {
      "cell_type": "code",
      "source": [
        "G = nx.Graph()\n",
        "G.add_edge(1, 2, weight=1)\n",
        "G.add_edge(3, 2, weight=5)\n",
        "# Adding it later\n",
        "G.add_edge(3,3, weight=3)\n",
        "G.add_edge(2,2, weight=6)\n",
        "G.add_edge(1,1, weight=9)\n",
        "nx.draw(G, cmap=plt.get_cmap('viridis'), node_color=G, with_labels=True)\n",
        "print(nx.is_weighted(G))\n",
        "print(nx.is_directed(G))"
      ],
      "metadata": {
        "id": "9M7dGdqxSkIi"
      },
      "execution_count": null,
      "outputs": []
    },
    {
      "cell_type": "code",
      "source": [
        "nx.to_numpy_matrix(G)"
      ],
      "metadata": {
        "id": "tcnR7fmqqSwr"
      },
      "execution_count": null,
      "outputs": []
    },
    {
      "cell_type": "code",
      "source": [
        "nx.to_numpy_matrix(G)"
      ],
      "metadata": {
        "id": "hfMR5aGhWh_9"
      },
      "execution_count": null,
      "outputs": []
    },
    {
      "cell_type": "code",
      "source": [
        "I = nx.incidence_matrix(G)"
      ],
      "metadata": {
        "id": "bCZvC3AeS7Ou"
      },
      "execution_count": null,
      "outputs": []
    },
    {
      "cell_type": "code",
      "source": [
        "I.data"
      ],
      "metadata": {
        "id": "1hA1Sr__TBJR"
      },
      "execution_count": null,
      "outputs": []
    },
    {
      "cell_type": "code",
      "source": [
        "I.todense()"
      ],
      "metadata": {
        "id": "AvHTGPR_aEQW"
      },
      "execution_count": null,
      "outputs": []
    },
    {
      "cell_type": "code",
      "source": [
        "A = nx.adjacency_matrix(G)"
      ],
      "metadata": {
        "id": "Hz0nee9GBeBn"
      },
      "execution_count": null,
      "outputs": []
    },
    {
      "cell_type": "code",
      "source": [
        "A.todense()"
      ],
      "metadata": {
        "id": "7gIBFaaCBhWN"
      },
      "execution_count": null,
      "outputs": []
    },
    {
      "cell_type": "code",
      "source": [
        "A.diagonal()"
      ],
      "metadata": {
        "id": "dzhMDsK_CDi4"
      },
      "execution_count": null,
      "outputs": []
    },
    {
      "cell_type": "code",
      "source": [
        "G = nx.DiGraph()\n",
        "G.add_edge(1, 2, weight=1)\n",
        "G.add_edge(3, 2, weight=5)\n",
        "G.add_edge(3, 1, weight=10)\n",
        "# Adding it later\n",
        "#G.add_edge(3,3)\n",
        "nx.draw(G, cmap=plt.get_cmap('viridis'), node_color=G, with_labels=True,)\n",
        "print(nx.is_weighted(G))\n",
        "print(nx.is_directed(G))"
      ],
      "metadata": {
        "id": "5gS9pFLZSkvj"
      },
      "execution_count": null,
      "outputs": []
    },
    {
      "cell_type": "code",
      "source": [
        "I = nx.incidence_matrix(G)"
      ],
      "metadata": {
        "id": "b2zSUZ56S28h"
      },
      "execution_count": null,
      "outputs": []
    },
    {
      "cell_type": "code",
      "source": [
        "I.data"
      ],
      "metadata": {
        "id": "SG3ctsDoTKsP"
      },
      "execution_count": null,
      "outputs": []
    },
    {
      "cell_type": "code",
      "source": [
        "I.diagonal()"
      ],
      "metadata": {
        "id": "2DP2AM_1TLhz"
      },
      "execution_count": null,
      "outputs": []
    },
    {
      "cell_type": "code",
      "source": [
        "I.todense()"
      ],
      "metadata": {
        "id": "llh9INQ6aKmJ"
      },
      "execution_count": null,
      "outputs": []
    },
    {
      "cell_type": "code",
      "source": [
        "A = nx.adjacency_matrix(G)"
      ],
      "metadata": {
        "id": "PxJNjf33rDyN"
      },
      "execution_count": null,
      "outputs": []
    },
    {
      "cell_type": "code",
      "source": [
        "A.todense()"
      ],
      "metadata": {
        "id": "J_FyjKwJrHSW"
      },
      "execution_count": null,
      "outputs": []
    },
    {
      "cell_type": "code",
      "source": [
        "G = nx.Graph()\n",
        "G.add_edge(1, 2, weight=1)\n",
        "G.add_edge(3, 2, weight=5)\n",
        "# Adding it later\n",
        "G.add_edge(3,3, weight=3)\n",
        "G.add_edge(2,2, weight=6)\n",
        "G.add_edge(1,1, weight=9)\n",
        "nx.draw(G, cmap=plt.get_cmap('viridis'), node_color=G, with_labels=True)\n",
        "print(nx.is_weighted(G))\n",
        "print(nx.is_directed(G))"
      ],
      "metadata": {
        "id": "mtONqZuKCbAB"
      },
      "execution_count": null,
      "outputs": []
    },
    {
      "cell_type": "code",
      "source": [
        "# Node: Try laplacian_matrix with both directed and undirected graph\n",
        "L = nx.laplacian_matrix(G)"
      ],
      "metadata": {
        "id": "GGm9t6VnTQvi"
      },
      "execution_count": null,
      "outputs": []
    },
    {
      "cell_type": "code",
      "source": [
        "L.data"
      ],
      "metadata": {
        "id": "6MqjkbUCULCD"
      },
      "execution_count": null,
      "outputs": []
    },
    {
      "cell_type": "code",
      "source": [
        "L.todense()"
      ],
      "metadata": {
        "id": "mvBerY1WaV0s"
      },
      "execution_count": null,
      "outputs": []
    },
    {
      "cell_type": "code",
      "source": [
        "A = nx.adjacency_matrix(G)"
      ],
      "metadata": {
        "id": "X3ho0BcjUTYx"
      },
      "execution_count": null,
      "outputs": []
    },
    {
      "cell_type": "code",
      "source": [
        "A.data"
      ],
      "metadata": {
        "id": "fmiAMWQmVG0Z"
      },
      "execution_count": null,
      "outputs": []
    },
    {
      "cell_type": "code",
      "source": [
        "A.shape"
      ],
      "metadata": {
        "id": "_atnJyAVVXb9"
      },
      "execution_count": null,
      "outputs": []
    },
    {
      "cell_type": "code",
      "source": [
        "A.todense()"
      ],
      "metadata": {
        "id": "A9XfZB2yaaWS"
      },
      "execution_count": null,
      "outputs": []
    },
    {
      "cell_type": "code",
      "source": [
        "A = nx.to_numpy_matrix(G) "
      ],
      "metadata": {
        "id": "awzm1_lCVHyM"
      },
      "execution_count": null,
      "outputs": []
    },
    {
      "cell_type": "code",
      "source": [
        "A"
      ],
      "metadata": {
        "id": "nXMZAdAPVVIu"
      },
      "execution_count": null,
      "outputs": []
    },
    {
      "cell_type": "code",
      "source": [
        "G.edges"
      ],
      "metadata": {
        "id": "My_xIeR7VvIJ"
      },
      "execution_count": null,
      "outputs": []
    },
    {
      "cell_type": "code",
      "source": [
        "G.nodes"
      ],
      "metadata": {
        "id": "-ePyCwMjV2kB"
      },
      "execution_count": null,
      "outputs": []
    },
    {
      "cell_type": "markdown",
      "source": [
        "# **Representing Graph in class framework**"
      ],
      "metadata": {
        "id": "7w1vSVMXDMqX"
      }
    },
    {
      "cell_type": "code",
      "source": [
        "G = nx.Graph()\n",
        "G.add_edges_from(\n",
        "    [('A', 'B'), ('A', 'C'), ('D', 'B'), ('E', 'C'), ('E', 'F'),\n",
        "     ('B', 'H'), ('B', 'G'), ('B', 'F'), ('C', 'G')])\n",
        "\n",
        "val_map = {'A': 1.0,\n",
        "           'D': 0.5,\n",
        "           'F': 0.7,\n",
        "           'G': 0.9,\n",
        "           'H': 0.0}\n",
        "\n",
        "values = [val_map.get(node, .7) for node in G.nodes()]\n",
        "\n",
        "nx.draw(G, cmap=plt.get_cmap('viridis'), node_color=values, with_labels=True, font_color='white')\n",
        "plt.show()"
      ],
      "metadata": {
        "id": "y8WoJN3LXprF"
      },
      "execution_count": null,
      "outputs": []
    },
    {
      "cell_type": "code",
      "source": [
        "#G = nx.DiGraph() # for Laplacian Matrix you can not use the directed graph\n",
        "G = nx.Graph() \n",
        "G.add_edges_from(\n",
        "    [('A', 'B'), ('A', 'C'), ('B', 'D'), ('C', 'E'), ('C', 'F'),\n",
        "     ('E', 'F'), ('D', 'F'),\n",
        "     ('B', 'B'), ('F', 'F')\n",
        "     ])\n",
        "\n",
        "val_map = {'A': 1.0,\n",
        "           'B': 2.0,\n",
        "           'C': 3.0,\n",
        "           'D': 4.0, 'E': 5.0, 'F': 6.0}\n",
        "values = [val_map.get(node, 0.25) for node in G.nodes()]\n",
        "nx.draw(G, cmap=plt.get_cmap('viridis'), with_labels=True, node_color=values, font_color='red')\n",
        "\n",
        "print(nx.is_weighted(G))\n",
        "print(nx.is_directed(G))"
      ],
      "metadata": {
        "id": "5uXDGIwcV7t0"
      },
      "execution_count": null,
      "outputs": []
    },
    {
      "cell_type": "code",
      "source": [
        "A = nx.adjacency_matrix(G)"
      ],
      "metadata": {
        "id": "7HcvHokIYVPg"
      },
      "execution_count": null,
      "outputs": []
    },
    {
      "cell_type": "code",
      "source": [
        "A.data"
      ],
      "metadata": {
        "id": "UFni9I3yZ4CI"
      },
      "execution_count": null,
      "outputs": []
    },
    {
      "cell_type": "code",
      "source": [
        "print(A.todense())"
      ],
      "metadata": {
        "id": "TmGKagwPZ4qw"
      },
      "execution_count": null,
      "outputs": []
    },
    {
      "cell_type": "code",
      "source": [
        "A.setdiag(A.diagonal())"
      ],
      "metadata": {
        "id": "vMxSyzwoZ-hX"
      },
      "execution_count": null,
      "outputs": []
    },
    {
      "cell_type": "code",
      "source": [
        "print(A.diagonal())"
      ],
      "metadata": {
        "id": "yOjIIvdhbHwF"
      },
      "execution_count": null,
      "outputs": []
    },
    {
      "cell_type": "code",
      "source": [
        "L = nx.laplacian_matrix(G)"
      ],
      "metadata": {
        "id": "wMcLH1GGbI8G"
      },
      "execution_count": null,
      "outputs": []
    },
    {
      "cell_type": "code",
      "source": [
        "L.todense()"
      ],
      "metadata": {
        "id": "hpQbfbQBbaCE"
      },
      "execution_count": null,
      "outputs": []
    },
    {
      "cell_type": "markdown",
      "source": [
        "# **The Example used in the Part 2 Notes**"
      ],
      "metadata": {
        "id": "aqVh4FslbyI4"
      }
    },
    {
      "cell_type": "code",
      "source": [
        "#G = nx.DiGraph() # for Laplacian Matrix you can not use the directed graph\n",
        "G = nx.Graph() \n",
        "G.add_edges_from(\n",
        "    [('A', 'B'), ('A', 'C'), ('B', 'D'), ('C', 'E'), ('C', 'F'),\n",
        "     ('E', 'F'), ('D', 'F'),\n",
        "     ('B', 'B'), ('F', 'F')\n",
        "     ])\n",
        "\n",
        "val_map = {'A': 1.0,\n",
        "           'B': 2.0,\n",
        "           'C': 3.0,\n",
        "           'D': 3.0, 'E': 2.0, 'F': 1.0}\n",
        "values = [val_map.get(node, 0.25) for node in G.nodes()]\n",
        "nx.draw(G, cmap=plt.get_cmap('viridis'), with_labels=True,  node_color=values, font_color='red')\n",
        "\n",
        "print(nx.is_weighted(G))\n",
        "print(nx.is_directed(G))"
      ],
      "metadata": {
        "id": "gW9NglZUbno_",
        "colab": {
          "base_uri": "https://localhost:8080/",
          "height": 353
        },
        "outputId": "90ca9f86-bef9-4c24-90c5-9a058edae64f"
      },
      "execution_count": 61,
      "outputs": [
        {
          "output_type": "stream",
          "name": "stdout",
          "text": [
            "False\n",
            "False\n"
          ]
        },
        {
          "output_type": "display_data",
          "data": {
            "text/plain": [
              "<Figure size 432x288 with 1 Axes>"
            ],
            "image/png": "[encoded data removed]"
          },
          "metadata": {}
        }
      ]
    },
    {
      "cell_type": "code",
      "source": [
        "# Trick\n",
        "#nx.draw(G.to_directed())\n",
        "nx.draw(G.to_directed(), cmap=plt.get_cmap('viridis'), with_labels=True,  node_color=values, font_color='red')"
      ],
      "metadata": {
        "colab": {
          "base_uri": "https://localhost:8080/",
          "height": 319
        },
        "id": "eCTpyuZVYvqL",
        "outputId": "2029d82a-b5fb-4dc7-a57d-a63e68945545"
      },
      "execution_count": 65,
      "outputs": [
        {
          "output_type": "display_data",
          "data": {
            "text/plain": [
              "<Figure size 432x288 with 1 Axes>"
            ],
            "image/png": "[encoded data removed]"
          },
          "metadata": {}
        }
      ]
    },
    {
      "cell_type": "code",
      "source": [
        "I = nx.incidence_matrix(G)"
      ],
      "metadata": {
        "id": "-RgvklTCb1MG"
      },
      "execution_count": 66,
      "outputs": []
    },
    {
      "cell_type": "code",
      "source": [
        "I.todense()"
      ],
      "metadata": {
        "id": "AON6TT_jb40d",
        "colab": {
          "base_uri": "https://localhost:8080/"
        },
        "outputId": "545fcb75-c881-4670-ca35-81139f0aa3f5"
      },
      "execution_count": 67,
      "outputs": [
        {
          "output_type": "execute_result",
          "data": {
            "text/plain": [
              "matrix([[1., 1., 0., 0., 0., 0., 0., 0., 0.],\n",
              "        [1., 0., 1., 0., 0., 0., 0., 0., 0.],\n",
              "        [0., 1., 0., 0., 1., 1., 0., 0., 0.],\n",
              "        [0., 0., 1., 0., 0., 0., 1., 0., 0.],\n",
              "        [0., 0., 0., 0., 1., 0., 0., 1., 0.],\n",
              "        [0., 0., 0., 0., 0., 1., 1., 1., 0.]])"
            ]
          },
          "metadata": {},
          "execution_count": 67
        }
      ]
    },
    {
      "cell_type": "markdown",
      "source": [
        "# **Rendering all nodes and edges**"
      ],
      "metadata": {
        "id": "iV8tAOerfw7m"
      }
    },
    {
      "cell_type": "code",
      "source": [
        " edge_labels={('A', 'B'): 'e1',  ('A', 'C'): 'e2', ('C', 'E'): 'e3', ('E', 'F'): 'e4', ('C', 'F'): 'ef', ('B', 'D'): 'e6', ('D', 'F'): 'e7'\n",
        "  , ('B', 'B'): 'e8', ('F', 'F'): 'e9'\n",
        " }\n",
        " all_edges = [('A', 'B'), ('A', 'C'), ('B', 'D'), ('C', 'E'), ('C', 'F'),\n",
        "     ('E', 'F'), ('D', 'F'),\n",
        "     ('B', 'B'), ('F', 'F')\n",
        "     ]"
      ],
      "metadata": {
        "id": "X_mNIsPbb6JR"
      },
      "execution_count": 68,
      "outputs": []
    },
    {
      "cell_type": "code",
      "source": [
        "#G = nx.DiGraph() # for Laplacian Matrix you can not use the directed graph\n",
        "G = nx.Graph() \n",
        "G.add_edges_from(all_edges)\n",
        "    \n",
        "\n",
        "val_map = {'A': 1.0,\n",
        "           'B': 2.0,\n",
        "           'C': 3.0,\n",
        "           'D': 4.0, 'E': 5.0, 'F': 6.0}\n",
        "values = [val_map.get(node, 0.25) for node in G.nodes()]\n",
        "\n",
        "pos = nx.spring_layout(G)\n",
        "plt.figure(figsize=(12,6))\n",
        "nx.draw(\n",
        "    G, pos, edge_color='black', width=1, linewidths=1,\n",
        "    node_size=500, node_color=values, alpha=0.9,\n",
        "    labels={node: node for node in G.nodes()}\n",
        ")\n",
        "nx.draw_networkx_edge_labels(\n",
        "    G, pos,\n",
        "    edge_labels=edge_labels,\n",
        "    font_color='red'\n",
        ")\n",
        "plt.axis('off')\n",
        "plt.show()\n",
        "print(nx.is_weighted(G))\n",
        "print(nx.is_directed(G))"
      ],
      "metadata": {
        "id": "2YsZvqNxeGK8",
        "colab": {
          "base_uri": "https://localhost:8080/",
          "height": 497
        },
        "outputId": "b1908e0e-4645-49fb-cd37-2c28e87d55c9"
      },
      "execution_count": 69,
      "outputs": [
        {
          "output_type": "display_data",
          "data": {
            "text/plain": [
              "<Figure size 864x432 with 1 Axes>"
            ],
            "image/png": "[encoded data removed]"
          },
          "metadata": {}
        },
        {
          "output_type": "stream",
          "name": "stdout",
          "text": [
            "False\n",
            "False\n"
          ]
        }
      ]
    },
    {
      "cell_type": "code",
      "source": [
        "print(G.number_of_nodes())\n",
        "print(G.number_of_edges())"
      ],
      "metadata": {
        "colab": {
          "base_uri": "https://localhost:8080/"
        },
        "id": "D18e6uHmWA6l",
        "outputId": "0abc4f61-242c-4589-bd5b-6ef5b6a98c45"
      },
      "execution_count": 70,
      "outputs": [
        {
          "output_type": "stream",
          "name": "stdout",
          "text": [
            "6\n",
            "9\n"
          ]
        }
      ]
    },
    {
      "cell_type": "code",
      "source": [
        "nx.to_numpy_matrix(G)"
      ],
      "metadata": {
        "colab": {
          "base_uri": "https://localhost:8080/"
        },
        "id": "498BA-jznDug",
        "outputId": "5a930ae4-bf6b-4c9a-c771-5e8bbd6bebc4"
      },
      "execution_count": 72,
      "outputs": [
        {
          "output_type": "execute_result",
          "data": {
            "text/plain": [
              "matrix([[0., 1., 1., 0., 0., 0.],\n",
              "        [1., 1., 0., 1., 0., 0.],\n",
              "        [1., 0., 0., 0., 1., 1.],\n",
              "        [0., 1., 0., 0., 0., 1.],\n",
              "        [0., 0., 1., 0., 0., 1.],\n",
              "        [0., 0., 1., 1., 1., 1.]])"
            ]
          },
          "metadata": {},
          "execution_count": 72
        }
      ]
    },
    {
      "cell_type": "code",
      "source": [
        "nx.to_numpy_matrix(G.to_directed())"
      ],
      "metadata": {
        "id": "pL__Be-Lei7a",
        "colab": {
          "base_uri": "https://localhost:8080/"
        },
        "outputId": "a386e0ca-851f-49b9-a5fb-b73f492c82b5"
      },
      "execution_count": 71,
      "outputs": [
        {
          "output_type": "execute_result",
          "data": {
            "text/plain": [
              "matrix([[0., 1., 1., 0., 0., 0.],\n",
              "        [1., 1., 0., 1., 0., 0.],\n",
              "        [1., 0., 0., 0., 1., 1.],\n",
              "        [0., 1., 0., 0., 0., 1.],\n",
              "        [0., 0., 1., 0., 0., 1.],\n",
              "        [0., 0., 1., 1., 1., 1.]])"
            ]
          },
          "metadata": {},
          "execution_count": 71
        }
      ]
    },
    {
      "cell_type": "markdown",
      "source": [
        "## **Adjacency Matrix**"
      ],
      "metadata": {
        "id": "lFkUuLfwhtdW"
      }
    },
    {
      "cell_type": "code",
      "source": [
        "A = nx.adjacency_matrix(G)"
      ],
      "metadata": {
        "id": "OvruowU2fnip"
      },
      "execution_count": 73,
      "outputs": []
    },
    {
      "cell_type": "code",
      "source": [
        "A.todense()"
      ],
      "metadata": {
        "id": "LUAAWjFPglU7",
        "colab": {
          "base_uri": "https://localhost:8080/"
        },
        "outputId": "0f9971a7-7297-4b63-e9dd-6fcf3f50e580"
      },
      "execution_count": 74,
      "outputs": [
        {
          "output_type": "execute_result",
          "data": {
            "text/plain": [
              "matrix([[0, 1, 1, 0, 0, 0],\n",
              "        [1, 1, 0, 1, 0, 0],\n",
              "        [1, 0, 0, 0, 1, 1],\n",
              "        [0, 1, 0, 0, 0, 1],\n",
              "        [0, 0, 1, 0, 0, 1],\n",
              "        [0, 0, 1, 1, 1, 1]], dtype=int64)"
            ]
          },
          "metadata": {},
          "execution_count": 74
        }
      ]
    },
    {
      "cell_type": "code",
      "source": [
        "A.diagonal()"
      ],
      "metadata": {
        "id": "q32XWB0jhxWc",
        "colab": {
          "base_uri": "https://localhost:8080/"
        },
        "outputId": "d0d232e0-9e8b-4f64-f4ec-f5d1bfb42587"
      },
      "execution_count": 75,
      "outputs": [
        {
          "output_type": "execute_result",
          "data": {
            "text/plain": [
              "array([0, 1, 0, 0, 0, 1], dtype=int64)"
            ]
          },
          "metadata": {},
          "execution_count": 75
        }
      ]
    },
    {
      "cell_type": "code",
      "source": [
        "for line in nx.generate_adjlist(G):\n",
        "  print(line)"
      ],
      "metadata": {
        "colab": {
          "base_uri": "https://localhost:8080/"
        },
        "id": "C2cHKc6ybRK6",
        "outputId": "7163f0eb-eb67-471e-e08c-ef81d07be02a"
      },
      "execution_count": 76,
      "outputs": [
        {
          "output_type": "stream",
          "name": "stdout",
          "text": [
            "A B C\n",
            "B D B\n",
            "C E F\n",
            "D F\n",
            "E F\n",
            "F F\n"
          ]
        }
      ]
    },
    {
      "cell_type": "markdown",
      "source": [
        "# **Listing all adjecent nodes**"
      ],
      "metadata": {
        "id": "OwPiYL3mlHwO"
      }
    },
    {
      "cell_type": "code",
      "source": [
        "def get_adjanct_list_with_all_edges(graph_val):\n",
        "     for s, neighbors in graph_val.adjacency():\n",
        "        line = str(s) + ' : '\n",
        "        for t, data in neighbors.items():\n",
        "                line += str(t) + ' - '\n",
        "        yield line[: -len(' ')]"
      ],
      "metadata": {
        "id": "Y1Ta93EvbcPl"
      },
      "execution_count": 77,
      "outputs": []
    },
    {
      "cell_type": "code",
      "source": [
        "for line in get_adjanct_list_with_all_edges(G):\n",
        "    print(line)"
      ],
      "metadata": {
        "colab": {
          "base_uri": "https://localhost:8080/"
        },
        "id": "oBFrA1r5bgMu",
        "outputId": "95caf0e4-4573-4142-f042-a244342a2126"
      },
      "execution_count": 78,
      "outputs": [
        {
          "output_type": "stream",
          "name": "stdout",
          "text": [
            "A : B - C -\n",
            "B : A - D - B -\n",
            "C : A - E - F -\n",
            "D : B - F -\n",
            "E : C - F -\n",
            "F : C - E - D - F -\n"
          ]
        }
      ]
    },
    {
      "cell_type": "code",
      "source": [
        ""
      ],
      "metadata": {
        "id": "rWLoGi_YWygB"
      },
      "execution_count": null,
      "outputs": []
    },
    {
      "cell_type": "markdown",
      "source": [
        "# **Incidence Matrix**"
      ],
      "metadata": {
        "id": "u-dACxjzhwmJ"
      }
    },
    {
      "cell_type": "code",
      "source": [
        "I = nx.incidence_matrix(G)"
      ],
      "metadata": {
        "id": "bAvjBHpxgmnd"
      },
      "execution_count": 79,
      "outputs": []
    },
    {
      "cell_type": "code",
      "source": [
        "I.todense()"
      ],
      "metadata": {
        "id": "FsUXA8Jrgpi7",
        "colab": {
          "base_uri": "https://localhost:8080/"
        },
        "outputId": "8f40b0d3-768f-403e-fe16-0b3da9e38b31"
      },
      "execution_count": 80,
      "outputs": [
        {
          "output_type": "execute_result",
          "data": {
            "text/plain": [
              "matrix([[1., 1., 0., 0., 0., 0., 0., 0., 0.],\n",
              "        [1., 0., 1., 0., 0., 0., 0., 0., 0.],\n",
              "        [0., 1., 0., 0., 1., 1., 0., 0., 0.],\n",
              "        [0., 0., 1., 0., 0., 0., 1., 0., 0.],\n",
              "        [0., 0., 0., 0., 1., 0., 0., 1., 0.],\n",
              "        [0., 0., 0., 0., 0., 1., 1., 1., 0.]])"
            ]
          },
          "metadata": {},
          "execution_count": 80
        }
      ]
    },
    {
      "cell_type": "markdown",
      "source": [
        "# **Node Degree**"
      ],
      "metadata": {
        "id": "VsUAzhnOh4bC"
      }
    },
    {
      "cell_type": "code",
      "source": [
        "G.degree()"
      ],
      "metadata": {
        "id": "3WxNXxy6gqmi",
        "colab": {
          "base_uri": "https://localhost:8080/"
        },
        "outputId": "f67fa1ec-6f9b-42be-906d-0f033624bb2f"
      },
      "execution_count": 81,
      "outputs": [
        {
          "output_type": "execute_result",
          "data": {
            "text/plain": [
              "DegreeView({'A': 2, 'B': 4, 'C': 3, 'D': 2, 'E': 2, 'F': 5})"
            ]
          },
          "metadata": {},
          "execution_count": 81
        }
      ]
    },
    {
      "cell_type": "markdown",
      "source": [
        "# **Laplacian Matrix**"
      ],
      "metadata": {
        "id": "jLVUN3nph_VX"
      }
    },
    {
      "cell_type": "code",
      "source": [
        "L = nx.laplacian_matrix(G)"
      ],
      "metadata": {
        "id": "XYmoE8v2gxLH"
      },
      "execution_count": 82,
      "outputs": []
    },
    {
      "cell_type": "code",
      "source": [
        "L.todense()"
      ],
      "metadata": {
        "id": "a9ldOzE-gyYG",
        "colab": {
          "base_uri": "https://localhost:8080/"
        },
        "outputId": "d41fd65a-b5c6-4c96-91ce-651ac05dc14d"
      },
      "execution_count": 83,
      "outputs": [
        {
          "output_type": "execute_result",
          "data": {
            "text/plain": [
              "matrix([[ 2, -1, -1,  0,  0,  0],\n",
              "        [-1,  2,  0, -1,  0,  0],\n",
              "        [-1,  0,  3,  0, -1, -1],\n",
              "        [ 0, -1,  0,  2,  0, -1],\n",
              "        [ 0,  0, -1,  0,  2, -1],\n",
              "        [ 0,  0, -1, -1, -1,  3]], dtype=int64)"
            ]
          },
          "metadata": {},
          "execution_count": 83
        }
      ]
    },
    {
      "cell_type": "code",
      "source": [
        "L.todense().diagonal()"
      ],
      "metadata": {
        "id": "gQENRI9Qh-EB",
        "colab": {
          "base_uri": "https://localhost:8080/"
        },
        "outputId": "cedbf441-20f4-4ed4-96f6-2b69216fd3e5"
      },
      "execution_count": 84,
      "outputs": [
        {
          "output_type": "execute_result",
          "data": {
            "text/plain": [
              "matrix([[2, 2, 3, 2, 2, 3]], dtype=int64)"
            ]
          },
          "metadata": {},
          "execution_count": 84
        }
      ]
    },
    {
      "cell_type": "markdown",
      "source": [
        "# **Graph Walking**\n",
        "- Traversing the graph through the connected nodes\n",
        "- Reference: https://www.analyticsvidhya.com/blog/2019/11/graph-feature-extraction-deepwalk/"
      ],
      "metadata": {
        "id": "N0eNhkkyshAt"
      }
    },
    {
      "cell_type": "code",
      "source": [
        "import random\n",
        "def get_randomwalk(graph_val, node, path_length):\n",
        "    \n",
        "    random_walk = [node]\n",
        "    \n",
        "    for i in range(path_length-1):\n",
        "        temp = list(graph_val.neighbors(node))\n",
        "        temp = list(set(temp) - set(random_walk))    \n",
        "        if len(temp) == 0:\n",
        "            break\n",
        "\n",
        "        random_node = random.choice(temp)\n",
        "        random_walk.append(random_node)\n",
        "        node = random_node\n",
        "        \n",
        "    return random_walk"
      ],
      "metadata": {
        "id": "QGPRusuuUqqc"
      },
      "execution_count": 95,
      "outputs": []
    },
    {
      "cell_type": "code",
      "source": [
        "get_randomwalk(G, 'E', 5)"
      ],
      "metadata": {
        "colab": {
          "base_uri": "https://localhost:8080/"
        },
        "id": "DTCVYyh0r8oC",
        "outputId": "874c33b0-90c4-444a-ce18-2922a21088a6"
      },
      "execution_count": 107,
      "outputs": [
        {
          "output_type": "execute_result",
          "data": {
            "text/plain": [
              "['E', 'C', 'F', 'D', 'B']"
            ]
          },
          "metadata": {},
          "execution_count": 107
        }
      ]
    },
    {
      "cell_type": "code",
      "source": [
        "from tqdm import tqdm\n",
        "# get list of all nodes from the graph\n",
        "all_nodes = list(G.nodes())\n",
        "\n",
        "random_walks = []\n",
        "for n in tqdm(all_nodes):\n",
        "    for i in range(10):\n",
        "        random_walks.append(get_randomwalk(G, n, i))\n",
        "        \n",
        "# count of sequences\n",
        "len(random_walks)"
      ],
      "metadata": {
        "colab": {
          "base_uri": "https://localhost:8080/"
        },
        "id": "mb4CURc4r_zu",
        "outputId": "32763309-178f-468f-c95d-058481554ce9"
      },
      "execution_count": 122,
      "outputs": [
        {
          "output_type": "stream",
          "name": "stderr",
          "text": [
            "100%|██████████| 6/6 [00:00<00:00, 3017.48it/s]\n"
          ]
        },
        {
          "output_type": "execute_result",
          "data": {
            "text/plain": [
              "60"
            ]
          },
          "metadata": {},
          "execution_count": 122
        }
      ]
    },
    {
      "cell_type": "code",
      "source": [
        ""
      ],
      "metadata": {
        "id": "VtBGeI7WsbrA"
      },
      "execution_count": null,
      "outputs": []
    }
  ]
}